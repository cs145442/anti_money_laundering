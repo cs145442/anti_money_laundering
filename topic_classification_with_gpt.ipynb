{
  "nbformat": 4,
  "nbformat_minor": 0,
  "metadata": {
    "colab": {
      "name": "topic_classification_with_gpt.ipynb",
      "provenance": [],
      "authorship_tag": "ABX9TyO0qwkT3S2mfOFh7vc9SKVd",
      "include_colab_link": true
    },
    "kernelspec": {
      "name": "python3",
      "display_name": "Python 3"
    }
  },
  "cells": [
    {
      "cell_type": "markdown",
      "metadata": {
        "id": "view-in-github",
        "colab_type": "text"
      },
      "source": [
        "<a href=\"https://colab.research.google.com/github/cs145442/nlp-projects-with-tf2/blob/master/topic_classification_with_gpt.ipynb\" target=\"_parent\"><img src=\"https://colab.research.google.com/assets/colab-badge.svg\" alt=\"Open In Colab\"/></a>"
      ]
    },
    {
      "cell_type": "code",
      "metadata": {
        "id": "0z-nYuPO_a7G",
        "colab_type": "code",
        "colab": {
          "base_uri": "https://localhost:8080/",
          "height": 615
        },
        "outputId": "50a44f46-edd7-4b96-fbfb-d07ec1289ac0"
      },
      "source": [
        "!pip install transformers"
      ],
      "execution_count": 4,
      "outputs": [
        {
          "output_type": "stream",
          "text": [
            "Collecting transformers\n",
            "\u001b[?25l  Downloading https://files.pythonhosted.org/packages/48/35/ad2c5b1b8f99feaaf9d7cdadaeef261f098c6e1a6a2935d4d07662a6b780/transformers-2.11.0-py3-none-any.whl (674kB)\n",
            "\u001b[K     |████████████████████████████████| 675kB 4.7MB/s \n",
            "\u001b[?25hCollecting sacremoses\n",
            "\u001b[?25l  Downloading https://files.pythonhosted.org/packages/7d/34/09d19aff26edcc8eb2a01bed8e98f13a1537005d31e95233fd48216eed10/sacremoses-0.0.43.tar.gz (883kB)\n",
            "\u001b[K     |████████████████████████████████| 890kB 18.3MB/s \n",
            "\u001b[?25hRequirement already satisfied: packaging in /usr/local/lib/python3.6/dist-packages (from transformers) (20.4)\n",
            "Collecting sentencepiece\n",
            "\u001b[?25l  Downloading https://files.pythonhosted.org/packages/d4/a4/d0a884c4300004a78cca907a6ff9a5e9fe4f090f5d95ab341c53d28cbc58/sentencepiece-0.1.91-cp36-cp36m-manylinux1_x86_64.whl (1.1MB)\n",
            "\u001b[K     |████████████████████████████████| 1.1MB 35.5MB/s \n",
            "\u001b[?25hRequirement already satisfied: numpy in /usr/local/lib/python3.6/dist-packages (from transformers) (1.18.5)\n",
            "Requirement already satisfied: filelock in /usr/local/lib/python3.6/dist-packages (from transformers) (3.0.12)\n",
            "Requirement already satisfied: requests in /usr/local/lib/python3.6/dist-packages (from transformers) (2.23.0)\n",
            "Requirement already satisfied: tqdm>=4.27 in /usr/local/lib/python3.6/dist-packages (from transformers) (4.41.1)\n",
            "Requirement already satisfied: regex!=2019.12.17 in /usr/local/lib/python3.6/dist-packages (from transformers) (2019.12.20)\n",
            "Collecting tokenizers==0.7.0\n",
            "\u001b[?25l  Downloading https://files.pythonhosted.org/packages/14/e5/a26eb4716523808bb0a799fcfdceb6ebf77a18169d9591b2f46a9adb87d9/tokenizers-0.7.0-cp36-cp36m-manylinux1_x86_64.whl (3.8MB)\n",
            "\u001b[K     |████████████████████████████████| 3.8MB 46.6MB/s \n",
            "\u001b[?25hRequirement already satisfied: dataclasses; python_version < \"3.7\" in /usr/local/lib/python3.6/dist-packages (from transformers) (0.7)\n",
            "Requirement already satisfied: six in /usr/local/lib/python3.6/dist-packages (from sacremoses->transformers) (1.12.0)\n",
            "Requirement already satisfied: click in /usr/local/lib/python3.6/dist-packages (from sacremoses->transformers) (7.1.2)\n",
            "Requirement already satisfied: joblib in /usr/local/lib/python3.6/dist-packages (from sacremoses->transformers) (0.15.1)\n",
            "Requirement already satisfied: pyparsing>=2.0.2 in /usr/local/lib/python3.6/dist-packages (from packaging->transformers) (2.4.7)\n",
            "Requirement already satisfied: chardet<4,>=3.0.2 in /usr/local/lib/python3.6/dist-packages (from requests->transformers) (3.0.4)\n",
            "Requirement already satisfied: idna<3,>=2.5 in /usr/local/lib/python3.6/dist-packages (from requests->transformers) (2.9)\n",
            "Requirement already satisfied: urllib3!=1.25.0,!=1.25.1,<1.26,>=1.21.1 in /usr/local/lib/python3.6/dist-packages (from requests->transformers) (1.24.3)\n",
            "Requirement already satisfied: certifi>=2017.4.17 in /usr/local/lib/python3.6/dist-packages (from requests->transformers) (2020.4.5.1)\n",
            "Building wheels for collected packages: sacremoses\n",
            "  Building wheel for sacremoses (setup.py) ... \u001b[?25l\u001b[?25hdone\n",
            "  Created wheel for sacremoses: filename=sacremoses-0.0.43-cp36-none-any.whl size=893260 sha256=ef1200caacbd9b9642374609cded70ca7566af87d136bcadb57384936ae2f417\n",
            "  Stored in directory: /root/.cache/pip/wheels/29/3c/fd/7ce5c3f0666dab31a50123635e6fb5e19ceb42ce38d4e58f45\n",
            "Successfully built sacremoses\n",
            "Installing collected packages: sacremoses, sentencepiece, tokenizers, transformers\n",
            "Successfully installed sacremoses-0.0.43 sentencepiece-0.1.91 tokenizers-0.7.0 transformers-2.11.0\n"
          ],
          "name": "stdout"
        }
      ]
    },
    {
      "cell_type": "code",
      "metadata": {
        "id": "KHM1DGqz-iS_",
        "colab_type": "code",
        "colab": {}
      },
      "source": [
        "# load the sentence-bert model from the HuggingFace model hub\n",
        "from transformers import AutoTokenizer, AutoModel\n",
        "from torch.nn import functional as F\n",
        "tokenizer = AutoTokenizer.from_pretrained('deepset/sentence_bert')\n",
        "model = AutoModel.from_pretrained('deepset/sentence_bert')"
      ],
      "execution_count": 0,
      "outputs": []
    },
    {
      "cell_type": "code",
      "metadata": {
        "id": "pDDcnOFbEAVL",
        "colab_type": "code",
        "colab": {}
      },
      "source": [
        "\n",
        "def predict_labels(sentence: str, labels: list):\n",
        "  # run inputs through model and mean-pool over the sequence\n",
        "  # dimension to get sequence-level representations\n",
        "  inputs = tokenizer.batch_encode_plus([sentence] + labels,\n",
        "                                      return_tensors='pt',\n",
        "                                      pad_to_max_length=True)\n",
        "  input_ids = inputs['input_ids']\n",
        "  attention_mask = inputs['attention_mask']\n",
        "  output = model(input_ids, attention_mask=attention_mask)[0]\n",
        "  sentence_rep = output[:1].mean(dim=1)\n",
        "  label_reps = output[1:].mean(dim=1)\n",
        "\n",
        "  # now find the labels with the highest cosine similarities to\n",
        "  # the sentence\n",
        "  similarities = F.cosine_similarity(sentence_rep, label_reps)\n",
        "  closest = similarities.argsort(descending=True)\n",
        "  for ind in closest:\n",
        "      print('label: ' + labels[ind] + '\\t ' + 'similarity: ' + \"{:.2e}\".format(similarities[ind]))"
      ],
      "execution_count": 0,
      "outputs": []
    },
    {
      "cell_type": "code",
      "metadata": {
        "id": "pcYFWjFL-vqG",
        "colab_type": "code",
        "colab": {}
      },
      "source": [
        "labels = ['sports', 'late', 'sick', 'caring', 'anger']"
      ],
      "execution_count": 0,
      "outputs": []
    },
    {
      "cell_type": "code",
      "metadata": {
        "id": "nmQa46hm-ziW",
        "colab_type": "code",
        "colab": {}
      },
      "source": [
        "sentences = [\"Tom bought a ticket to witness his first ever football match in the indoor stadium. He went to the match and enjoyed a lot.\",\n",
        "             \"Last night while returning from office, tom got drenched in the rain. The next morning, he had fever and had to take a day off from his work.\",\n",
        "             \"Tom visits the old age home near Marathahalli every Saturday. He loves to spend time at the old age home by serving food, playing with them and making them laugh\",\n",
        "             \"Tom was going to office in his brand-new car. At one of the red lights, a car banged his car from the back. Tom got out of his car and scolded the driver of the other car. \",\n",
        "             \"I am a social worker and have been taking multiple awareness initiatives during the current COVID-19 situation. I had an important meeting with the Chief Minister of Bengaluru at 10:00 am on 05 Jun 2020 to discuss on various possible options to increase the awareness level within the Government workers. I started from my house in my car at 8:30 am considering that in the current lock down situation the roads would be empty. However, I noticed that there was huge traffic at multiple points. By the time I reached the chief minister office, the meeting had already commenced with other stakeholders as per the scheduled timeline.\",\n",
        "             ]"
      ],
      "execution_count": 0,
      "outputs": []
    },
    {
      "cell_type": "code",
      "metadata": {
        "id": "zPQxT-jU-z7G",
        "colab_type": "code",
        "colab": {
          "base_uri": "https://localhost:8080/",
          "height": 632
        },
        "outputId": "ce046e31-19be-44f4-f21c-8c98d3043ae1"
      },
      "source": [
        "for sentence in sentences:\n",
        "  print(\"-\"*50)\n",
        "  print(sentence)\n",
        "  predict_labels(sentence, labels)"
      ],
      "execution_count": 22,
      "outputs": [
        {
          "output_type": "stream",
          "text": [
            "--------------------------------------------------\n",
            "Tom bought a ticket to witness his first ever football match in the indoor stadium. He went to the match and enjoyed a lot.\n",
            "label: sports\t similarity: 1.06e-01\n",
            "label: caring\t similarity: -1.88e-02\n",
            "label: late\t similarity: -7.67e-02\n",
            "label: anger\t similarity: -1.01e-01\n",
            "label: sick\t similarity: -1.40e-01\n",
            "--------------------------------------------------\n",
            "Last night while returning from office, tom got drenched in the rain. The next morning, he had fever and had to take a day off from his work.\n",
            "label: sick\t similarity: 1.96e-01\n",
            "label: late\t similarity: 1.13e-01\n",
            "label: anger\t similarity: 8.80e-02\n",
            "label: sports\t similarity: -1.35e-01\n",
            "label: caring\t similarity: -1.53e-01\n",
            "--------------------------------------------------\n",
            "Tom visits the old age home near Marathahalli every Saturday. He loves to spend time at the old age home by serving food, playing with them and making them laugh\n",
            "label: caring\t similarity: 1.55e-01\n",
            "label: anger\t similarity: 1.61e-02\n",
            "label: sports\t similarity: 1.13e-02\n",
            "label: sick\t similarity: -2.90e-02\n",
            "label: late\t similarity: -4.09e-02\n",
            "--------------------------------------------------\n",
            "Tom was going to office in his brand-new car. At one of the red lights, a car banged his car from the back. Tom got out of his car and scolded the driver of the other car. \n",
            "label: anger\t similarity: 5.98e-02\n",
            "label: sick\t similarity: -4.29e-02\n",
            "label: late\t similarity: -1.05e-01\n",
            "label: sports\t similarity: -1.37e-01\n",
            "label: caring\t similarity: -2.13e-01\n",
            "--------------------------------------------------\n",
            "I am a social worker and have been taking multiple awareness initiatives during the current COVID-19 situation. I had an important meeting with the Chief Minister of Bengaluru at 10:00 am on 05 Jun 2020 to discuss on various possible options to increase the awareness level within the Government workers. I started from my house in my car at 8:30 am considering that in the current lock down situation the roads would be empty. However, I noticed that there was huge traffic at multiple points. By the time I reached the chief minister office, the meeting had already commenced with other stakeholders as per the scheduled timeline.\n",
            "label: late\t similarity: -2.61e-02\n",
            "label: anger\t similarity: -2.62e-02\n",
            "label: sports\t similarity: -4.03e-02\n",
            "label: sick\t similarity: -6.68e-02\n",
            "label: caring\t similarity: -1.03e-01\n"
          ],
          "name": "stdout"
        }
      ]
    },
    {
      "cell_type": "code",
      "metadata": {
        "id": "DJJ6SLAr_XvY",
        "colab_type": "code",
        "colab": {}
      },
      "source": [
        ""
      ],
      "execution_count": 0,
      "outputs": []
    }
  ]
}