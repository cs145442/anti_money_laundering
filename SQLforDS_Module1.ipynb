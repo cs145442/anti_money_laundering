{
  "nbformat": 4,
  "nbformat_minor": 0,
  "metadata": {
    "colab": {
      "name": "SQLforDS-Module1.ipynb",
      "provenance": []
    },
    "kernelspec": {
      "name": "python3",
      "display_name": "Python 3"
    }
  },
  "cells": [
    {
      "cell_type": "markdown",
      "metadata": {
        "id": "u7b624XMuS9S",
        "colab_type": "text"
      },
      "source": [
        "---\n",
        "\n",
        "1. Course Introduction:\n",
        "\n",
        "---\n",
        "\n",
        "Hi, I'm Amit Khetan. I'm a Data Scientist with expertise in NLP and working with product based companies to enable Cognitive Search, Question Answering and Chatbots.\n",
        "\n",
        "  As data collection has increased exponentially, so has the need for people skilled at using and interacting with data; to be able to think critically, and provide insights to make better decisions and optimize their businesses. This is a data scientist, “part mathematician, part computer scientist, and part trend spotter” (SAS Institute, Inc.). According to Glassdoor, being a data scientist is the best job in America; with a median base salary of $110,000 and thousands of job openings at a time. \n",
        "\n",
        "Data is everywhere. Data is being stored from what website you visit, searches you make on internet, advertisement you like, and etc. \n",
        "\n",
        "As you've participated in this course, we'll delving deep into specialisation of SQL which is one of the building blocks of practising Data Science. \n",
        "\n",
        "The skills necessary to be a good data scientist include being able to retrieve and work with data, and to do that you need to be well versed in SQL, the standard language for communicating with database systems. This course is designed to give you a primer in the fundamentals of SQL and working with data so that you can begin analyzing it for data science purposes. You will begin to ask the right questions and come up with good answers to deliver valuable insights for your organization. This course starts with the basics and assumes you do not have any knowledge or skills in SQL. It will build on that foundation and gradually have you write both simple and complex queries to help you select data from tables. You'll start to work with different types of data like strings and numbers and discuss methods to filter and pare down your results. You will create new tables and be able to move data into them. You will learn common operators and how to combine the data. You will use case statements and concepts like data governance and profiling. You will discuss topics on data, and practice using real-world programming assignments. You will interpret the structure, meaning, and relationships in source data and use SQL as a professional to shape your data for targeted analysis purposes. Although we do not have any specific prerequisites or software requirements to take this course, a simple text editor is recommended for the final project. So what are you waiting for? This is your first step in landing a job in the best occupation in the US and soon the world!\n"
      ]
    },
    {
      "cell_type": "markdown",
      "metadata": {
        "id": "qQbs4ZKlWM3R",
        "colab_type": "text"
      },
      "source": [
        "---\n",
        "\n",
        "2. Module Introduction\n",
        "\n",
        "---\n",
        "\n",
        "Welcome to our first module. I'm going to assume that most of you are brand new to SQL. So new, frankly that you might not even know what SQL really is other than a computer language used to talk to databases. So in this module, we're going to start there, and we'll define SQL and discuss how SQL differs from other computer languages. I'll also explain the various ways that SQL is used within a database. From there, we'll compare and contrast the roles of a database administrator and a data scientist and explain the differences between one-to-one, one-to-many, and many-to-many relationships with the database. Once we've covered that, we'll learn our first statement, select, talk about some of the basic syntax rules and go over the importance of commenting in your code, so that you can start working on and writing some simple queries right away. I know you're eager to begin and so am I. So let's get started."
      ]
    },
    {
      "cell_type": "markdown",
      "metadata": {
        "id": "VVU-l_6rWFCs",
        "colab_type": "text"
      },
      "source": [
        "---\n",
        "\n",
        "**3. What is SQL Anyway?**\n",
        "\n",
        "---\n"
      ]
    },
    {
      "cell_type": "markdown",
      "metadata": {
        "id": "kZAK28J7bfPv",
        "colab_type": "text"
      },
      "source": [
        "---\n",
        "\n",
        "**4. Data Models, Part 1: Thinking about your data**\n",
        "\n",
        "---\n"
      ]
    },
    {
      "cell_type": "markdown",
      "metadata": {
        "id": "gKndr3OPb1Qm",
        "colab_type": "text"
      },
      "source": [
        "---\n",
        "\n",
        "**5. Data Models, Part 2: The Evolution of Data Models**\n",
        "\n",
        "---\n",
        "\n",
        "\n",
        "Welcome back. In this sub-module, we're going to continue where we left off in our last sub-module, by talking a little bit about the evolution of data modeling, and consequently, SQL database systems themselves. It's actually a pretty interesting history, that really begins in the 1960s as computers were really coming into their own as a business and research tool. After this particular lesson, you should be able to describe what data modeling is, define a relational database system and discuss advent of the relational databases in SQL. Data modelling is what we use to organize information for multiple tables and how they relate to each other together. This helps tremendously in providing structure to the information in the system. Usually a data model represents a business process and it can also help you understand a business process. A lot of times you'll work with a business person in understanding the data and how it fits together. But at the same time, that business person will learn a lot from the data modeller to better understand how their business actually works together by seeing the data and how it interacts with each other. The thing to remember about data models is that it should always represent a real world problem as closely as possible. There are couple different types of models, and there has been an evolution of data models. When I talk about data models here, it's important to realize the difference between a model for prediction, which data scientist often build, versus a data model, which is really a way that the tables are represented and organized in a database. The evolution of data models has gone on since the 1960s. There's been hierarchical, network, relational, entity, relational semantic, and NoSql. I'm not going to go into great detail into all of these different types of data models. If this is interesting to you, I definitely recommend you do your own research. It's widely available on the internet and it will only help you in other aspects of working with data. I'm just going to briefly talk a little bit about the relational and NoSql. The reason I'm talking about the relational is this is what we're going to work with a lot when writing SQL queries. The benefits of a relational model is that they really simplify the connections between the data. And what it does is easily allow you to write queries against it, retrieve it, update and write data to it. NoSQL came onto the scene around 2009, it was really part of the Big Data movement that you may have heard something about. I think it's important to understand that NoSQL is out there especially as you are learning the SQL course. I think it's also important to realize the differences between the other data models and NoSQL. Just to touch on SQL in a Big Data world, NoSQL is really a mechanism for storage and retrieval where it's not modeled in a tabular relational format. NoSQL was really popular when big data and unstructured data first came out because you left it unstructured, but it's now started to soften a little bit, and more commonly referred to as Not Only SQL. This will be one of the discussion items in this module. Something I want you to think about and research a little bit more is does SQL really have a role still in the Big Data world, as new things start to come out like NoSQL and unstructured data? That wraps it up for this lesson. You should have a good sense of what data modeling is and a basic understanding of a relational database. In the next lesson we'll discuss how relational and transactional databases differ."
      ]
    },
    {
      "cell_type": "markdown",
      "metadata": {
        "id": "o8FWSBCEcAsL",
        "colab_type": "text"
      },
      "source": [
        "---\n",
        "\n",
        "6. Data Models, Part 3: Relational vs Transactional Models\n",
        "\n",
        "---\n",
        "\n",
        "Okay. Now, let's wrap up our discussion about data models by getting back to talking about the type of data models we'll be working with in this class. After this sub-module, you should be able to define and describe both relational and transactional database models, define entities, attributes and relationship, describe and explain the difference between one-to-one, one-to-many and many-to-many relationships, describe the use of a primary key in a database and explain how ER diagram is used to document and illustrate relationships. I want to kick off this sub-module by talking a little bit about relational versus transactional database models. A relational model is a database design that shows the relationships between the different tables and this is really used to optimize querying data, making it easy and intuitive to access the data. Transactional, on the other hand, you can think of as a more operational database. If you are in healthcare, for example, you may have a transactional database that is used to store all the claims information and then this information may not be stored in a great way for querying and using it for analysis. In fact, you may need to take and extract that transactional information from the database and move it into a relational model. Most of what we will be working with in this class is the relational model. The building blocks for this relational model are really three simple things. We have entities which are a person, place, thing or event. These are very distinguishable. They are unique. They are distinct. For example, I could be an entity, Sadie St. Lawrence, and then we have attributes, which are characteristics of this entity. As an entity, it would be myself and then an attribute about me would be that I am female. Then, the third building block of the model is the relationship. This describes the association among different entities. There are a few types of relationships in a database and the ones I want to cover are the three shown here: one-to-many, many-to-many and one-to-one. If you think of a one-to-many relationship, this could be one customer that has many invoices. When you think of a many-to-many relationship, this could be an example of many students to many classes. You may have one student who belongs to lots of different classes or you may have a class who has many different students. Then, if you think of a one-to-one relationship, this is a manager to a store. Let's say you have a sporting goods store and each of those stores has only one manager. That would be one example of a one-to-one relationship. To understand these relationships between the tables a lot better, what's often used to depict this are ER diagrams. An ER model then is composed of the entity types and the specific relationships that can exist between these entities. These are usually displayed in a visual format and a relate represents a relationship between the tables. It often helps you to understand and represent a business process and it will show the links between these tables. The links are really important because in a later lesson, we're going to learn how to join these tables together and combine the data. Being able to look at this diagram and see how they relate to each other is really important. What we will use to join these tables together are two things. We can use the primary keys or foreign keys. The primary key is a column or set of columns whose values uniquely identify every row in a table. Then this allows us to take those unique identities and then join it to another table. Foreign keys are similar but in regard that one or more columns can be used together to identify a single row in the table. When we're looking at ER diagrams, which again is one of the ways you will start to think before you do, you'll look at maybe an ER diagram and understand what data elements you are trying to join together and how do you need to get them. But one of the things you need to understand is how to read this. We talked a little bit about relationships and the different relationships between a table. And then, there was a different type of notation that explains the relationships. We have the Chen notation, and there's the Crow's foot notation, and then there's the UML class diagram notation. The Chen notation uses one-to-M for a one-to-many relationship, and M and N for a many-to-many relationship and a one to one for a one-to-one relationship. In Crow's foot notation, we have the train tracks which represent 1 and then the Crow's foot which represents many. And finally, with UML we have a 1.1 which represents the concept of one and 1.\" which represents the concept of many. Definitely take notes at these. You'll be looking at ER diagrams quite frequently and you'll need to understand these notations when reading ER diagrams so you can understand how you're going to write your query and join the table together or even to find out what's listed in the table. This is really part of that thinking before you start doing' concept I was talking about earlier. Having a good understanding of why the data is structured in a particular way and how to read the ER diagrams will be very helpful to you in writing your queries and ensuring you get accurate results."
      ]
    },
    {
      "cell_type": "markdown",
      "metadata": {
        "id": "aSzi_E0PcFmK",
        "colab_type": "text"
      },
      "source": [
        "---\n",
        "\n",
        "**7. Retreiving Data with a SELECT Statement**\n",
        "\n",
        "---"
      ]
    },
    {
      "cell_type": "markdown",
      "metadata": {
        "id": "zWp9DRnwcV5i",
        "colab_type": "text"
      },
      "source": [
        "In this sub-module, we're going to go through the backbone of retrieving data with the SELECT statement. As we talked about previously, the majority of what data scientists are doing with SQL is retrieving data. To be able to do that and get you started, the first statement we are going to use is called the SELECT statement."
      ]
    },
    {
      "cell_type": "markdown",
      "metadata": {
        "id": "Lw2gX7Mkf1bC",
        "colab_type": "text"
      },
      "source": [
        "**After this lesson**, you'll be able to write a basic SELECT statement, tell a database what table you want your data FROM, SELECT either all or particular columns from a table in a query, and limit the amount of data that is returned in a query. "
      ]
    },
    {
      "cell_type": "code",
      "metadata": {
        "id": "UxkiAPT1e5LQ",
        "colab_type": "code",
        "colab": {}
      },
      "source": [
        "\"\"\"\n",
        "Let's look at the concept using an example. So in this example, I'm going to \n",
        "select product name, that's a column from the table I want and then I'm going \n",
        "to say where I want to get it from. So I want to get it from Products. The \n",
        "output has a column product name and then all of the list of products.\n",
        "\"\"\"\n",
        "\n",
        "\n",
        "# With the SELECT statement you're going to specify two pieces of information,\n",
        "# what you want to select and where you want it from.\n",
        "\n",
        "# SELECTING A COLUMN\n",
        "\n",
        "# INPUT QUERY\n",
        "SELECT prod_name\n",
        "FROM Products;"
      ],
      "execution_count": null,
      "outputs": []
    },
    {
      "cell_type": "code",
      "metadata": {
        "id": "eTioJGRVe1AY",
        "colab_type": "code",
        "colab": {}
      },
      "source": [
        "# If you want to retrieve more than a single column from a table, \n",
        "# then what you need to do is add the names of the individual columns together.\n",
        "\n",
        "\"\"\"\n",
        "But add a comma after you add the column name. So in this example, we'll still\n",
        "select from the Products table, but will also select the prod_name, the prod_id, and the prod_price. \n",
        "\"\"\"\n",
        "\n",
        "# SELECTING MULTIPLE COLUMNS FROM DATABASE\n",
        "\n",
        "# INPUT QUERY\n",
        "SELECT prod_name\n",
        "       ,prod_id\n",
        "       ,prod_price\n",
        "FROM Products;\n",
        "\n",
        "\"\"\"\n",
        "You can see above that I've written the same query in two different ways. I like\n",
        "to usually write it the second way because it helps me make sure I don't forget \n",
        "any commas after I wrote a column name that I am selecting. So, each statement \n",
        "is the same. One to me is just a little bit easier to read, so that's why I \n",
        "write it the second way. But both statements will produce the same results.\n",
        "\"\"\""
      ],
      "execution_count": null,
      "outputs": []
    },
    {
      "cell_type": "code",
      "metadata": {
        "id": "fX-n6Emqg6xs",
        "colab_type": "code",
        "colab": {}
      },
      "source": [
        "\"\"\"\n",
        "Now let's say you have a table that has 20 columns and you want all of the \n",
        "columns in the table. Instead of having to write out each individual column \n",
        "which would take quite a while, there is a wildcard that you can use which is \n",
        "the asterisk.\n",
        "\"\"\"\n",
        "\n",
        "# SELECTING ALL COLUMNS FROM DATABASE\n",
        "\n",
        "# INPUT QUERY\n",
        "SELECT *\n",
        "FROM Products;\n",
        "\n",
        "\"\"\"\n",
        "So you can put SELECT * and then FROM Products and this is going to go ahead and\n",
        "grab everything from the Products table, each individual column, and put it \n",
        "into your output.\n",
        "\"\"\""
      ],
      "execution_count": null,
      "outputs": []
    },
    {
      "cell_type": "markdown",
      "metadata": {
        "id": "CGCAhp3qhjux",
        "colab_type": "text"
      },
      "source": [
        "So that's the fundamentals of using SELECT. Anytime you're retrieving data you are going to have a SELECT statement. Because you're retrieving data you need to say something as hey, go get me something. This is what SELECT is for. And the FROM that accompanies it will always go hand-in-hand because if you're selecting something, you need to tell SQL, in the database, where to get it from. "
      ]
    },
    {
      "cell_type": "code",
      "metadata": {
        "id": "mS1S_CQ9hipj",
        "colab_type": "code",
        "colab": {}
      },
      "source": [
        "\"\"\"\n",
        "A lot of times, though, we may want to pull the whole table to get a view of it,\n",
        "to understand what data's in there. So we may do a SELECT star. But if there is \n",
        "something like five million records in it and we may just really want to get a \n",
        "sample of that. So just to view some of the data in table we may need to limit \n",
        "our results.\n",
        "\"\"\"\n",
        "\n",
        "# SELECTING ALL COLUMNS FROM DATABASE WITH LIMIT\n",
        "SELECT *\n",
        "FROM Products\n",
        "LIMIT 5;\n",
        "\n",
        "\"\"\"\n",
        "To do this we can SELECT the columns we want from the table we want. Then after \n",
        "the FROM statement we're just going to put a statement that says limit, and you \n",
        "can put the number. For this I'm going to limit it to five. So I just want to \n",
        "see the first five records.\n",
        "\"\"\""
      ],
      "execution_count": null,
      "outputs": []
    },
    {
      "cell_type": "markdown",
      "metadata": {
        "id": "GEg7zDGDiRSw",
        "colab_type": "text"
      },
      "source": [
        "Okay, so that's it for this one. So this sub-module really gone over the backbone of retrieving data. I showed you a couple of examples of how to SELECT an individual column, multiple columns, a whole table and then also how you can limit your results. These are really the key things you need to know in order to understand writing basic queries."
      ]
    },
    {
      "cell_type": "markdown",
      "metadata": {
        "id": "opSgvkYqi_kU",
        "colab_type": "text"
      },
      "source": [
        "---\n",
        "\n",
        "**8. Creating Tables**\n",
        "\n",
        "---"
      ]
    },
    {
      "cell_type": "markdown",
      "metadata": {
        "id": "G0rXoYXlkUwN",
        "colab_type": "text"
      },
      "source": [
        "So we spent some time discussing the basics of databases and how to retrieve data from tables, but there's something else we can do a SQL too, and that's actually create new tables and store data within them."
      ]
    },
    {
      "cell_type": "markdown",
      "metadata": {
        "id": "eTrOW0Mci9tp",
        "colab_type": "text"
      },
      "source": [
        "In this lesson, you'll learn how to be able \n",
        "\n",
        "*   to discuss situations where it's beneficial to create new tables\n",
        "*   create new tables within an existing database\n",
        "*   write data in a new table\n",
        "*   and define whether columns can accept null values or not\n"
      ]
    },
    {
      "cell_type": "markdown",
      "metadata": {
        "id": "nzTHe2zylGTX",
        "colab_type": "text"
      },
      "source": [
        "**Why tables are useful?**\n",
        "\n",
        "The ability to create tables and store data in them is really beneficial as a data scientist because you're always making models and building predictions. \n",
        "\n",
        "\n",
        "*   You may want to take those predictions that you create and write them back to a database.\n",
        "*   This ensures that someone else could then pick up those predictions and use them in a dashboard they're creating, or maybe you want to create a dashboard or visualize it with another tool that can be hooked up and used with that database.\n",
        "\n",
        "It's also helpful if you're extracting data off the web or scraping it from somewhere and you want to store this data in a database with the rest of your information. That way, you can then join it back together. As we've previously discussed, the data scientist isn't usually the one in charge of managing the entire database, that usually left to the DBA or some type of administrator."
      ]
    },
    {
      "cell_type": "code",
      "metadata": {
        "id": "z1YviEE3mLhu",
        "colab_type": "code",
        "colab": {}
      },
      "source": [
        "# However, they may have capabilities to be able to write and create their own \n",
        "# tables. So it's important to have a basic understanding of how this works. \n",
        "# In order to do this, there is a statement that we use called CREATE TABLE.\n",
        "\n",
        "\"\"\"\n",
        "So in this example, I want to create a table that is about the different shoes \n",
        "I have on my shoe rack. Maybe I want to start to look at things like how long \n",
        "I've had the shoe, the different brands, how much I pay for them, or look for \n",
        "shoes that I have that are similar or maybe different colors. I may even want to\n",
        "look and see if I'm missing any shoes for my wardrobe. For this statement, \n",
        "you're going to need a table name. Then you also need the name and definition of\n",
        "the columns. And this, you also need to define the data type. To do this, we're\n",
        "going to write the statement CREATE TABLE. \n",
        "\"\"\"\n",
        "\n",
        "# CREATING A NEW TABLE\n",
        "\n",
        "# INPUT QUERY\n",
        "CREATE TABLE Shoes\n",
        "( \n",
        "    Id     char(10)       PRIMARY KEY,\n",
        "    Brand  char(10)       NOT NULL,\n",
        "    Type   char(250)      NOT NULL,\n",
        "    Color  char(250)      NOT NULL,\n",
        "    Price  decimal(8,2)   NOT NULL,\n",
        "    Desc   Varchar(750)   NULL,\n",
        ");\n",
        "\n",
        "\"\"\"\n",
        "We'll put the name of the table and then in brackets, we will separate out the \n",
        "list of columns that we're going to name this table. In this example, I have the\n",
        "columns as shoe Id, the brand, the shoe type, the color, the price, and \n",
        "the description. \n",
        "\"\"\"\n",
        "\n",
        "\"\"\"\n",
        "After I list the column, I'm going to define the data type. For this, I want \n",
        "this to be a character with 10. Then, I'm defining some specifications around \n",
        "that column. The shoe Id is going to be my primary key in this example. You can \n",
        "see by the other columns I've also defined the data type how many characters or \n",
        "decimals I will allow to be inserted into this column. Then, I also put whether \n",
        "or not I'm allowing null values in this. If I'm not specifying, then it's \n",
        "assuming that null values are accepted. \n",
        "\"\"\""
      ],
      "execution_count": null,
      "outputs": []
    },
    {
      "cell_type": "markdown",
      "metadata": {
        "id": "Zo7qzwY3l8xN",
        "colab_type": "text"
      },
      "source": [
        "In this example, it's a pretty simple example because the syntax for creating these tables varies greatly by relational database management system that you're using. This will give you the basic structure to create your table. \n",
        "\n",
        "\n",
        "\n",
        "However, it's important to look at the specifications of your relational database management system you're using, so that you can get the correct syntax for this. \n",
        "\n",
        "\n",
        "\n",
        "*   An important thing to note when creating these tables is defining whether a column can contain a null value or is a primary key.\n",
        "*   Every column you have in a table can either accept null values or not, and you need to be defined this capability.\n",
        "\n",
        "\n",
        "\n",
        "As shown in this example, I've created a table with several columns, some of which cannot accept null values. Those are not null lines. And the one column that can accept null value, the one line that has null in it. It's important to not confuse null values with empty strings. Null values really are the absence of everything, whereas empty strings, there's actually a value there. It might be spaces or something like that. Another thing that's important to remember is anything that you're defining as a primary key cannot accept null values. So the one line listed here as a primary key wouldn't be able to accept null values for this example. As previously defined in the example, I said that shoe Id was a primary key. Therefore, this can never have an empty value or not any value. The other thing that's important to remember is that if you indicate that a column cannot be null, then you are going to get an error if you do not enter a value into that column when you're inserting data into it. This is just a check to make sure that in the columns that you've determined are non-nulls, values will always be present. Otherwise, you'll get an error returned. In order to get the data into the table after you've defined the table, the columns, and the data types you want to add into it, there are really two ways to do this. The first way is with the insert statement. You can say INSERT INTO Shoes, so I'm saying, I want to put this data into the shoes table. I want to put the values and after that. So in this, I have put the values into a single parentheses. I've listed them out in order. Now this works fine, however I wouldn't recommend using this first example. How this first example is going to work is that it's going to take the first value indicated and put it in the first column. The second value will go to the second column, and the third value into the third column, and so on and so forth. And it will put them in order. As I said before, it works, however it's not recommended. You have no guarantee of what data is going into which column. So it's a lot better to be a little bit more specific about this. For this, what you want to do is you want to use the same statement INSERT INTO Shoes. Before I put the values, I'm going to list the columns that I want it to insert into. Here, I'm listing it in the same order, Shoe Id, Brand, Type, Color, Price, and Description. However, this time after that, I'm also indicating the values that I want to go in that same order. This can be really beneficial if you want to insert just a few values into a column. So for this example, I could remove the first three, so I could remove the Type, Brand, and Id. I would just remove those by crossing those out. Then it also remove the first three values here. Now I'm guaranteed that the values Pink, 695.00 and then NULL are going to go into Color, Price, and Description. I will recommend using this method. It's a little bit safer because you have more control. You know exactly where the data is going and into which column. Okay, so let's stop there for now. In this sub-module, you learned all about how to create tables using SQL. We discuss situations where that's useful thing to do. We talked about the syntax for creating a new table and went over how to store data in it. There's another thing you can do with tables, and that is to create a temporary table. We'll go over this in our next lesson."
      ]
    },
    {
      "cell_type": "markdown",
      "metadata": {
        "id": "7OFRHSLVkAaT",
        "colab_type": "text"
      },
      "source": [
        "---\n",
        "\n",
        "**9. Creating Temporary Tables**\n",
        "\n",
        "---"
      ]
    },
    {
      "cell_type": "markdown",
      "metadata": {
        "id": "UCPq4HkzkFEP",
        "colab_type": "text"
      },
      "source": [
        "---\n",
        "\n",
        "**10. Adding comments to SQL**\n",
        "\n",
        "---"
      ]
    },
    {
      "cell_type": "markdown",
      "metadata": {
        "id": "x5Y4vea_kM-o",
        "colab_type": "text"
      },
      "source": [
        "---\n",
        "\n",
        "**11. Summarizing the Module 1**\n",
        "\n",
        "---"
      ]
    }
  ]
}