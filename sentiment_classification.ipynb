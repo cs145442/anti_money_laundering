{
  "nbformat": 4,
  "nbformat_minor": 0,
  "metadata": {
    "colab": {
      "name": "sentiment-classification.ipynb",
      "provenance": [],
      "authorship_tag": "ABX9TyMLKy5UGGZikGbWt+K7jSDj",
      "include_colab_link": true
    },
    "kernelspec": {
      "name": "python3",
      "display_name": "Python 3"
    }
  },
  "cells": [
    {
      "cell_type": "markdown",
      "metadata": {
        "id": "view-in-github",
        "colab_type": "text"
      },
      "source": [
        "<a href=\"https://colab.research.google.com/github/cs145442/nlp-projects-with-tf2/blob/master/sentiment_classification.ipynb\" target=\"_parent\"><img src=\"https://colab.research.google.com/assets/colab-badge.svg\" alt=\"Open In Colab\"/></a>"
      ]
    },
    {
      "cell_type": "code",
      "metadata": {
        "colab": {
          "base_uri": "https://localhost:8080/"
        },
        "id": "Na3cvAoVpdDZ",
        "outputId": "30dbf6f7-4f6d-453d-d23b-19bb67be890c"
      },
      "source": [
        "# add and unzip the dataset here\n",
        "! ls\n",
        "! unzip stanfordSentimentTreebank.zip"
      ],
      "execution_count": 1,
      "outputs": [
        {
          "output_type": "stream",
          "text": [
            "sample_data  stanfordSentimentTreebank.zip\n",
            "Archive:  stanfordSentimentTreebank.zip\n",
            "   creating: stanfordSentimentTreebank/\n",
            "  inflating: stanfordSentimentTreebank/datasetSentences.txt  \n",
            "   creating: __MACOSX/\n",
            "   creating: __MACOSX/stanfordSentimentTreebank/\n",
            "  inflating: __MACOSX/stanfordSentimentTreebank/._datasetSentences.txt  \n",
            "  inflating: stanfordSentimentTreebank/datasetSplit.txt  \n",
            "  inflating: __MACOSX/stanfordSentimentTreebank/._datasetSplit.txt  \n",
            "  inflating: stanfordSentimentTreebank/dictionary.txt  \n",
            "  inflating: __MACOSX/stanfordSentimentTreebank/._dictionary.txt  \n",
            "  inflating: stanfordSentimentTreebank/original_rt_snippets.txt  \n",
            "  inflating: __MACOSX/stanfordSentimentTreebank/._original_rt_snippets.txt  \n",
            "  inflating: stanfordSentimentTreebank/README.txt  \n",
            "  inflating: __MACOSX/stanfordSentimentTreebank/._README.txt  \n",
            "  inflating: stanfordSentimentTreebank/sentiment_labels.txt  \n",
            "  inflating: __MACOSX/stanfordSentimentTreebank/._sentiment_labels.txt  \n",
            "  inflating: stanfordSentimentTreebank/SOStr.txt  \n",
            "  inflating: stanfordSentimentTreebank/STree.txt  \n"
          ],
          "name": "stdout"
        }
      ]
    },
    {
      "cell_type": "code",
      "metadata": {
        "id": "vM9xOwpSp7NF"
      },
      "source": [
        "# handle all the dependencies here\n",
        "import pandas as pd"
      ],
      "execution_count": 2,
      "outputs": []
    },
    {
      "cell_type": "code",
      "metadata": {
        "colab": {
          "base_uri": "https://localhost:8080/"
        },
        "id": "PSYcsx_dqLRE",
        "outputId": "cf7a8951-32e6-44d7-9a3d-67303e78bbfc"
      },
      "source": [
        "# take a peek at the dataset format\n",
        "! echo \"----- contents of the treebank -------------------\"\n",
        "! ls stanfordSentimentTreebank\n",
        "! echo \"----- first 5 lines of dictionary.txt ------------\"\n",
        "! tail -n 5 stanfordSentimentTreebank/dictionary.txt\n",
        "! echo \"----- first 5 lines of sentiment_labels.txt ------\"\n",
        "! tail -n 5 stanfordSentimentTreebank/sentiment_labels.txt"
      ],
      "execution_count": 8,
      "outputs": [
        {
          "output_type": "stream",
          "text": [
            "----- contents of the treebank -------------------\n",
            "datasetSentences.txt  dictionary.txt\t\tREADME.txt\t      SOStr.txt\n",
            "datasetSplit.txt      original_rt_snippets.txt\tsentiment_labels.txt  STree.txt\n",
            "----- first 5 lines of dictionary.txt ------------\n",
            "zoning ordinances to protect your community from the dullest science fiction|220441\n",
            "zzzzzzzzz|179256\n",
            "élan|220442\n",
            "É|220443\n",
            "É um passatempo descompromissado|220444\n",
            "----- first 5 lines of sentiment_labels.txt ------\n",
            "239227|0.36111\n",
            "239228|0.38889\n",
            "239229|0.33333\n",
            "239230|0.88889\n",
            "239231|0.5\n"
          ],
          "name": "stdout"
        }
      ]
    },
    {
      "cell_type": "code",
      "metadata": {
        "id": "6BHmfyEqqGm2"
      },
      "source": [
        ""
      ],
      "execution_count": null,
      "outputs": []
    }
  ]
}