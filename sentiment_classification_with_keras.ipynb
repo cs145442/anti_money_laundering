{
  "nbformat": 4,
  "nbformat_minor": 0,
  "metadata": {
    "colab": {
      "name": "sentiment-classification-with-keras.ipynb",
      "provenance": [],
      "authorship_tag": "ABX9TyNvDRI8gpetkxSg4VfPMOko",
      "include_colab_link": true
    },
    "kernelspec": {
      "display_name": "Python 3",
      "name": "python3"
    },
    "accelerator": "GPU"
  },
  "cells": [
    {
      "cell_type": "markdown",
      "metadata": {
        "id": "view-in-github",
        "colab_type": "text"
      },
      "source": [
        "<a href=\"https://colab.research.google.com/github/cs145442/nlp-projects-with-tf2/blob/master/sentiment_classification_with_keras.ipynb\" target=\"_parent\"><img src=\"https://colab.research.google.com/assets/colab-badge.svg\" alt=\"Open In Colab\"/></a>"
      ]
    },
    {
      "cell_type": "markdown",
      "metadata": {
        "id": "owi6ILm8eKki"
      },
      "source": [
        "## 0.1 Handling the dependencies"
      ]
    },
    {
      "cell_type": "code",
      "metadata": {
        "colab": {
          "base_uri": "https://localhost:8080/"
        },
        "id": "ijkDycvA7w5n",
        "outputId": "39f69c64-d015-4c78-912e-398fe43f16f8"
      },
      "source": [
        "# download the large model\n",
        "! python3 -m spacy download en_core_web_lg"
      ],
      "execution_count": 22,
      "outputs": [
        {
          "output_type": "stream",
          "text": [
            "Requirement already satisfied: en_core_web_lg==2.2.5 from https://github.com/explosion/spacy-models/releases/download/en_core_web_lg-2.2.5/en_core_web_lg-2.2.5.tar.gz#egg=en_core_web_lg==2.2.5 in /usr/local/lib/python3.6/dist-packages (2.2.5)\n",
            "Requirement already satisfied: spacy>=2.2.2 in /usr/local/lib/python3.6/dist-packages (from en_core_web_lg==2.2.5) (2.2.4)\n",
            "Requirement already satisfied: preshed<3.1.0,>=3.0.2 in /usr/local/lib/python3.6/dist-packages (from spacy>=2.2.2->en_core_web_lg==2.2.5) (3.0.4)\n",
            "Requirement already satisfied: wasabi<1.1.0,>=0.4.0 in /usr/local/lib/python3.6/dist-packages (from spacy>=2.2.2->en_core_web_lg==2.2.5) (0.8.0)\n",
            "Requirement already satisfied: requests<3.0.0,>=2.13.0 in /usr/local/lib/python3.6/dist-packages (from spacy>=2.2.2->en_core_web_lg==2.2.5) (2.23.0)\n",
            "Requirement already satisfied: thinc==7.4.0 in /usr/local/lib/python3.6/dist-packages (from spacy>=2.2.2->en_core_web_lg==2.2.5) (7.4.0)\n",
            "Requirement already satisfied: cymem<2.1.0,>=2.0.2 in /usr/local/lib/python3.6/dist-packages (from spacy>=2.2.2->en_core_web_lg==2.2.5) (2.0.4)\n",
            "Requirement already satisfied: srsly<1.1.0,>=1.0.2 in /usr/local/lib/python3.6/dist-packages (from spacy>=2.2.2->en_core_web_lg==2.2.5) (1.0.4)\n",
            "Requirement already satisfied: numpy>=1.15.0 in /usr/local/lib/python3.6/dist-packages (from spacy>=2.2.2->en_core_web_lg==2.2.5) (1.18.5)\n",
            "Requirement already satisfied: blis<0.5.0,>=0.4.0 in /usr/local/lib/python3.6/dist-packages (from spacy>=2.2.2->en_core_web_lg==2.2.5) (0.4.1)\n",
            "Requirement already satisfied: murmurhash<1.1.0,>=0.28.0 in /usr/local/lib/python3.6/dist-packages (from spacy>=2.2.2->en_core_web_lg==2.2.5) (1.0.4)\n",
            "Requirement already satisfied: catalogue<1.1.0,>=0.0.7 in /usr/local/lib/python3.6/dist-packages (from spacy>=2.2.2->en_core_web_lg==2.2.5) (1.0.0)\n",
            "Requirement already satisfied: setuptools in /usr/local/lib/python3.6/dist-packages (from spacy>=2.2.2->en_core_web_lg==2.2.5) (50.3.2)\n",
            "Requirement already satisfied: plac<1.2.0,>=0.9.6 in /usr/local/lib/python3.6/dist-packages (from spacy>=2.2.2->en_core_web_lg==2.2.5) (1.1.3)\n",
            "Requirement already satisfied: tqdm<5.0.0,>=4.38.0 in /usr/local/lib/python3.6/dist-packages (from spacy>=2.2.2->en_core_web_lg==2.2.5) (4.41.1)\n",
            "Requirement already satisfied: certifi>=2017.4.17 in /usr/local/lib/python3.6/dist-packages (from requests<3.0.0,>=2.13.0->spacy>=2.2.2->en_core_web_lg==2.2.5) (2020.11.8)\n",
            "Requirement already satisfied: idna<3,>=2.5 in /usr/local/lib/python3.6/dist-packages (from requests<3.0.0,>=2.13.0->spacy>=2.2.2->en_core_web_lg==2.2.5) (2.10)\n",
            "Requirement already satisfied: chardet<4,>=3.0.2 in /usr/local/lib/python3.6/dist-packages (from requests<3.0.0,>=2.13.0->spacy>=2.2.2->en_core_web_lg==2.2.5) (3.0.4)\n",
            "Requirement already satisfied: urllib3!=1.25.0,!=1.25.1,<1.26,>=1.21.1 in /usr/local/lib/python3.6/dist-packages (from requests<3.0.0,>=2.13.0->spacy>=2.2.2->en_core_web_lg==2.2.5) (1.24.3)\n",
            "Requirement already satisfied: importlib-metadata>=0.20; python_version < \"3.8\" in /usr/local/lib/python3.6/dist-packages (from catalogue<1.1.0,>=0.0.7->spacy>=2.2.2->en_core_web_lg==2.2.5) (2.0.0)\n",
            "Requirement already satisfied: zipp>=0.5 in /usr/local/lib/python3.6/dist-packages (from importlib-metadata>=0.20; python_version < \"3.8\"->catalogue<1.1.0,>=0.0.7->spacy>=2.2.2->en_core_web_lg==2.2.5) (3.4.0)\n",
            "\u001b[38;5;2m✔ Download and installation successful\u001b[0m\n",
            "You can now load the model via spacy.load('en_core_web_lg')\n"
          ],
          "name": "stdout"
        }
      ]
    },
    {
      "cell_type": "code",
      "metadata": {
        "colab": {
          "base_uri": "https://localhost:8080/"
        },
        "id": "js90Z4tDIrhB",
        "outputId": "1f2f2d55-82a1-46bb-89cc-d8187ace4aa7"
      },
      "source": [
        "! pip install progressbar"
      ],
      "execution_count": 33,
      "outputs": [
        {
          "output_type": "stream",
          "text": [
            "Collecting progressbar\n",
            "  Downloading https://files.pythonhosted.org/packages/a3/a6/b8e451f6cff1c99b4747a2f7235aa904d2d49e8e1464e0b798272aa84358/progressbar-2.5.tar.gz\n",
            "Building wheels for collected packages: progressbar\n",
            "  Building wheel for progressbar (setup.py) ... \u001b[?25l\u001b[?25hdone\n",
            "  Created wheel for progressbar: filename=progressbar-2.5-cp36-none-any.whl size=12076 sha256=59f30d2e7ed9309f6822f5f5576d297927e0474b3ec1f28231095670ac3fa8f9\n",
            "  Stored in directory: /root/.cache/pip/wheels/c0/e9/6b/ea01090205e285175842339aa3b491adeb4015206cda272ff0\n",
            "Successfully built progressbar\n",
            "Installing collected packages: progressbar\n",
            "Successfully installed progressbar-2.5\n"
          ],
          "name": "stdout"
        }
      ]
    },
    {
      "cell_type": "code",
      "metadata": {
        "id": "vM9xOwpSp7NF"
      },
      "source": [
        "# import all the dependencies here\n",
        "try:\n",
        "    %tensorflow_version 2.x\n",
        "except Exception:\n",
        "    pass\n",
        "import tensorflow as tf\n",
        "\n",
        "from tensorflow.keras import layers\n",
        "\n",
        "import pandas as pd\n",
        "\n",
        "import math\n",
        "import random\n",
        "import spacy\n",
        "\n",
        "# tools for progress bars\n",
        "from IPython.display import HTML, display\n",
        "import time"
      ],
      "execution_count": 41,
      "outputs": []
    },
    {
      "cell_type": "code",
      "metadata": {
        "id": "wcu-osRXxO3K"
      },
      "source": [
        "from keras.preprocessing.text import Tokenizer\n",
        "from keras.preprocessing.sequence import pad_sequences\n",
        "\n",
        "from sklearn.model_selection import train_test_split\n",
        "from sklearn.preprocessing import LabelEncoder\n",
        "\n",
        "import os\n",
        "import numpy as np\n",
        "import keras\n",
        "from keras.models import Sequential\n",
        "from keras.layers import Dense\n",
        "from keras.layers import Flatten\n",
        "from keras.layers import LSTM\n",
        "from keras.layers.embeddings import Embedding\n",
        "from keras.layers import Bidirectional\n",
        "from keras.preprocessing import sequence\n",
        "from keras.layers import Dropout"
      ],
      "execution_count": 3,
      "outputs": []
    },
    {
      "cell_type": "code",
      "metadata": {
        "id": "-LyUaF7yF4vL"
      },
      "source": [
        "# second version of imports defined here\n",
        "from keras.layers import Input\n",
        "from keras.models import Model\n",
        "from keras.layers.merge import Concatenate\n",
        "from keras.utils import to_categorical\n",
        "\n",
        "import matplotlib.pyplot as plt"
      ],
      "execution_count": 4,
      "outputs": []
    },
    {
      "cell_type": "markdown",
      "metadata": {
        "id": "FsNSNCcmJPHu"
      },
      "source": [
        "## 0.2 Some helper functions"
      ]
    },
    {
      "cell_type": "code",
      "metadata": {
        "id": "BLMkBbmlJYBF"
      },
      "source": [
        "# pretty function to display the progess bar\n",
        "def progress(value, max=100):\n",
        "    return HTML(\"\"\"\n",
        "        <progress\n",
        "            value='{value}'\n",
        "            max='{max}',\n",
        "            style='width: 100%'\n",
        "        >\n",
        "            {value}\n",
        "        </progress>\n",
        "    \"\"\".format(value=value, max=max))"
      ],
      "execution_count": 39,
      "outputs": []
    },
    {
      "cell_type": "markdown",
      "metadata": {
        "id": "QahPG6gO-cKK"
      },
      "source": [
        "## 1. Gathering the data"
      ]
    },
    {
      "cell_type": "markdown",
      "metadata": {
        "id": "WpRFTW9kd7vf"
      },
      "source": [
        "### 1.1 Getting the dataset"
      ]
    },
    {
      "cell_type": "code",
      "metadata": {
        "colab": {
          "base_uri": "https://localhost:8080/"
        },
        "id": "Na3cvAoVpdDZ",
        "outputId": "0173ffad-c3af-4617-c405-cb84a0d24b60"
      },
      "source": [
        "# add and unzip the dataset here\n",
        "! ls\n",
        "! wget http://nlp.stanford.edu/~socherr/stanfordSentimentTreebank.zip\n",
        "! unzip stanfordSentimentTreebank.zip"
      ],
      "execution_count": 5,
      "outputs": [
        {
          "output_type": "stream",
          "text": [
            "__MACOSX     stanfordSentimentTreebank\t    stanfordSentimentTreebank.zip.1\n",
            "sample_data  stanfordSentimentTreebank.zip\n",
            "--2020-11-30 07:01:39--  http://nlp.stanford.edu/~socherr/stanfordSentimentTreebank.zip\n",
            "Resolving nlp.stanford.edu (nlp.stanford.edu)... 171.64.67.140\n",
            "Connecting to nlp.stanford.edu (nlp.stanford.edu)|171.64.67.140|:80... connected.\n",
            "HTTP request sent, awaiting response... 302 Found\n",
            "Location: https://nlp.stanford.edu/~socherr/stanfordSentimentTreebank.zip [following]\n",
            "--2020-11-30 07:01:39--  https://nlp.stanford.edu/~socherr/stanfordSentimentTreebank.zip\n",
            "Connecting to nlp.stanford.edu (nlp.stanford.edu)|171.64.67.140|:443... connected.\n",
            "HTTP request sent, awaiting response... 200 OK\n",
            "Length: 6372817 (6.1M) [application/zip]\n",
            "Saving to: ‘stanfordSentimentTreebank.zip.2’\n",
            "\n",
            "stanfordSentimentTr 100%[===================>]   6.08M  1.56MB/s    in 6.0s    \n",
            "\n",
            "2020-11-30 07:01:46 (1.01 MB/s) - ‘stanfordSentimentTreebank.zip.2’ saved [6372817/6372817]\n",
            "\n",
            "Archive:  stanfordSentimentTreebank.zip\n",
            "replace stanfordSentimentTreebank/datasetSentences.txt? [y]es, [n]o, [A]ll, [N]one, [r]ename: A\n",
            "  inflating: stanfordSentimentTreebank/datasetSentences.txt  \n",
            "  inflating: __MACOSX/stanfordSentimentTreebank/._datasetSentences.txt  \n",
            "  inflating: stanfordSentimentTreebank/datasetSplit.txt  \n",
            "  inflating: __MACOSX/stanfordSentimentTreebank/._datasetSplit.txt  \n",
            "  inflating: stanfordSentimentTreebank/dictionary.txt  \n",
            "  inflating: __MACOSX/stanfordSentimentTreebank/._dictionary.txt  \n",
            "  inflating: stanfordSentimentTreebank/original_rt_snippets.txt  \n",
            "  inflating: __MACOSX/stanfordSentimentTreebank/._original_rt_snippets.txt  \n",
            "  inflating: stanfordSentimentTreebank/README.txt  \n",
            "  inflating: __MACOSX/stanfordSentimentTreebank/._README.txt  \n",
            "  inflating: stanfordSentimentTreebank/sentiment_labels.txt  \n",
            "  inflating: __MACOSX/stanfordSentimentTreebank/._sentiment_labels.txt  \n",
            "  inflating: stanfordSentimentTreebank/SOStr.txt  \n",
            "  inflating: stanfordSentimentTreebank/STree.txt  \n"
          ],
          "name": "stdout"
        }
      ]
    },
    {
      "cell_type": "code",
      "metadata": {
        "colab": {
          "base_uri": "https://localhost:8080/"
        },
        "id": "6BHmfyEqqGm2",
        "outputId": "3855f4aa-816e-4c12-ede4-1650fb380ea0"
      },
      "source": [
        "! cat stanfordSentimentTreebank/README.txt"
      ],
      "execution_count": 6,
      "outputs": [
        {
          "output_type": "stream",
          "text": [
            "Stanford Sentiment Treebank V1.0\n",
            "\n",
            "This is the dataset of the paper:\n",
            "\n",
            "Recursive Deep Models for Semantic Compositionality Over a Sentiment Treebank\n",
            "Richard Socher, Alex Perelygin, Jean Wu, Jason Chuang, Christopher Manning, Andrew Ng and Christopher Potts\n",
            "Conference on Empirical Methods in Natural Language Processing (EMNLP 2013)\n",
            "\n",
            "If you use this dataset in your research, please cite the above paper.\n",
            "\n",
            "@incollection{SocherEtAl2013:RNTN,\n",
            "title = {{Parsing With Compositional Vector Grammars}},\n",
            "author = {Richard Socher and Alex Perelygin and Jean Wu and Jason Chuang and Christopher Manning and Andrew Ng and Christopher Potts},\n",
            "booktitle = {{EMNLP}},\n",
            "year = {2013}\n",
            "}\n",
            "\n",
            "This file includes:\n",
            "1. original_rt_snippets.txt contains 10,605 processed snippets from the original pool of Rotten Tomatoes HTML files. Please note that some snippet may contain multiple sentences.\n",
            "\n",
            "2. dictionary.txt contains all phrases and their IDs, separated by a vertical line |\n",
            "\n",
            "3. sentiment_labels.txt contains all phrase ids and the corresponding sentiment labels, separated by a vertical line.\n",
            "Note that you can recover the 5 classes by mapping the positivity probability using the following cut-offs:\n",
            "[0, 0.2], (0.2, 0.4], (0.4, 0.6], (0.6, 0.8], (0.8, 1.0]\n",
            "for very negative, negative, neutral, positive, very positive, respectively.\n",
            "Please note that phrase ids and sentence ids are not the same.\n",
            "\n",
            "4. SOStr.txt and STree.txt encode the structure of the parse trees. \n",
            "STree encodes the trees in a parent pointer format. Each line corresponds to each sentence in the datasetSentences.txt file. The Matlab code of this paper will show you how to read this format if you are not familiar with it.\n",
            "\n",
            "5. datasetSentences.txt contains the sentence index, followed by the sentence string separated by a tab. These are the sentences of the train/dev/test sets.\n",
            "\n",
            "6. datasetSplit.txt contains the sentence index (corresponding to the index in datasetSentences.txt file) followed by the set label separated by a comma:\n",
            "\t1 = train\n",
            "\t2 = test\n",
            "\t3 = dev\n",
            "\n",
            "Please note that the datasetSentences.txt file has more sentences/lines than the original_rt_snippet.txt. \n",
            "Each row in the latter represents a snippet as shown on RT, whereas the former is each sub sentence as determined by the Stanford parser.\n",
            "\n",
            "For comparing research and training models, please use the provided train/dev/test splits.\n",
            "\n"
          ],
          "name": "stdout"
        }
      ]
    },
    {
      "cell_type": "markdown",
      "metadata": {
        "id": "6LsMeNbfeVcX"
      },
      "source": [
        "### 1.2 Exploring the dataset"
      ]
    },
    {
      "cell_type": "code",
      "metadata": {
        "colab": {
          "base_uri": "https://localhost:8080/"
        },
        "id": "PSYcsx_dqLRE",
        "outputId": "30bdf139-f6cd-4ecc-8755-dbe651f01d31"
      },
      "source": [
        "# take a peek at the dataset format\n",
        "! echo \"----- contents of the treebank -------------------\"\n",
        "! ls stanfordSentimentTreebank\n",
        "! echo \"----- first 5 lines of dictionary.txt ------------\"\n",
        "! tail -n 5 stanfordSentimentTreebank/dictionary.txt\n",
        "! echo \"----- first 5 lines of sentiment_labels.txt ------\"\n",
        "! tail -n 5 stanfordSentimentTreebank/sentiment_labels.txt"
      ],
      "execution_count": 7,
      "outputs": [
        {
          "output_type": "stream",
          "text": [
            "----- contents of the treebank -------------------\n",
            "datasetSentences.txt  dictionary.txt\t\tREADME.txt\t      SOStr.txt\n",
            "datasetSplit.txt      original_rt_snippets.txt\tsentiment_labels.txt  STree.txt\n",
            "----- first 5 lines of dictionary.txt ------------\n",
            "zoning ordinances to protect your community from the dullest science fiction|220441\n",
            "zzzzzzzzz|179256\n",
            "élan|220442\n",
            "É|220443\n",
            "É um passatempo descompromissado|220444\n",
            "----- first 5 lines of sentiment_labels.txt ------\n",
            "239227|0.36111\n",
            "239228|0.38889\n",
            "239229|0.33333\n",
            "239230|0.88889\n",
            "239231|0.5\n"
          ],
          "name": "stdout"
        }
      ]
    },
    {
      "cell_type": "code",
      "metadata": {
        "colab": {
          "base_uri": "https://localhost:8080/",
          "height": 204
        },
        "id": "z-Nle8lFwEJL",
        "outputId": "396cbb9e-ed23-4d02-f111-920155b1c790"
      },
      "source": [
        "# reading the dataset\n",
        "dataset_df = pd.read_csv('stanfordSentimentTreebank/dictionary.txt', sep='\\n')\n",
        "dataset_df.head()"
      ],
      "execution_count": 8,
      "outputs": [
        {
          "output_type": "execute_result",
          "data": {
            "text/html": [
              "<div>\n",
              "<style scoped>\n",
              "    .dataframe tbody tr th:only-of-type {\n",
              "        vertical-align: middle;\n",
              "    }\n",
              "\n",
              "    .dataframe tbody tr th {\n",
              "        vertical-align: top;\n",
              "    }\n",
              "\n",
              "    .dataframe thead th {\n",
              "        text-align: right;\n",
              "    }\n",
              "</style>\n",
              "<table border=\"1\" class=\"dataframe\">\n",
              "  <thead>\n",
              "    <tr style=\"text-align: right;\">\n",
              "      <th></th>\n",
              "      <th>!|0</th>\n",
              "    </tr>\n",
              "  </thead>\n",
              "  <tbody>\n",
              "    <tr>\n",
              "      <th>0</th>\n",
              "      <td>! '|22935</td>\n",
              "    </tr>\n",
              "    <tr>\n",
              "      <th>1</th>\n",
              "      <td>! ''|18235</td>\n",
              "    </tr>\n",
              "    <tr>\n",
              "      <th>2</th>\n",
              "      <td>! Alas|179257</td>\n",
              "    </tr>\n",
              "    <tr>\n",
              "      <th>3</th>\n",
              "      <td>! Brilliant|22936</td>\n",
              "    </tr>\n",
              "    <tr>\n",
              "      <th>4</th>\n",
              "      <td>! Brilliant !|40532</td>\n",
              "    </tr>\n",
              "  </tbody>\n",
              "</table>\n",
              "</div>"
            ],
            "text/plain": [
              "                   !|0\n",
              "0            ! '|22935\n",
              "1           ! ''|18235\n",
              "2        ! Alas|179257\n",
              "3    ! Brilliant|22936\n",
              "4  ! Brilliant !|40532"
            ]
          },
          "metadata": {
            "tags": []
          },
          "execution_count": 8
        }
      ]
    },
    {
      "cell_type": "code",
      "metadata": {
        "id": "DnLK9Th-xevI"
      },
      "source": [
        "# formatting the dataframe for processing\n",
        "dataset_df['phrase_text'] = dataset_df['!|0'].apply(lambda x: x.split('|')[0])\n",
        "dataset_df['phrase_ids'] = dataset_df['!|0'].apply(lambda x: x.split('|')[1])\n",
        "dataset_df = dataset_df.drop('!|0', axis=1)"
      ],
      "execution_count": 9,
      "outputs": []
    },
    {
      "cell_type": "code",
      "metadata": {
        "colab": {
          "base_uri": "https://localhost:8080/",
          "height": 204
        },
        "id": "qcmS89OHxpMT",
        "outputId": "270c68ef-8fe4-4b21-ff0e-f24a380a0145"
      },
      "source": [
        "# take a peek at the dataframe\n",
        "dataset_df.tail()"
      ],
      "execution_count": 10,
      "outputs": [
        {
          "output_type": "execute_result",
          "data": {
            "text/html": [
              "<div>\n",
              "<style scoped>\n",
              "    .dataframe tbody tr th:only-of-type {\n",
              "        vertical-align: middle;\n",
              "    }\n",
              "\n",
              "    .dataframe tbody tr th {\n",
              "        vertical-align: top;\n",
              "    }\n",
              "\n",
              "    .dataframe thead th {\n",
              "        text-align: right;\n",
              "    }\n",
              "</style>\n",
              "<table border=\"1\" class=\"dataframe\">\n",
              "  <thead>\n",
              "    <tr style=\"text-align: right;\">\n",
              "      <th></th>\n",
              "      <th>phrase_text</th>\n",
              "      <th>phrase_ids</th>\n",
              "    </tr>\n",
              "  </thead>\n",
              "  <tbody>\n",
              "    <tr>\n",
              "      <th>239226</th>\n",
              "      <td>zoning ordinances to protect your community fr...</td>\n",
              "      <td>220441</td>\n",
              "    </tr>\n",
              "    <tr>\n",
              "      <th>239227</th>\n",
              "      <td>zzzzzzzzz</td>\n",
              "      <td>179256</td>\n",
              "    </tr>\n",
              "    <tr>\n",
              "      <th>239228</th>\n",
              "      <td>élan</td>\n",
              "      <td>220442</td>\n",
              "    </tr>\n",
              "    <tr>\n",
              "      <th>239229</th>\n",
              "      <td>É</td>\n",
              "      <td>220443</td>\n",
              "    </tr>\n",
              "    <tr>\n",
              "      <th>239230</th>\n",
              "      <td>É um passatempo descompromissado</td>\n",
              "      <td>220444</td>\n",
              "    </tr>\n",
              "  </tbody>\n",
              "</table>\n",
              "</div>"
            ],
            "text/plain": [
              "                                              phrase_text phrase_ids\n",
              "239226  zoning ordinances to protect your community fr...     220441\n",
              "239227                                          zzzzzzzzz     179256\n",
              "239228                                               élan     220442\n",
              "239229                                                  É     220443\n",
              "239230                   É um passatempo descompromissado     220444"
            ]
          },
          "metadata": {
            "tags": []
          },
          "execution_count": 10
        }
      ]
    },
    {
      "cell_type": "code",
      "metadata": {
        "colab": {
          "base_uri": "https://localhost:8080/",
          "height": 204
        },
        "id": "QgfEREDoycbU",
        "outputId": "63b13c4c-fac1-42fa-f219-6addbcbaaae1"
      },
      "source": [
        "# reading the sentiment data\n",
        "sentiment_df = pd.read_csv('stanfordSentimentTreebank/sentiment_labels.txt', sep='\\n')\n",
        "sentiment_df.head()"
      ],
      "execution_count": 11,
      "outputs": [
        {
          "output_type": "execute_result",
          "data": {
            "text/html": [
              "<div>\n",
              "<style scoped>\n",
              "    .dataframe tbody tr th:only-of-type {\n",
              "        vertical-align: middle;\n",
              "    }\n",
              "\n",
              "    .dataframe tbody tr th {\n",
              "        vertical-align: top;\n",
              "    }\n",
              "\n",
              "    .dataframe thead th {\n",
              "        text-align: right;\n",
              "    }\n",
              "</style>\n",
              "<table border=\"1\" class=\"dataframe\">\n",
              "  <thead>\n",
              "    <tr style=\"text-align: right;\">\n",
              "      <th></th>\n",
              "      <th>phrase ids|sentiment values</th>\n",
              "    </tr>\n",
              "  </thead>\n",
              "  <tbody>\n",
              "    <tr>\n",
              "      <th>0</th>\n",
              "      <td>0|0.5</td>\n",
              "    </tr>\n",
              "    <tr>\n",
              "      <th>1</th>\n",
              "      <td>1|0.5</td>\n",
              "    </tr>\n",
              "    <tr>\n",
              "      <th>2</th>\n",
              "      <td>2|0.44444</td>\n",
              "    </tr>\n",
              "    <tr>\n",
              "      <th>3</th>\n",
              "      <td>3|0.5</td>\n",
              "    </tr>\n",
              "    <tr>\n",
              "      <th>4</th>\n",
              "      <td>4|0.42708</td>\n",
              "    </tr>\n",
              "  </tbody>\n",
              "</table>\n",
              "</div>"
            ],
            "text/plain": [
              "  phrase ids|sentiment values\n",
              "0                       0|0.5\n",
              "1                       1|0.5\n",
              "2                   2|0.44444\n",
              "3                       3|0.5\n",
              "4                   4|0.42708"
            ]
          },
          "metadata": {
            "tags": []
          },
          "execution_count": 11
        }
      ]
    },
    {
      "cell_type": "markdown",
      "metadata": {
        "id": "zamwPn3SefZ4"
      },
      "source": [
        "### 1.3 Formatting the dataset"
      ]
    },
    {
      "cell_type": "code",
      "metadata": {
        "id": "mnxTPYOC4_FJ"
      },
      "source": [
        "# formatting the sentiment dataframe for processing\n",
        "sentiment_df['phrase_ids'] = sentiment_df['phrase ids|sentiment values'].apply(lambda x: x.split('|')[0])\n",
        "sentiment_df['sentiment_values'] = sentiment_df['phrase ids|sentiment values'].apply(lambda x: x.split('|')[1])\n",
        "sentiment_df = sentiment_df.drop('phrase ids|sentiment values', axis=1)"
      ],
      "execution_count": 12,
      "outputs": []
    },
    {
      "cell_type": "code",
      "metadata": {
        "colab": {
          "base_uri": "https://localhost:8080/",
          "height": 204
        },
        "id": "9Ag4UWqo5P-T",
        "outputId": "e0dd994e-82c1-48e8-d3cd-deea5bf6de92"
      },
      "source": [
        "sentiment_df.head()"
      ],
      "execution_count": 13,
      "outputs": [
        {
          "output_type": "execute_result",
          "data": {
            "text/html": [
              "<div>\n",
              "<style scoped>\n",
              "    .dataframe tbody tr th:only-of-type {\n",
              "        vertical-align: middle;\n",
              "    }\n",
              "\n",
              "    .dataframe tbody tr th {\n",
              "        vertical-align: top;\n",
              "    }\n",
              "\n",
              "    .dataframe thead th {\n",
              "        text-align: right;\n",
              "    }\n",
              "</style>\n",
              "<table border=\"1\" class=\"dataframe\">\n",
              "  <thead>\n",
              "    <tr style=\"text-align: right;\">\n",
              "      <th></th>\n",
              "      <th>phrase_ids</th>\n",
              "      <th>sentiment_values</th>\n",
              "    </tr>\n",
              "  </thead>\n",
              "  <tbody>\n",
              "    <tr>\n",
              "      <th>0</th>\n",
              "      <td>0</td>\n",
              "      <td>0.5</td>\n",
              "    </tr>\n",
              "    <tr>\n",
              "      <th>1</th>\n",
              "      <td>1</td>\n",
              "      <td>0.5</td>\n",
              "    </tr>\n",
              "    <tr>\n",
              "      <th>2</th>\n",
              "      <td>2</td>\n",
              "      <td>0.44444</td>\n",
              "    </tr>\n",
              "    <tr>\n",
              "      <th>3</th>\n",
              "      <td>3</td>\n",
              "      <td>0.5</td>\n",
              "    </tr>\n",
              "    <tr>\n",
              "      <th>4</th>\n",
              "      <td>4</td>\n",
              "      <td>0.42708</td>\n",
              "    </tr>\n",
              "  </tbody>\n",
              "</table>\n",
              "</div>"
            ],
            "text/plain": [
              "  phrase_ids sentiment_values\n",
              "0          0              0.5\n",
              "1          1              0.5\n",
              "2          2          0.44444\n",
              "3          3              0.5\n",
              "4          4          0.42708"
            ]
          },
          "metadata": {
            "tags": []
          },
          "execution_count": 13
        }
      ]
    },
    {
      "cell_type": "code",
      "metadata": {
        "colab": {
          "base_uri": "https://localhost:8080/"
        },
        "id": "jr4PqXS45lqL",
        "outputId": "92b93d2d-2a13-4a90-aaa3-dcf52f02c3cb"
      },
      "source": [
        "# let's merge the phrases and sentiments\n",
        "dataset_sentiment_df = pd.merge(left=dataset_df, right=sentiment_df, how='inner', on='phrase_ids')\n",
        "# let's also validate the number of datapoints\n",
        "print(f\"dataset df shape: {dataset_df.shape}\")\n",
        "print(f\"sentiment df shape: {sentiment_df.shape}\")\n",
        "print(f\"dataset_sentiment df shape: {dataset_sentiment_df.shape}\")"
      ],
      "execution_count": 14,
      "outputs": [
        {
          "output_type": "stream",
          "text": [
            "dataset df shape: (239231, 2)\n",
            "sentiment df shape: (239232, 2)\n",
            "dataset_sentiment df shape: (239231, 3)\n"
          ],
          "name": "stdout"
        }
      ]
    },
    {
      "cell_type": "markdown",
      "metadata": {
        "id": "1BBvdrf58jIS"
      },
      "source": [
        "*seems good. we missed one datapoint while merging, that's okay for now.*"
      ]
    },
    {
      "cell_type": "code",
      "metadata": {
        "id": "KryruhdYUr5y"
      },
      "source": [
        "def recover_sentiment_class(sentiment_value: float):\n",
        "  \"\"\"\n",
        "  recovering classes from sentiment_values\n",
        "  [very negative, negative, neutral, positive, very positive]\n",
        "  [0, 0.2], (0.2, 0.4], (0.4, 0.6], (0.6, 0.8], (0.8, 1.0]\n",
        "  [0, 1, 2, 3, 4]\n",
        "  respectively\n",
        "  :params:\n",
        "    sentiment_value: floating value of sentiment\n",
        "  \"\"\"\n",
        "  if sentiment_value <= 0.2:\n",
        "    return 0\n",
        "  elif sentiment_value <= 0.4:\n",
        "    return 1\n",
        "  elif sentiment_value <= 0.6:\n",
        "    return 2\n",
        "  elif sentiment_value <= 0.8:\n",
        "    return 3\n",
        "  else:\n",
        "    return 4"
      ],
      "execution_count": 15,
      "outputs": []
    },
    {
      "cell_type": "code",
      "metadata": {
        "id": "P_SD0R93U51s"
      },
      "source": [
        "dataset_sentiment_df['sentiment_class'] = dataset_sentiment_df['sentiment_values'].apply(\n",
        "    lambda x: recover_sentiment_class(float(x)))"
      ],
      "execution_count": 16,
      "outputs": []
    },
    {
      "cell_type": "code",
      "metadata": {
        "colab": {
          "base_uri": "https://localhost:8080/",
          "height": 204
        },
        "id": "CmU5J0sefMJz",
        "outputId": "05eed93b-d59f-4414-d926-6386437e2628"
      },
      "source": [
        "dataset_sentiment_df.tail()"
      ],
      "execution_count": 17,
      "outputs": [
        {
          "output_type": "execute_result",
          "data": {
            "text/html": [
              "<div>\n",
              "<style scoped>\n",
              "    .dataframe tbody tr th:only-of-type {\n",
              "        vertical-align: middle;\n",
              "    }\n",
              "\n",
              "    .dataframe tbody tr th {\n",
              "        vertical-align: top;\n",
              "    }\n",
              "\n",
              "    .dataframe thead th {\n",
              "        text-align: right;\n",
              "    }\n",
              "</style>\n",
              "<table border=\"1\" class=\"dataframe\">\n",
              "  <thead>\n",
              "    <tr style=\"text-align: right;\">\n",
              "      <th></th>\n",
              "      <th>phrase_text</th>\n",
              "      <th>phrase_ids</th>\n",
              "      <th>sentiment_values</th>\n",
              "      <th>sentiment_class</th>\n",
              "    </tr>\n",
              "  </thead>\n",
              "  <tbody>\n",
              "    <tr>\n",
              "      <th>239226</th>\n",
              "      <td>zoning ordinances to protect your community fr...</td>\n",
              "      <td>220441</td>\n",
              "      <td>0.13889</td>\n",
              "      <td>0</td>\n",
              "    </tr>\n",
              "    <tr>\n",
              "      <th>239227</th>\n",
              "      <td>zzzzzzzzz</td>\n",
              "      <td>179256</td>\n",
              "      <td>0.19444</td>\n",
              "      <td>0</td>\n",
              "    </tr>\n",
              "    <tr>\n",
              "      <th>239228</th>\n",
              "      <td>élan</td>\n",
              "      <td>220442</td>\n",
              "      <td>0.51389</td>\n",
              "      <td>2</td>\n",
              "    </tr>\n",
              "    <tr>\n",
              "      <th>239229</th>\n",
              "      <td>É</td>\n",
              "      <td>220443</td>\n",
              "      <td>0.5</td>\n",
              "      <td>2</td>\n",
              "    </tr>\n",
              "    <tr>\n",
              "      <th>239230</th>\n",
              "      <td>É um passatempo descompromissado</td>\n",
              "      <td>220444</td>\n",
              "      <td>0.5</td>\n",
              "      <td>2</td>\n",
              "    </tr>\n",
              "  </tbody>\n",
              "</table>\n",
              "</div>"
            ],
            "text/plain": [
              "                                              phrase_text  ... sentiment_class\n",
              "239226  zoning ordinances to protect your community fr...  ...               0\n",
              "239227                                          zzzzzzzzz  ...               0\n",
              "239228                                               élan  ...               2\n",
              "239229                                                  É  ...               2\n",
              "239230                   É um passatempo descompromissado  ...               2\n",
              "\n",
              "[5 rows x 4 columns]"
            ]
          },
          "metadata": {
            "tags": []
          },
          "execution_count": 17
        }
      ]
    },
    {
      "cell_type": "markdown",
      "metadata": {
        "id": "QoMMQF2c-mK2"
      },
      "source": [
        "## 2. Generate Input Features"
      ]
    },
    {
      "cell_type": "markdown",
      "metadata": {
        "id": "7-ebOUBRdkFo"
      },
      "source": [
        "### 2.1 Generating the word vectors With Keras Tokenizer"
      ]
    },
    {
      "cell_type": "code",
      "metadata": {
        "colab": {
          "base_uri": "https://localhost:8080/"
        },
        "id": "D6z2VqjKAH6Q",
        "outputId": "e2f7fb9f-cff3-488d-d5b9-17dd2eb91104"
      },
      "source": [
        "phrase_max_length = len(max(list(dataset_df['phrase_text']), key=len))\n",
        "print(f\"phrase_max_length: {phrase_max_length}\")"
      ],
      "execution_count": 66,
      "outputs": [
        {
          "output_type": "stream",
          "text": [
            "phrase_max_length: 267\n"
          ],
          "name": "stdout"
        }
      ]
    },
    {
      "cell_type": "markdown",
      "metadata": {
        "id": "hyqH3kFBBcWO"
      },
      "source": [
        "*we've a phrase with max length of 267 characters*"
      ]
    },
    {
      "cell_type": "code",
      "metadata": {
        "id": "pJSHxvGExJ9f"
      },
      "source": [
        "num_words = 3000\n",
        "keras_tokenizer = Tokenizer(num_words=num_words, split=' ')\n",
        "keras_tokenizer.fit_on_texts(dataset_sentiment_df['phrase_text'].values)\n",
        "sequenced_dataset = keras_tokenizer.texts_to_sequences(dataset_sentiment_df['phrase_text'])\n",
        "sequenced_dataset = pad_sequences(sequenced_dataset, padding='post', maxlen=phrase_max_length)"
      ],
      "execution_count": null,
      "outputs": []
    },
    {
      "cell_type": "markdown",
      "metadata": {
        "id": "rRSWptnW5Rmd"
      },
      "source": [
        "### 2.2 Generating the word vectors with Spacy large models"
      ]
    },
    {
      "cell_type": "code",
      "metadata": {
        "id": "pkRlzCBU7dkM"
      },
      "source": [
        "# loading the spacy model\n",
        "spacy_large_model = spacy.load('en_core_web_lg')"
      ],
      "execution_count": 2,
      "outputs": []
    },
    {
      "cell_type": "code",
      "metadata": {
        "colab": {
          "base_uri": "https://localhost:8080/",
          "height": 34
        },
        "id": "SbTxtj1rHkZw",
        "outputId": "b14d8dff-005b-471b-e46d-2df03575748e"
      },
      "source": [
        "# formatting all the phrase texts to a list\n",
        "list_of_phrases = list(dataset_sentiment_df['phrase_text'])\n",
        "# a new list to store the spacy tokens of all the sequences\n",
        "list_of_phrases_spacy_tokens = list()\n",
        "# count of all the phrases for progress bar\n",
        "total_phrases = len(list_of_phrases)\n",
        "# initalising the progress bar\n",
        "out = display(progress(0, total_phrases), display_id=True)\n",
        "\n",
        "# converting all the sequences to its spacy based tokens\n",
        "for index, phrase in enumerate(list_of_phrases):\n",
        "  out.update(progress(index, total_phrases))\n",
        "  list_of_phrases_spacy_tokens.append(spacy_large_model(phrase))"
      ],
      "execution_count": 42,
      "outputs": [
        {
          "output_type": "display_data",
          "data": {
            "text/html": [
              "\n",
              "        <progress\n",
              "            value='239230'\n",
              "            max='239231',\n",
              "            style='width: 100%'\n",
              "        >\n",
              "            239230\n",
              "        </progress>\n",
              "    "
            ],
            "text/plain": [
              "<IPython.core.display.HTML object>"
            ]
          },
          "metadata": {
            "tags": []
          }
        }
      ]
    },
    {
      "cell_type": "markdown",
      "metadata": {
        "id": "J5_ISllYX40e"
      },
      "source": [
        "we've converted each words to it's word2vec with spacy's large english model"
      ]
    },
    {
      "cell_type": "code",
      "metadata": {
        "colab": {
          "base_uri": "https://localhost:8080/"
        },
        "id": "fy73zDjEYCnH",
        "outputId": "253baac6-8bc8-4a3c-cda8-5d44b75ac6ed"
      },
      "source": [
        "list_of_oov_words = []\n",
        "for phrases_spacy_tokens in list_of_phrases_spacy_tokens:\n",
        "  for token in phrases_spacy_tokens:\n",
        "    if token.is_oov:\n",
        "      list_of_oov_words.append(token.text)\n",
        "      print(token.text, end='\\t')"
      ],
      "execution_count": 48,
      "outputs": [
        {
          "output_type": "stream",
          "text": [
            "Romething\t8217\t8217\t8217\tCockettes\tcockettes\tcockettes\tcockettes\tcockettes\tcockettes\tflatula\tDenlopp\tflatula\tDenlopp\tKaputschnik\tFeardotcom\tKaputschnik\tHennings\tuntugged\tKaputschnik\tpowerment\tVardalos\tVardalos\tMorvern\tCallar\tMorvern\tCallar\tprecollegiate\tNebrida\tNebrida\tLaurice\tNebrida\tLaurice\tNebrida\tLaurice\tNebrida\tLaurice\tX\tX\tCopmovieland\tmark\tPicpus\tOhlinger\tadventues\tLePlouff\tLePlouff\t76-minute\twaydowntown\twaydowntown\tNettelbeck\tNettelbeck\tZishe\tHanussen\tZishe\tHanussen\tTruckzilla\tTruckzilla\tTruckzilla\tTruckzilla\tTruckzilla\tTruckzilla\tTruckzilla\tKaputschnik\tKaputschnik\tnumber\tlikably\tPhocion\tPhocion\tage\\/coming\tage\\/coming\tmusclefest\tmusclefest\tmusclefest\tmusclefest\tmusclefest\tmusclefest\tmusclefest\tShagster\tShagster\tSchwentke\tSchwentke\tpsychodramatics\tpsychodramatics\thastier\tBjorkness\tBjorkness\tunfussily\tunfussily\tmother\\/daughter\tmother\\/daughter\tand\\/or\tand\\/or\tsitcomishly\tsitcomishly\tsitcomishly\tdemocracie\tMuccino\tMuccino\tmuccino\tmuccino\tJacquot\tJacquot\tToback\tToback\tmark\tmark\tteendom\tRINGU\tRINGU\tRINGU\tRINGU\tnumber\tnumber\tnumber\tnumber\tdrama\\/character\tdrama\\/character\tcop\tcop\tchopsocky\tRubbo\trubbo\tX\tX\telaborateness\tprefeminist\tAddessi\tAddessi\troot\troot\toverplotted\toverplotted\tKosashvili\ts\\/m\tdeadeningly\ts\\/m\tdeadeningly\tricture\tricture\tcop\tcop\tcelebrityhood\tdefeatingly\tbottomlessly\tbottomlessly\tX\tX\t90-plus\t90-plus\tunslick\tmark\tobviation\tobviation\tshapable\tshapable\tKalvert\tKalvert\tRecoing\tRecoing\tRecoing\tRecoing\tSoapdish\tSoapdish\t79-minute\t79-minute\tBielinsky\tmark\tSoapdish\tflatula\tDenlopp\tslummer\tstuporously\tAhola\tAhola\tAssayas\tAssayas\tAttal\tAttal\tAuteil\tMagimel\tBreheny\tBreheny\tBreheny\tdiciness\tespite\tespite\tventually\tventually\tVulakoro\tVulakoro\tVulakoro\tGayton\tGayton\tGoldbacher\tGoldbacher\tGulpilil\tGulpilil\tGulpilil\tGulpilil\tGulpilil\tGulpilil\tVenice\\/Venice\tBesco\tMajidi\tMajidi\tNæs\tNæs\tartnering\tartnering\tartnering\tSabara\tSabara\tScherfig\tScherfig\tPimental\tPimental\tPimental\tPimental\tPimental\tPimental\tBazadona\tBazadona\toverplotted\tTestud\tTestud\tCockettes\tCantet\tToback\tToback\tToback\tToback\tsailboaters\tsailboaters\tnrelentingly\tmark\tmark\tcannier\tcannier\tRubbo\tcondensada\ttrocadilho\tartnering\tartnering\tartnering\tartnering\tartnering\tartnering\tartnering\tartnering\ttoback\ttoback\ttoback\tkirkegaard\ttoback\tkirkegaard\ttoback\tkirkegaard\ttoback\tkirkegaard\twriter\\/director\twriter\\/director\twriter\\/director\tPimental\tVenice\\/Venice\tAhola\tdiciness\tGoldbacher\tTestud\t102-minute\t91-minute\t99-minute\tAbbass\tBorstal\tBurkinabe\tKurys\tCletis\tCletis\tcapturou\tDridi\tWildean\tFearDotCom\tnumber\tlandbound\tHolofcener\twife\\/colleague\tDecasia\tJacquot\tJacquot\tJacquot\tA.E.W.\tKhouri\tSteinis\tSteinis\tDestinees\tMIBII\tMaelström\tinvolvingly\tKuras\tMinac\tDesplechin\tMontias\tDesplechin\tMontias\tcop\tcinemantic\tC.H.O.\tOzpetek\tPayami\tRunTelDat\tMusset\t24\\/7\tScherfig\tcop\tSilberling\tShainberg\tShainberg\t103-minute\tTestud\tDogwalker\tX\tgabbiest\tCletis\tCletis\tPapai\tClayburgh\tMcKlusky\tdirector\\/co\tdirectress\tuncharismatically\tSchweig\tdrippiness\troot\tsailboaters\tmark\tMontias\tMontias\tcoltish\t85-minute\tMorvern\tCallar\tSeldahl\tWollter\tmark\tdrippiness\tPiesiewicz\tShainberg\tprecollegiate\troot\troot\tDebrauwer\tcop\tsemimusical\tcop\tculminando\tdesfecho\tcop\taction\\/effects\tdirector\\/co\tpredecesora\tpistoled\tdumbfoundingly\tBallesta\twriter\\/director\tAchero\tforgettably\tagent\theadbangingly\tMeeropol\tPeploe\tPeploe\tunfakable\tImaxy\trepellantly\tunfakable\tZishe\tHanussen\tunfussily\tunfussily\tand\\/or\tJacquot\tdrama\\/character\tdrama\\/character\ts\\/m\tdeadeningly\tTanovic\tlikableness\trevigorates\ttryingly\tlaugther\tBierbichler\tBleibtreu\tTravil\tNenette\ttravil\tnenette\ttravil\tnenette\ttravil\tnenette\trepellantly\t102-minute\tcareworn\tlaugther\tAttal\ttelanovela\tconstatação\tbrilhantismo\tentreter\tmergulha\tculminando\tdesfecho\tMusset\tovermanipulative\toverplotted\tPapai\tentretiene\tEllefsen\tprep\tMorvern\tsemimusical\tpincel\tsidesplitting\tsidesplitting\tlaugther\tMeeropol\tsurfacey\tBurstein\tactorliness\tCockettes\tClayburgh\tHerek\tPresson\tAmoses\tsoaringly\tprewarned\t1\\/2\tjuiceless\tinconsequentiality\tNettelbeck\ttransfixes\tFelinni\tRintarô\tnumber\tX\troot\tKrawczyk\tPG-13-rated\tBerling\tChabrolian\troot\troot\tstuffiest\tlikably\tcop\tthumpingly\tMullinski\tunfakable\tunrecommendable\tunfussily\tvisualmente\tforgettably\twaydowntown\tDamon\\/Bourne\tX\tDogwalker\tAddessi\tKalesniko\twriter\\/director\tAchero\twriter\\/director\tKosashvili\tVardalos\tX\tcop\tcop\tVardalos\tVardalos\tMollà\tImaxy\tAllodi\tNolden\tToback\thastier\tnumber\twife\\/colleague\tgangster\\/crime\tprewarned\ttruncheoning\tAddessi\tCantet\t103-minute\tDesplechin\tWierzbicki\tHundert\tKoshashvili\tMontias\tKoshashvili\tNebrida\tPeploe\tSerrault\tSeldhal\tSerrault\tsorprenderá\tPeploe\tmark\tBelinsky\tcheatfully\tAssayas\tsidesplitting\tGaghan\tscuzbag\tJagjit\tMagimel\tbibbidy\tbobbidi\t4\\/5ths\t4\\/5ths\tforgettably\t3\\/4th\tactioners\tKhouri\tKhouri\tdudsville\tdudsville\tbohos\tpokepie\t91-minute\t91-minute\tcondundrum\thumbuggery\tflatula\tDenlopp\tflatula\tDenlopp\tflatula\tDenlopp\tKurys\t2\\/3\ttruncheoning\tHennings\tMusset\tnumber\tX\t102-minute\t102-minute\t102-minute\t103-minute\t103-minute\t112-minute\t112-minute\t129-minute\t129-minute\t168-minute\t168-minute\t170-minute\t170-minute\t179-minute\t179-minute\tsailboaters\tdrama\\/action\teroti\t1\\/2\t1\\/2\t20-car\t20-car\tinvolvingly\t21\\/2\t24-and\t24\\/7\t2\\/3\t1\\/2\t3\\/4th\t4\\/5ths\t4\\/5ths\t65-minute\t65-minute\t72-minute\t72-minute\t76-minute\t76-minute\t77-minute\t77-minute\t79-minute\t79-minute\t79-minute\t8217\t85-minute\t85-minute\t85-minute\t87-minute\t1\\/2\t1\\/2\t1\\/2\t1\\/2\tsmashups\tsmashups\t90-plus\t90-plus\t90-plus\t91-minute\t91-minute\t93-minute\t93-minute\t94-minute\t94-minute\t95-minute\t95-minute\t99-minute\t9\\/11\tmark\twriter\\/director\\/producer\tagent\tNebrida\tLaurice\tAddessi\t93-minute\t93-minute\t93-minute\t94-minute\t94-minute\t94-minute\tpassatempo\tdescompromissado\tpassatempo\tdescompromissado\tX\tX\tSeldahl\tWollter\tbudget\\/all\tbudget\\/all\tbudget\\/all\tTashlin\tTashlin\twincingly\twincingly\tHolofcenter\tHolofcenter\tHolofcenter\twriter\\/director\tHolofcenter\twriter\\/director\tHolofcenter\twriter\\/director\tHolofcenter\twriter\\/director\tHolofcenter\twriter\\/director\tHolofcenter\twriter\\/director\tmother\\/daughter\tmother\\/daughter\tcop\tcop\tcop\tmateralism\tmateralism\tpulpiness\tGheorghiu\tAlagna\tGheorghiu\tAlagna\texporing\texporing\tunder-10\tunder-10\tBurstein\tunconned\tovermanipulative\tvideologue\t99-minute\t99-minute\tunlaughable\tunlaughable\tunlaughable\tunlaughable\tfillm\tand\\/or\tand\\/or\tand\\/or\tand\\/or\t1\\/2\thorror\\/thriller\thorror\\/thriller\tsuspenser\tsuspenser\tpowerment\tpowerment\tpowerment\tmortarboards\tcomedy\\/drama\tcomedy\\/drama\tcomedy\\/drama\t21\\/2\t21\\/2\t21\\/2\t21\\/2\tT&A\tT&A\tunrecommendable\tidoosyncratic\tidoosyncratic\tidoosyncratic\tidoosyncratic\tDridi\tDridi\tcop\tcop\t179-minute\t179-minute\t179-minute\t179-minute\tAbbass\tAbbass\tAbbass\tAbbass\tAbbass\tAbbass\tseriocomic\tseriocomic\tseriocomic\tKosashvili\tIdemoto\tIdemoto\tshimmeringly\tshimmeringly\tSerrault\tSerrault\tIsraeli\\/Palestinian\tIsraeli\\/Palestinian\t95-minute\tfunny\\/gritty\tfountainheads\tfountainheads\tdeed\\/bad\tdeed\\/bad\tsuspenser\tsuspenser\tsemimusical\tsemimusical\tprep\tprep\tprep\tprep\tindieflick\tdrung\troisterous\troisterous\troisterous\troisterous\troisterous\troisterous\troisterous\tuntugged\tuntugged\tunplundered\tuntugged\tunplundered\tuntugged\tunplundered\tAddessi\tA.E.W.\tA.E.W.\tA.E.W.\tA.E.W.\tANTWONE\tANTWONE\tAbbass\tAbbass\tPetroni\tAbderrahmane\tAbderrahmane\tSissako\tAbderrahmane\tSissako\tHeremakono\tAbderrahmane\tSissako\tHeremakono\tAbderrahmane\tSissako\tHeremakono\tcrowdpleaser\tcrowdpleaser\tmark\tmark\tmark\tmark\tAchero\tAchero\twriter\\/director\twriter\\/director\tWatstein\tWatstein\tAddessi\tZishe\tHanussen\tand\\/or\tand\\/or\tnuld\tnuld\tnuld\tnuld\tAhola\tAhola\tAhola\tAhola\tAhola\tAhola\tAhola\tAhola\tAlagna\tChoquart\tChoquart\tChoquart\tNohe\tNohe\tNohe\tMacGraw\tMacGraw\tfuhgeddaboutit\troot\tmeaningness\tmeaningness\tmeaningness\tCacoyannis\tCacoyannis\tCacoyannis\tatacarse\tatacarse\tatacarse\tatacarse\toutgag\tAllodi\tAllodi\tAllodi\tNolden\tAllodi\tNolden\tpeerlessly\tpeerlessly\tEstela\tEstela\tvideo\\/DVD\tHerek\tAssayas\tAssayas\ts\\/m\tdeadeningly\tlikably\tlikably\tX\twife\\/colleague\tBlethyn\tBlethyn\talientation\talientation\tAmoses\tAmoses\tAmoses\tAmoses\taction\\/thriller\taction\\/thriller\taction\\/thriller\tartsploitation\tartsploitation\tartsploitation\tcomic\\/thriller\tcomic\\/thriller\tcannier\tcop\tunsalvageability\tunsalvageability\tunsalvageability\tcomedy\\/thriller\timponderably\timponderably\troot\t170-minute\tsoaper\tsoaper\tsoaper\tunclassifiably\tunclassifiably\tunclassifiably\tunencouraging\tunencouraging\tunencouraging\tunencouraging\twriter\\/director\twriter\\/director\taction\\/comedy\taction\\/comedy\tViterelli\tAbbass\tAbbass\twriter\\/directors\tunfussily\tChristelle\tGheorghiu\tGheorghiu\tGheorghiu\tGheorghiu\tGheorghiu\tGheorghiu\tAlagna\tGheorghiu\tAlagna\tGheorghiu\tAlagna\tdirectress\tMouglalis\tMarcken\tbornin\tbornin\tAnspaugh\tAnspaugh\tAnspaugh\tnumber\tsplatterfests\tsplatterfests\tPapai\tinquestionável\tApallingly\tApallingly\tApallingly\tentreter\tAttal\tAttal\tAttal\tAttal\tApuestas\tApuestas\tBielinsky\tmusclefest\tReigen\tPresson\tCockettes\ttryingly\tSteinis\tSteinis\tVardalos\tVardalos\tMolony\tMolony\tPG-13-rated\tC.H.O.\tKalesniko\tAbbass\tAbbass\tdesecrations\tdesecrations\tdesecrations\tdesecrations\tCletis\tCletis\tTestud\twriter\\/directors\twriter\\/directors\tdirectress\tAsiaphiles\tAsiaphiles\tfeardotcom\tfeardotcom\tfeardotcom.com\tfeardotcom.com\tAssayas\tAssayas\tAssayas\tAssayas\tAssayas\tChardonne\tAssayas\tChardonne\tX\tCletis\tunder-7\tunder-7\tmark\tmark\tFelinni\tnumber\tAttal\tAttal\tAttal\tAttal\tAttal\tAttal\tAttal\tAttal\tAttal\tAttal\tAttal\tAttal\tAttal\tAttal\tAttal\tAttal\tAttal\tAttal\tAttal\tAttal\tAttal\tChristelle\tactor\\/director\tactor\\/director\tactor\\/director\tNuttgens\tactor\\/director\tNuttgens\tFlatman\tFlatman\tAuteil\tAuteil\tAuteil\tAuteil\tHellstenius\tPayami\tPayami\tPayami\tPayami\tdumbfoundingly\tdumbfoundingly\tdumbfoundingly\tdumbfoundingly\tBallesta\tMajidi\tBarberShop\tBazadona\tBazadona\tTravil\tTravil\tTravil\tNenette\tcop\tcop\tcop\tShainberg\tBelinsky\tBelinsky\tMullinski\tvideo\\/DVD\tvideo\\/DVD\tmark\tmark\tmark\tmark\tmark\tmark\tmark\tmark\tmark\tmark\tlikableness\tJacquot\tBenshan\tBerling\tBerling\tBerling\tBéart\tBerling\tBéart\tBerling\tBéart\tBerling\tBéart\tBerling\tBéart\tBerling\tBéart\tTalancón\tBesco\tBettany\\/McDowell\tBettany\\/McDowell\tBettany\\/McDowell\tBielinsky\tBielinsky\tBielinsky\tBielinsky\tBielinsky\tBielinsky\tBierbichler\tKaputschnik\tKaputschnik\tDecasia\tDecasia\tMagimel\tMagimel\tMagimel\tcomedy\\/drama\tcomedy\\/drama\tcomedy\\/drama\tBjorkness\tcheatfully\tBleibtreu\tAhola\tAhola\tAhola\tAhola\tBlethyn\tBlisteringly\tBlisteringly\tBlisteringly\tachronological\tachronological\tHennings\tBlutarsky\tBlutarsky\tBlutarsky\tBolado\tBolado\tBolado\tBollywood\\/Hollywood\tBollywood\\/Hollywood\tSychowski\tBorstal\tBorstal\tBorstal\tBorstal\tBorstal\thowlingly\thowlingly\tagent\tBleibtreu\tBreheny\tBreheny\tBreheny\tBreillat\tBreillat\tHanussen\tBurstein\tTufano\tTufano\tTufano\tTufano\tGrabowsky\tTufano\tGrabowsky\tVolletta\tVolletta\tVolletta\tVolletta\tVolletta\tBondish\tBondish\tentretiene\tentretiene\tBrothers\\/Abrahams\tBrothers\\/Abrahams\tFamuyiwa\tindomitability\tBruckheimeresque\tBruckheimeresque\tBurkinabe\tBurkinabe\tBurkinabe\tBurkinabe\tBurkinabe\twaydowntown\tBurstein\tToback\tNettelbeck\tfantasti\tButterfingered\tButterfingered\tBéart\tBéart\tBéart\tBerling\tBéart\tBerling\tC.H.O.\tC.H.O.\tC.H.O.\tagent\tagent\tCacoyannis\tCacoyannis\tCacoyannis\tCacoyannis\tCacoyannis\tCallar\tKhouri\tKhouri\tsailboaters\tmordantly\tmordantly\tCantet\tCantet\tCantet\tCantet\tCarion\tCarion\tCarion\tCarion\tCarion\tCarion\tFresnadillo\tSabara\tBreillat\tBreillat\tChabrolian\tKaige\tKaige\tCharacterisation\tCharacterisation\tChardonne\tAddessi\tAddessi\tAddessi\tAddessi\tAddessi\tAddessi\tderisions\tagent\tagent\tagent\tagent\tKaige\tKaige\tKaige\tKaige\tKaige\tKurys\tChoquart\tChoquart\tChouraqui\tChouraqui\tChouraqui\tChristelle\tEllefsen\tCineasts\tCineasts\tbornin\tCirulnick\tKilner\tPeploe\tPeploe\tPeploe\tClayburgh\tClayburgh\tClayburgh\tClayburgh\tClayburgh\tClayburgh\tClayburgh\tClayburgh\tCleanFlicks\tCleanFlicks\tClericks\tCletis\tCletis\tCletis\tCletis\tCletis\tCletis\twriter\\/director\twriter\\/director\twriter\\/director\twriter\\/director\tCockettes\tCockettes\tCockettes\tpost-9\tpost-9\tCollosum\tBurkinabe\tacerta\tcapturou\tcapturou\tRunTelDat\tContando\tContando\tContando\tmergulha\tculminando\tdesfecho\t1\\/2\tCopmovieland\tCopmovieland\tCopmovieland\tCorcuera\tCorcuera\tCorcuera\tCorcuera\tCorcuera\tCoriat\tCollosum\tCollosum\tShadyac\tShadyac\tShadyac\tShadyac\tShadyac\tsidesplitting\tsidesplitting\tCroze\tCroze\tCrummles\tCsokas\t103-minute\tDamon\\/Bourne\tDamon\\/Bourne\tDamon\\/Bourne\tJanklowicz\tJanklowicz\tJanklowicz\tJanklowicz\tSpinotti\tTanovic\tTanovic\tDankworth\tDankworth\tVerete\tSpinotti\tSpinotti\tFlatman\tHennings\tPresson\tDawdles\tDawdles\tDawdles\tDawdles\tDawdles\tDawdles\tDawdles\tDankworth\tDankworth\tDeadeningly\tDeadeningly\tDeadeningly\tDeadeningly\tDeadeningly\tDeadeningly\tlaboriousness\tDebrauwer\tDebrauwer\tDebrauwer\tDecasia\tDecasia\tDecasia\tPetin\tPetin\tPetin\tPetin\tPetin\tprovocatuers\tTestud\tDenlopp\tunsuspenseful\tKrawczyk\tStevenon\tStevenon\tjuiceless\tBelinsky\ttelanovela\tClayburgh\tDesplechin\tcapturou\tcapturou\tDestinees\tJuliet\\/West\tDevolves\tDevolves\tDevolves\tmark\tmark\tJacquot\tJacquot\tJacquot\tJacquot\tJacquot\tSychowski\tSychowski\tKilner\tKilner\tKilner\tChouraqui\tChouraqui\tChouraqui\tChouraqui\tChouraqui\tFerzan\tOzpetek\tFerzan\tOzpetek\tFerzan\tOzpetek\tFerzan\tOzpetek\tFerzan\tOzpetek\tSavoca\tSavoca\tSavoca\tSavoca\tKosminsky\tKosminsky\tKosminsky\tKosminsky\tKosminsky\tcop\tcop\tShadyac\tShadyac\tMuccino\tMuccino\tBurstein\tBurstein\tMusker\tMusker\tMusker\tMusker\tMusker\tMusker\tMusker\tMusker\tMusker\t24\\/7\tDivertingly\tDivertingly\tDivertingly\theadbangingly\tDjeinaba\tDjeinaba\tmark\tmark\t77-minute\t77-minute\tnonethnic\tDognini\tDogwalker\tKosashvili\tKosashvili\tKosashvili\tKosashvili\tKosashvili\tDowse\twriter\\/director\\/producer\tDridi\tDridi\tKaputschnik\tKaputschnik\tKaputschnik\tKaputschnik\tinconsequentiality\tconstatação\tX\tmelodrama\\/character\tmelodrama\\/character\troot\troot\tEckstraordinarily\tEckstraordinarily\tEckstraordinarily\tX\tEfteriades\tEfteriades\tmonster\\/science\tChouraqui\tEllefsen\tEllefsen\tEllefsen\tEllefsen\tNuttgens\tEqulibrium\tEqulibrium\tSchweig\tSchweig\tSchweig\tSchweig\tvisualmente\tvisualmente\tsorprenderá\tEstela\tEstela\tEstela\tEstela\tsurehanded\tsurehanded\tVardalos\tVardalos\tlikableness\tcop\tcop\tSoapdish\tSoapdish\tSoapdish\t129-minute\t129-minute\tWildean\tWildean\tWildean\tWildean\tWildean\tEverlyn\tEverlyn\tSampi\tMcKlusky\tMcKlusky\tsentimentalized\tnonjudgmentally\tnonjudgmentally\tPaymer\tPaymer\tBerling\tBielinsky\tFamuyiwa\tFamuyiwa\tFamuyiwa\tFamuyiwa\tBorstal\t1\\/2\tStortelling\tautocritique\tFearDotCom\tFearDotCom\tnumber\tFeardotcom\tFeardotcom\tFeardotcom\tFeardotcom\tFeardotcom\tFeardotcom\tFeardotcom\tFeardotcom\tFeardotcom\tFeardotcom\tFeardotcom\tFeardotcom\tFeardotcom\tdebuter\tdebuter\tGayton\tdebuter\tdebuter\tGayton\tX\tuntidily\tFelinni\tFelinni\tFelinni\tFerzan\tFerzan\tOzpetek\tdungpile\tdungpile\tbracingly\tVulakoro\tVulakoro\tVulakoro\tVulakoro\ttransfixes\tJanklowicz\tJanklowicz\tdemocracie\tCockettes\tCockettes\tCockettes\tCockettes\tCockettes\tHennings\tHennings\tMorvern\tFlatman\tFleder\tdiciness\tSeldahl\tWollter\tX\tgabbiest\tlandbound\t1\\/2\t168-minute\t168-minute\tNettelbeck\tstuffiest\tBettany\\/McDowell\tFormuliac\tFormuliac\tMcKlusky\tMcKlusky\tMcKlusky\tTashlin\tDridi\tDridi\tcop\tFresnadillo\tFresnadillo\tFresnadillo\tFresnadillo\tFresnadillo\tDridi\tWierzbicki\tWierzbicki\tWierzbicki\tWierzbicki\tMuccino\tGaghan\tGaghan\tGaghan\tGaghan\tToback\tToback\tToback\tToback\tToback\tToback\tToback\tGantzes\tGantzes\tTalancón\tTalancón\tTalancón\tTalancón\tTalancón\tTalancón\tFleder\tGayton\tGayton\tGayton\tGayton\tGaï\tGedeck\tGedeck\tGedeck\tX\tRechy\tLePlouff\tKosashvili\tGerbosi\tGerbosi\tsillified\tGheorghiu\tlandbound\tRomoli\tNuttgens\tBolado\tBolado\tBolado\tBolado\tBolado\troot\troot\tdirgelike\tdirgelike\tGlizty\tGlizty\tGlizty\tAttal\tAttal\tAttal\tAttal\tGoldbacher\tGoldbacher\tGoldbacher\tGoldbacher\tGoldbacher\tGoldbacher\tCoriat\tGoldbacher\tCoriat\tmoviehouse\troot\troot\t1\\/2\t1\\/2\tGrabowsky\tGrabowsky\tcadness\tSchweig\tSchweig\tToback\tGuei\tGulpilil\tGulpilil\tJagjit\tGutterball\tHIV\\/AIDS\tHIV\\/AIDS\tHitchcockianism\tHitchcockianism\tChabrolian\tHanussen\t1\\/2\t1\\/2\t1\\/2\t1\\/2\t1\\/2\t1\\/2\t1\\/2\t1\\/2\t1\\/2\tHashiguchi\tHashiguchi\tHashiguchi\tHashiguchi\tHashiguchi\tHashiguchi\tHashiguchi\tHashiguchi\tHashiguchi\tHashiguchi\tHashiguchi\tHatosy\tHatosy\tKhouri\tmark\tmark\tagent\tagent\tagent\tagent\tNæss\tHellstenius\tToback\tToback\tHellstenius\tHIV\\/AIDS\tHIV\\/AIDS\tHennings\tHerek\tHerek\tHeremakono\tHermocrates\tAhola\tAhola\tMarine\\/legal\tMarine\\/legal\tMarine\\/legal\tMarine\\/legal\tMarine\\/legal\tMarine\\/legal\tMarine\\/legal\tMarine\\/legal\tMarine\\/legal\tMarine\\/legal\tCrummles\tHiguchinsky\tHirosue\tX\tHjejle\tHjejle\tHjelje\tdrippiness\tdrippiness\tprep\tprep\thastier\tfrightfest\tHjelje\tHjelje\tHjejle\tHolofcener\tHolofcener\tHolofcener\tHolofcener\tHolofcener\tHolofcener\tHolofcener\tHolofcener\tHolofcener\tHolofcener\tHolofcener\tHolofcener\tHolofcenter\tHopkins\\/Rock\tHopkins\\/Rock\tHubac\tHubac\tHundert\twife\\/colleague\twife\\/colleague\tMagimel\tNebrida\tLaurice\tNebrida\tLaurice\t79-minute\t79-minute\tmark\tX\tSilberling\tSilberling\tSilberling\tSilberling\tSilberling\tagent\tagent\tVardalos\tVardalos\tDecasia\tmark\tmark\tRunteldat\tRunteldat\tRunteldat\tRunteldat\tRunteldat\tRunteldat\tX\tIdemoto\tflatula\tDenlopp\tMorvern\tCallar\tMorvern\tCallar\tZaidan\tRunteldat\tRunteldat\tBielinsky\tcopyof\tcopyof\tcopyof\tcopyof\tI-2-spoofing\tI-2-spoofing\tHjelje\tHjelje\tIdemoto\tIdemoto\tIdemoto\tIdemoto\tBorstal\tBorstal\tbracingly\tbracingly\tnumber\tnumber\tDowse\tDowse\tshlockmeister\tshlockmeister\tJacquot\tAddessi\tAddessi\tAddessi\tAddessi\tLePlouff\tLePlouff\tX\tPicpus\tPicpus\tadventues\tadventues\tadventues\tadventues\tDecasia\tX\tand\\/or\tand\\/or\tand\\/or\tand\\/or\tgorefests\tgorefests\tinterspliced\tinterspliced\tCleanFlicks\tMacGraw\tCleanFlicks\tMacGraw\tImaxy\tFleder\tAuteil\tAuteil\t102-minute\t102-minute\t102-minute\t102-minute\t102-minute\t102-minute\t102-minute\t24\\/7\trevigorates\tnumber\tthumpingly\tthumpingly\tSilberling\tJacquot\tTanovic\tdrama\\/character\tdrama\\/character\tPayami\tKurys\tuncharismatically\tPeploe\tClayburgh\tClayburgh\tClayburgh\tClayburgh\tClayburgh\tJagjit\tX\tX\tIosseliani\tIosseliani\tBorstal\tBorstal\tBorstal\twife\\/colleague\tCletis\tCletis\tpistoled\tpistoled\tMouglalis\tIsraeli\\/Palestinian\tIsraeli\\/Palestinian\twaydowntown\tNettelbeck\tTruckzilla\tTruckzilla\tmark\tmark\tnumber\tnumber\tPhocion\tmusclefest\tShagster\tSchwentke\tpsychodramatics\tmother\\/daughter\tsitcomishly\tToback\tmark\tHopkins\\/Rock\tHopkins\\/Rock\tteendom\tteendom\tteendom\tteendom\tteendom\tRINGU\tRINGU\tC.H.O.\tC.H.O.\tnumber\tnumber\tnumber\tcop\tbottomlessly\tcop\tbottomlessly\tX\tunslick\tunslick\tunslick\tunslick\tunslick\tobviation\tKalvert\tRecoing\tRecoing\tMarcken\tMarcken\tMarcken\tMarcken\tmystery\\/thriller\tvideo\\/DVD\tPeploe\tMarivaux\tPeploe\tMarivaux\tKazmierski\tRechy\tundogmatic\tSeldahl\tWollter\tSeldahl\tWollter\tthumpingly\tthumpingly\tthumpingly\treel\\/real\tVenice\\/Venice\tmother\\/daughter\tmother\\/daughter\tmother\\/daughter\tmother\\/daughter\tdullingly\tdullingly\tChardonne\tJacquot\tJacquot\tJacquot\tJacquot\tJacquot\tJacquot\tJacquot\tJacquot\tJacquot\tJacquot\tJacquot\tJacquot\tJacquot\tJacquot\tJacquot\tJacquot\tJacquot\tJacquot\tJacquot\tJagjit\tJagjit\tVenice\\/Venice\tJaglomized\tJaglomized\tJanklowicz\tJanklowicz\tJanszen\tJapanimator\tJapanimator\tX\tX\tX\tX\tX\tX\tX\tX\tX\tX\tX\tX\tX\tX\tX\tRechy\tRechy\tRechy\tRechy\tTanovic\tJirí\tJirí\tHubac\tJirí\tHubac\tJirí\tHubac\tJirí\tHubac\tprefeminist\tViterelli\tJoffé\tMusker\tPenotti\tRechy\tStainton\tDankworth\tDankworth\tDankworth\tBierbichler\tBierbichler\tBleibtreu\tFresnadillo\tJuergensen\tStevenon\tStevenon\tJuliet\\/West\tJuliet\\/West\tSabara\tdateflick\tdateflick\tdrama\\/action\tRyanovich\tRyanovich\tKahlories\tKaige\tKaige\tKalesniko\tKalvert\tA.E.W.\tKaputschnik\tJanszen\tDridi\tSoliah\tMeeropol\tMeeropol\tKazmierski\tmark\tMolony\tMolony\tMolony\tKhouri\tKhouri\tKhouri\tKhouri\tDeok\tKilner\tKilner\tDeok\tDeok\tSteinis\tSteinis\tSteinis\tSteinis\ttruncheoning\tagent\tKomediant\tKosashvili\tKosashvili\tKoshashvili\tKosminsky\tKosminsky\tKrawczyk\tKrawczyk\tKuras\tKuras\tKuras\tKurys\tKurys\tKurys\tKurys\tKurys\tKurys\tKurys\tMusset\tKurys\tLaPaglia\tLaPaglia\tLaPaglia\tLaPaglia\tCoriat\tLaurice\tLaurice\tCirulnick\tThulani\tBesco\tBesco\tLePlouff\tGaï\tGaï\tGaï\tGaï\tGaï\tprovocatuers\tprovocatuers\tTestud\tindomitability\tBorstal\tnarcotizing\tnarcotizing\tLeontine\tDestinees\tDestinees\tprep\tcop\tDognini\tnumber\tX\tX\tVardalos\tVardalos\tprewarned\tShagster\tnumber\teroti\tBazadona\tX\tX\tLiyan\tLiyan\tLiyan\tKosminsky\tcareworn\tcareworn\tcareworn\twriter\\/director\\/producer\tLouiso\tLouiso\tLouiso\tLouiso\tLouiso\tLouiso\tMacGraw\tderisions\tHolofcener\tHolofcener\tHolofcener\testafeta\tI-2-spoofing\tand\\/or\tMIBII\tMIBII\twifty\twifty\tMacGraw\tMacGraw\tJaglomized\tJaglomized\tJaglomized\tJaglomized\tJaglomized\tKaputschnik\tMaelström\tMaelström\tO2-tank\tO2-tank\tMagimel\tPeter\\/Spider\tMajidi\tMajidi\tMajidi\tMajidi\tMajidi\tMajidi\tMajidi\tMajidi\tMajidi\tMajidi\tMajidi\taborbing\taborbing\tMakhmalbaf\tMakhmalbaf\tMakhmalbaf\tChouraqui\tMakmalbaf\tMakmalbaf\tMarcken\tMarcken\taccordion\\/harmonica\\/banjo\tMargolo\tMargolo\tMargolo\tWisegirls\tteendom\tMarine\\/legal\tMarine\\/legal\tMarivaux\tMarivaux\tMarivaux\tMarivaux\tMarivaux\tMarivaux\tPellington\tPellington\tPellington\tPellington\tpokepie\t168-minute\tWollter\tViveka\tSeldahl\tWollter\tViveka\tSeldahl\tCirulnick\tCirulnick\tCirulnick\tThulani\tMcKlusky\tMcKlusky\tMcKlusky\tMedem\tMedem\tMedem\tMedem\tMedem\tMedem\tMedem\tMedem\tMeeropol\tbornin\tKahlories\tKahlories\tKahlories\tMeyjes\tMeyjes\tMeyjes\tMeyjes\thaphazardness\tMeyjes\tMeyjes\tMeyjes\tMeyjes\tMeyjes\tCacoyannis\tDowse\tGerbosi\tGerbosi\tGerbosi\tIdemoto\tIdemoto\tKalesniko\tPetroni\tZaidan\tZaidan\tZaidan\tSerrault\tPetin\tPetin\tPetin\tPetin\tsoaper\tMouglalis\tinvolvingly\tKuras\tKuras\tKuras\tKuras\taccordion\\/harmonica\\/banjo\tMinac\tMinac\tMollà\tMollà\tMollà\tMollà\tMolony\tBleibtreu\tMontias\tMontias\tMordantly\tMordantly\tMordantly\tMordantly\tMordantly\tgunfest\tgunfest\t1\\/2\t1\\/2\tcorruscating\tBurstein\tMorvern\tCallar\tMorvern\tCallar\tMorvern\tMorvern\tMorvern\tMorvern\tMorvern\tCallar\tMorvern\tCallar\tMorvern\tCallar\tMorvern\tCallar\tMorvern\tCallar\tMorvern\tpantomimesque\tGoldbacher\tJagjit\tMouglalis\tCantet\tDesplechin\tDesplechin\tHundert\tHundert\tKoshashvili\tMontias\tMontias\tSerrault\tWollter\tSeldhal\tWollter\tSeldhal\tWollter\tSeldhal\tWollter\tSeldhal\tWollter\tSeldhal\tWollter\tSeldhal\tCantet\tCantet\tAddessi\tDesplechin\tDesplechin\tHundert\tHundert\tKoshashvili\tKoshashvili\tMontias\tMontias\tSerrault\tWollter\tSeldhal\tWollter\tSeldhal\tWollter\tSeldhal\tWollter\tSeldhal\tWollter\tSeldhal\tWollter\tSeldhal\tWierzbicki\tWierzbicki\tDognini\tDognini\tDognini\tSerrault\tSerrault\tSerrault\tSeldhal\tVardalos\tWierzbicki\tWierzbicki\tDognini\tDognini\tDognini\tSerrault\tSerrault\tSeldhal\tVardalos\tVardalos\tMuccino\tMuccino\tMuccino\tMuccino\tMuccino\tMuccino\tMuccino\tMuccino\tMuccino\tMuccino\tMuccino\tMuccino\tMuccino\tmonkeyfun\tmonkeyfun\tmonkeyfun\tplaintiveness\tplaintiveness\tMargolo\tMargolo\tMullinski\tTestud\tMushes\tMushes\tMushes\tMusker\tMusker\tMusset\tKuras\tsarcástica\tsarcástica\tsarcástica\tpredecesora\tsarcástica\tpredecesora\tsarcástica\tpredecesora\tMünch\tMünch\tMünch\tMünch\tSavoca\tBurstein\tcop\tCrummles\tNebrida\tAttal\tcop\tNenette\tNenette\tNenette\tNettelbeck\tNettelbeck\tNettelbeck\tNettelbeck\tNettelbeck\tNettelbeck\tbornin\tVardalos\tPhilibert\tPhilibert\tHolofcener\tHolofcener\tHolofcenter\tHolofcenter\tHolofcenter\twriter\\/director\tHolofcenter\twriter\\/director\tHolofcenter\twriter\\/director\tHolofcenter\twriter\\/director\tHolofcenter\twriter\\/director\taceitou\tcontinuação\taceitou\tcontinuação\tStainton\tStainton\tnumber\tnumber\tnumber\tNohe\tNohe\tNohe\tNohe\tNohe\tNohe\tNohe\tNohe\tNohe\tNohe\tNohe\tNohe\tNohe\tcinemantic\tcinemantic\tNolden\tFelinni\t79-minute\t79-minute\tnumber\tnumber\tTravil\tNenette\tViterelli\tC.H.O.\tC.H.O.\tC.H.O.\tC.H.O.\tShainberg\tShainberg\tNuttgens\tNæs\tNæs\tNæss\tNæss\tO2-tank\tObligada\tObligada\timpotentes\tObligada\timpotentes\tObligada\timpotentes\tdaneses\tObligada\timpotentes\tdaneses\tObligada\timpotentes\tdaneses\tcamareras\titalianas\tObligada\timpotentes\tdaneses\tcamareras\titalianas\tWatstein\tOfrece\tOfrece\tOfrece\tcondensada\tSeldahl\tWollter\tOhlinger\tOhlinger\tAssayas\tAssayas\tAssayas\tAssayas\tAssayas\tMarcken\tMarcken\tPiesiewicz\tPiesiewicz\taction\\/effects\tand\\/or\tneurasthenic\tbohos\twar\\/adventure\twar\\/adventure\twar\\/adventure\tOprahfication\tIosseliani\tOurside\tOurside\tOurside\tOurside\tOurside\tOurside\tCletis\tImaxy\tcomedy\\/drama\tcomedy\\/drama\tcomedy\\/drama\tOzpetek\tOzpetek\tOzpetek\tOzpetek\tOzpetek\tOzpetek\tOzpetek\tOzpetek\tPG-13-rated\tPG-13-rated\tMuccino\tPapai\tPapai\tpincel\tconstatação\tpincel\tconstatação\tPasach\tPasach\tBurstein\tlaugther\tlaugther\tlaugther\tnumber\tnumber\tGrabowsky\tGrabowsky\tPayami\tPayami\tPayami\tPayami\tPayami\tPayami\tPayami\tPayami\tPaymer\tPaymer\tPellington\tPellington\tPellington\tPellington\tPenotti\tPeploe\tPeploe\tEllefsen\tCletis\tCletis\tKosminsky\tKosminsky\tPeter\\/Spider\tPetin\tPetin\tPetroni\tNæss\tNæss\tNæss\tNæss\tNæss\tPhilibert\tPhocion\tPhocion\tPhocion\tPhonce\tuncinematic\tuncinematic\tPicpus\tPiesiewicz\tPiesiewicz\tPiesiewicz\tPiesiewicz\tPimental\tcompenetrado\tmemorables\tPollyana\tPollyana\t9\\/11\t9\\/11\t9\\/11\t9\\/11\t9\\/11\t9\\/11\t9\\/11\tPresson\tRyanovich\tPenotti\tPenotti\tPenotti\tPenotti\tSolondzian\taffirmational\taffirmational\tPuportedly\tPuportedly\tPuportedly\tPuportedly\tPuportedly\tTiros\tacerta\tTiros\tacerta\ttrocadilho\tTiros\tacerta\ttrocadilho\tbrilhantismo\tQutting\tQutting\tQutting\tQutting\tQutting\tQutting\tNebrida\tNebrida\tRINGU\tRINGU\tRINGU\tunfakable\tunderventilated\tunderventilated\tAhola\tAhola\tRechy\tRecoing\tRecoing\tRecoing\tRecoing\tRecoing\tRecoing\tRecoing\tRecoing\tRecoing\tRecoing\tReeboir\tReeboir\tReeboir\tReeboir\tReeboir\tReeboir\tReeboir\tdirgelike\tReigen\tunemotive\tunemotive\tHirosue\tHirosue\tthriller\\/horror\tthriller\\/horror\tDestinees\tnumber\tnumber\tFamuyiwa\tRintarô\tRintarô\tRintarô\tdefeatingly\tdefeatingly\tcop\tAlagna\tAlagna\tJoffé\tJoffé\tJoffé\tJuliet\\/West\tJuliet\\/West\tJuliet\\/West\tRomething\tRomething\tricture\tRomoli\tlikably\tRubbo\tRubbo\tRubbo\tRubbo\tRubbo\tRubbo\tflakeball\tRomething\tRomething\tricture\tRunTelDat\tRunTelDat\tRunteldat\tRunteldat\tRunteldat\tVulakoro\tRuzowitzky\tRuzowitzky\tRyanovich\tHirosue\tHirosue\tS1M0NE\tS1M0NE\tS1M0NE\tS1M0NE\tS1M0NE\tS1M0NE\tS1M0NE\tS1M0NE\tS1M0NE\tSabara\tSabara\tMakhmalbaf\tMakhmalbaf\tMakhmalbaf\tMakhmalbaf\tMakhmalbaf\tSampi\tfountainheads\tMusset\tMusset\tSandlerian\tcop\tNettelbeck\tNettelbeck\t24\\/7\tscarifying\tscarifying\tscarifying\tscarifying\tscarifying\tscarifying\tRyanovich\tSavoca\tSavoca\tnumber\tnumber\tScherfig\tScherfig\tScherfig\tScherfig\tScherfig\tScherfig\tScherfig\tScherfig\tScherfig\tScherfig\tScherfig\tScherfig\tScherfig\tScherfig\tScherfig\tSchneidermeister\tSchneidermeister\tSchneidermeister\tSchneidermeister\tSchneidermeister\tSchneidermeister\tHopkins\\/Rock\tSchweig\tSchweig\tSchweig\tSchwentke\tSchwentke\tSchütte\tSchütte\tSchütte\tSchütte\tSchütte\tPetroni\tKalvert\tPimental\tPetroni\tPetroni\tchopsocky\tSerrault\tSerrault\tSeldahl\tSeldahl\tSeldahl\tSeldahl\tSeldahl\tSeldahl\tWollter\tSeldahl\tWollter\tSeldahl\tWollter\tSeldhal\tDjeinaba\tSerrault\tfiftysomething\tfiftysomething\tfiftysomething\tfiftysomething\tfiftysomething\tShadyac\tShadyac\tShadyac\tShadyac\tShadyac\tShadyac\tShadyac\tShadyac\tShadyac\tShadyac\tShadyac\tShadyac\tShadyac\tShadyac\tShadyac\tShadyac\tShadyac\tShadyac\tShadyac\tShadyac\tShadyac\tShadyac\tShagster\tShainberg\tShainberg\tShainberg\tShainberg\twriter\\/director\twriter\\/director\twriter\\/director\tShankman\tShankman\tShankman\tJanszen\tShankman\tJanszen\tPhocion\tBjorkness\tcop\tcop\tSlowtime\tcop\tpretenciosas\tbanales\tSilberling\tSilberling\tSilberling\tSilberling\tSilberling\tSilberling\tSilbersteins\tsorprenderá\tSinger\\/composer\tSinger\\/composer\tSinger\\/composer\tSinger\\/composer\tSinger\\/composer\tSinger\\/composer\tSinger\\/composer\tSissako\tSissako\tSlowtime\tSnoots\tSnoots\tPollyana\troot\troot\tSoapdish\tSoliah\tSoliah\tSolondzian\tSolondzian\tachival\tachival\tachival\tZaidan\tZaidan\tZaidan\tZaidan\tZaidan\tZaidan\tZaidan\tZaidan\tfrightfest\tBruckheimeresque\tnumber\tnumber\tnumber\tnumber\tnumber\tHermocrates\tLeontine\tHermocrates\tLeontine\tAhola\tcelebrityhood\tAttal\tAttal\tX\tSpinotti\tSpinotti\tStainton\t9\\/11\t9\\/11\tStar\\/producer\tStar\\/producer\tStar\\/producer\tAttal\tAttal\tuncinematic\tuncinematic\tSteinis\tSteinis\tSteinis\tGaghan\tHerek\tKazmierski\tShainberg\tShainberg\tShainberg\tShainberg\tShainberg\tShainberg\tStevenon\tStevenon\trosily\trosily\tStortelling\tStortelling\tStortelling\tautocritique\tderisions\t85-minute\t85-minute\t85-minute\t85-minute\tand\\/or\tMargolo\tdumbfoundingly\tX\tactorliness\tactorliness\tBrothers\\/Abrahams\t103-minute\tWollter\tWollter\tWollter\tViveka\tSeldahl\tWollter\tWollter\tWollter\tViveka\tSeldahl\tfillm\tmark\tmark\tSychowski\tTestud\tTestud\tT&A\tT&A\tcop\tsoaper\t112-minute\t112-minute\tTalancón\tmark\tmark\tClayburgh\tClayburgh\tClayburgh\tTanovic\tTanovic\tTashlin\tTashlin\tTestud\tTestud\tTestud\tTestud\tTestud\tstrainingly\tKuras\tKuras\tactory\tMorvern\tCallar\tnumber\tnumber\tnumber\tnumber\tnumber\tflakeball\tflakeball\tflakeball\tflakeball\tCockettes\tCockettes\tDogwalker\tDogwalker\t21\\/2\tGantzes\tGantzes\tGantzes\twriter\\/director\\/producer\twriter\\/director\\/producer\tKomediant\tKomediant\t24\\/7\tbedevilling\trepellantly\tX\tX\tX\tover-25s\tover-25s\tCsokas\tDebrauwer\t20-car\tagent\tagent\tagent\tmarveilleux\tKurys\tKurys\tanimaton\tanimaton\tCletis\tCletis\tGuei\tGuei\tGuei\tSabara\tSabara\tI-2-spoofing\tI-2-spoofing\tI-2-spoofing\tI-2-spoofing\tI-2-spoofing\tI-2-spoofing\tIdemoto\tIdemoto\tClayburgh\tClayburgh\tDamon\\/Bourne\tDamon\\/Bourne\tHanussen\tHanussen\tHanussen\tHanussen\tHanussen\tHanussen\t65-minute\t65-minute\t65-minute\tPellington\tPellington\tPellington\tShainberg\tShainberg\tShainberg\tcop\tcop\tcop\tsuperlarge\tsuperlarge\tnature\\/nurture\tTornatore\tstumblings\tstumblings\tstagecrafts\tstagecrafts\tbreeziness\tbreeziness\tbreeziness\tbreeziness\tbreeziness\tcondundrum\tcondundrum\tunderrehearsed\tbeachcombing\tbeachcombing\tbeachcombing\tbeachcombing\tbeachcombing\tbeachcombing\tbeachcombing\tJanklowicz\tWolodarsky\tWolodarsky\tSilbersteins\tMuccino\tMuccino\tMuccino\tMuccino\tMuccino\tnumber\tnumber\tnumber\tnumber\tnumber\tcipherlike\tcipherlike\twriter\\/director\tnew\\/old\tnew\\/old\thorror\\/action\tinhospitability\tinhospitability\tinhospitability\tKoshashvili\tKoshashvili\tReigen\tKosminsky\tKosminsky\tKosminsky\tJapanimator\tJapanimator\tmark\tmark\tmark\t87-minute\t87-minute\tJoffé\tJoffé\tnymphette\tderivativeness\tderivativeness\tBettany\\/McDowell\tPellington\tPellington\tPellington\tPellington\tgangster\\/crime\tgangster\\/crime\tgangster\\/crime\tgangster\\/crime\tgangster\\/crime\tskate\\/surf\tskate\\/surf\tskate\\/surf\thastier\tBierbichler\tBleibtreu\tmark\tmark\tmark\tmark\ttardier\ttardier\tMinac\tMinac\tPhonce\tsnazziness\tAssayas\tsocial\\/economic\\/urban\tsocial\\/economic\\/urban\tfeardotcom\tfeardotcom\tmontied\tFearDotCom\tnumber\tdudsville\tdudsville\tegocentricities\taccordion\\/harmonica\\/banjo\taccordion\\/harmonica\\/banjo\taccordion\\/harmonica\\/banjo\tAnspaugh\tprecollegiate\tprecollegiate\tnumber\tnumber\tnumber\tnumber\tnumber\tJanklowicz\tJanklowicz\tJanklowicz\tdirector\\/co\tuberviolence\tClericks\tX\tX\tDesplechin\tDesplechin\tANTWONE\tANTWONE\tAuteil\tBesco\tAuteil\tBesco\tdudsville\tdudsville\tNebrida\tNebrida\tNebrida\tNebrida\tsurfacey\tCletis\tCletis\tmark\tagent\tagent\tagent\tagent\tFresnadillo\tWollter\tViveka\tSeldahl\tspittingly\tspittingly\tcop\tcop\twriter\\/director\twriter\\/director\twriter\\/director\twriter\\/director\tstrafings\tBenshan\tBenshan\tMullinski\tGedeck\tMorvern\tCallar\tMorvern\tCallar\tMorvern\tCallar\tMorvern\tCallar\tMorvern\tCallar\tDognini\tMorvern\tCallar\tDognini\tMorvern\tCallar\tDognini\tMorvern\tCallar\tDognini\tWolodarsky\tWolodarsky\tWolodarsky\tWolodarsky\tWolodarsky\tThekids\tThekids\tThekids\tlikably\tlikably\tlikably\tlikably\tlikably\tage\\/coming\tMuccino\tX\telaborateness\telaborateness\telaborateness\telaborateness\telaborateness\tprefeminist\tprefeminist\tprefeminist\tprefeminist\tprefeminist\tKosashvili\tKosashvili\t90-plus\tshapable\tagent\tagent\tfizzability\tnonchallenging\tPayami\tCopmovieland\tCopmovieland\tCopmovieland\tCopmovieland\tCopmovieland\tGutterball\t72-minute\t72-minute\t72-minute\t72-minute\t72-minute\t72-minute\tthriller\\/dark\tthriller\\/dark\tbracingly\tbracingly\tbracingly\tHiguchinsky\tHiguchinsky\tMakhmalbaf\tBenshan\tBenshan\tBenshan\tthesps\tCarion\tCroze\tCroze\tKosashvili\tKosashvili\tKosashvili\tKosashvili\tKosashvili\teroti\teroti\teroti\teroti\teroti\tPasach\tBurstein\tPasach\tBurstein\tPasach\tBurstein\tromantic\\/comedy\t24-and\t24-and\t24-and\t85-minute\t85-minute\t85-minute\t85-minute\t85-minute\tMagimel\tShadyac\tShadyac\tmark\tBreillat\tBreillat\tOzpetek\tOzpetek\tOzpetek\tOzpetek\tOzpetek\tOprahfication\tOprahfication\tJacquot\tBallesta\twriter\\/director\tAchero\twriter\\/director\twriter\\/director\tGaghan\tGaghan\tGaghan\tGaghan\tGaghan\tGaghan\tThulani\tThulani\tLiyan\tunfussily\tunfussily\thammily\tTiros\tTiros\tacerta\troot\troot\troot\tAmoses\tToback\tToback\tToback\tToback\tToback\tToback\tToback\tToback\tToback\tToback\tToback\tToback\tToback\tautocritique\tSolondzian\tCantet\tCantet\tCantet\tKuras\tVerete\tShadyac\tShadyac\tShadyac\tShadyac\tShadyac\tShadyac\tShadyac\tShadyac\tShadyac\tShadyac\tGayton\tGayton\tGayton\tGayton\tGayton\tGayton\tGayton\tGayton\tGayton\tGayton\tinterspliced\tfustily\tfustily\tcop\tTornatore\tTornatore\tnumber\tnumber\tGaghan\tTraffics\tTraffics\tprechewed\tTraffics\tprechewed\tX\tX\tTravil\tVardalos\tVardalos\tX\tX\tagent\tX\tagent\tX\tagent\tX\tagent\tX\tagent\tX\tagent\tX\tagent\tX\tTruckzilla\tTruckzilla\tTruckzilla\tTufano\tTufano\tfilmgoing\tcoltish\tdisappearing\\/reappearing\tscarifying\tAttal\tAttal\tX\tX\tX\tgabbiest\tactorly\tconmovedora\tUnderachieves\tUnderachieves\tUnderachieves\tUnderachieves\tachronological\tachronological\tA.E.W.\tMontias\tMontias\t102-minute\twriter\\/director\tKosashvili\t8217\t8217\tVardalos\tVardalos\tVardalos\tVardalos\tVardalos\tVardalos\tVardalos\tVardalos\tVardalos\tVardalos\tVenice\\/Venice\tMollà\tMollà\tVerdu\tVerete\tVerete\tVereté\tVereté\tunderdramatized\tunderdramatized\tCroze\tCrummles\tCrummles\tCrummles\tNebrida\tNebrida\tNebrida\tNebrida\tforgettably\tforgettably\tforgettably\tKahlories\tViterelli\tViveka\tViveka\tSeldahl\tViveka\tSeldahl\tWollter\tViveka\tSeldahl\tWollter\tViveka\tSeldahl\tVolletta\tVolletta\tVolletta\tVolletta\tVolletta\tVulakoro\tBarberShop\tBarberShop\tWolodarsky\tWolodarsky\tXiaoshuai\tXiaoshuai\tembroils\tAddessi\tWatstein\tWatstein\tWaydowntown\tWaydowntown\tWaydowntown\tWaydowntown\tWaydowntown\tWaydowntown\troot\tcop\tLaPaglia\tLaPaglia\tgroupie\\/scholar\tgroupie\\/scholar\tgroupie\\/scholar\tgroupie\\/scholar\tgroupie\\/scholar\tgroupie\\/scholar\tWestfeldt\tWestfeldt\tWestfeldt\tJuergensen\tWestfeldt\tJuergensen\tWewannour\tWewannour\tWewannour\tWewannour\tWewannour\tWewannour\tKaige\tKaige\t76-minute\tunhibited\t76-minute\tWisegirls\tSandlerian\tCorcuera\tflck\t8217\t8217\t8217\t8217\tCorcuera\tFearDotCom\tFearDotCom\tFearDotCom\tFearDotCom\tHundert\tHundert\tHundert\tHundert\tcornpone\tcornpone\thotsies\thotsies\thotsies\thotsies\thotsies\thotsies\tBielinsky\tBielinsky\tmark\twife\\/colleague\twife\\/colleague\troot\tCletis\tCletis\tMagimel\tMagimel\tX\tX\tX\tX\tBollywood\\/Hollywood\tBollywood\\/Hollywood\tHjejle\tHjejle\tcinemantic\tHolofcener\tsoaringly\tAllodi\tNolden\tAllodi\tNolden\tScherfig\tdoshas\tdoshas\tRubbo\tRubbo\tluvvies\tluvvies\tCletis\tCletis\tCletis\tCletis\tqatsi\tvidgame\tWildean\tWildean\tAsiaphiles\tshapelessly\tWisegirls\tSpinotti\tSpinotti\tC.H.O.\twriter\\/director\\/producer\tDogwalker\tWildean\tRintarô\tnumber\tAssayas\tTestud\tSoliah\tSoliah\tSoliah\tJacquot\tinvolvingly\twaydowntown\tMaelström\tDjeinaba\tDjeinaba\tWollter\tWollter\tWollter\tWollter\tSeldhal\tWollter\tSeldhal\tWolodarsky\tRomoli\tRomoli\tRomoli\tOzpetek\tRomoli\tOzpetek\tOhlinger\tOhlinger\tOhlinger\tLaPaglia\tLaPaglia\tIosseliani\tIosseliani\tIosseliani\tIosseliani\tFresnadillo\tFresnadillo\tGaghan\tGaghan\tWriter\\/director\tWriter\\/director\tWriter\\/director\tWriter\\/director\tWriter\\/director\tWriter\\/director\tWriter\\/director\tWriter\\/director\tWriter\\/director\tWriter\\/director\tWriter\\/director\tWriter\\/director\tWriter\\/director\tWriter\\/director\tWriter\\/director\tWriter\\/director\tWriter\\/director\tWriter\\/director\tWriter\\/director\tWriter\\/director\tWriter\\/director\tWriter\\/director\tWriter\\/director\tWriter\\/director\tWriter\\/director\tWriter\\/director\tWriter\\/director\tWriter\\/director\tWriter\\/director\tWriter\\/director\tX\tX\tX\tX\tX\tX\tX\tX\tX\tX\tXiaoshuai\tYakusho\tYakusho\tYakusho\tYakusho\tYakusho\tYakusho\tYakusho\tYakusho\tYakusho\tMIBII\tX\tSoapdish\troot\tmark\tmark\tBielinsky\twaydowntown\twaydowntown\twaydowntown\twaydowntown\twaydowntown\tEverlyn\tSampi\tEverlyn\tSampi\tEverlyn\tSampi\tEverlyn\tSampi\tEverlyn\tSampi\tAttal\tZaidan\tZaidan\tZaidan\tZaidan\tBenshan\tZishe\tBrothers\\/Abrahams\tMarine\\/legal\tMarine\\/legal\tButterfingered\tMacGraw\tentretiene\tcompenetrado\tmemorables\tpretenciosas\tbanales\tBurstein\tqatsi\t1\\/2\tKaputschnik\tHennings\tFeardotcom\tFeardotcom\tFeardotcom\tFeardotcom\tFeardotcom\tKaputschnik\t102-minute\t20-car\t76-minute\t77-minute\t77-minute\t95-minute\t95-minute\tbornin\tinterspliced\tdisappearing\\/reappearing\tKaputschnik\tatacarse\tatacarse\t91-minute\t91-minute\tX\tmother\\/daughter\tnumber\tnumber\tnumber\tsurfacey\tsurfacey\tbracingly\tprep\tprep\tprep\tthesps\tthesps\tpatient\\/doctor\tpatient\\/doctor\tfilmgoing\tsidesplitting\tsidesplitting\tmother\\/daughter\tmother\\/daughter\tmother\\/daughter\tJoffé\tHitchcockianism\tclich\tclich\tCorcuera\twriter\\/director\tKuras\tKuras\tKuras\tKuras\tcop\tcop\tcopyof\tCopmovieland\tGayton\tcrowdpleaser\tcrowdpleaser\tsoaper\tmortarboards\t9\\/11\tImaxy\tJanklowicz\tagent\tNettelbeck\tdungpile\tPapai\tembroils\tunder-7\tRINGU\tRINGU\tmark\toverplotted\toverplotted\toverplotted\tgangster\\/crime\tgangster\\/crime\tprep\tprep\tMarine\\/legal\tMarine\\/legal\tKaige\tKaige\tgunfest\tgunfest\tmark\tmark\tmark\t102-minute\thowlingly\tentretiene\tlikably\tcop\tvideologue\tvideologue\tTestud\tTestud\tTestud\tTestud\tPiesiewicz\tZishe\tHanussen\tClayburgh\tClayburgh\tnumber\tnumber\tprep\tMcKlusky\tTruckzilla\tTruckzilla\tand\\/or\tnumber\tmystery\\/thriller\tmystery\\/thriller\tmystery\\/thriller\tmystery\\/thriller\tmystery\\/thriller\t76-minute\tToback\tfiftysomething\tnonchallenging\tnonchallenging\tscuzbag\tscuzbag\tnumber\tnumber\tnumber\tnumber\tnumber\tnumber\tnumber\tnumber\ts\\/m\tskate\\/surf\tskate\\/surf\tskate\\/surf\tskate\\/surf\tskate\\/surf\tSolondzian\tsolondzian\tWildean\taccordion\\/harmonica\\/banjo\tscuzbag\tlikably\tX\tX\tteendom\troot\troot\trosily\trosily\tcletis\tflck\tflck\thastier\tachronological\tachronological\t87-minute\tfilmgoing\tmelodrama\\/character\tmelodrama\\/character\tKaputschnik\tKaputschnik\tPicpus\tprecollegiate\tisraeli\\/palestinian\tisraeli\\/palestinian\tisraeli\\/palestinian\tmother\\/daughter\troot\tnumber\tstrainingly\tstrainingly\tszpilman\tszpilman\tX\tPeter\\/Spider\tsuspenser\tsuspenser\tsuspenser\tsuspenser\ttelanovela\tPeploe\tflakeball\tlikably\t85-minute\t85-minute\t85-minute\t85-minute\tcop\tPhocion\tcop\tshapable\tvideo\\/DVD\tBjorkness\tcop\tage\\/coming\ttardier\tshapable\troot\tbornin\tbornin\tconstatação\taborbing\taborbing\t3\\/4th\t3\\/4th\t3\\/4th\tPayami\tRubbo\tAddessi\tCletis\tWisegirls\tprep\tprep\t90-plus\tfeardotcom\tprep\trubbo\tIsraeli\\/Palestinian\tisraeli\\/palestinian\tPasach\tBurstein\ttelanovela\tShagster\tTashlin\taccordion\\/harmonica\\/banjo\taccordion\\/harmonica\\/banjo\tJapanimator\tJapanimator\taceitou\taceitou\tcontinuação\tacerta\tPhonce\tachival\tachival\tachronological\tachronological\t170-minute\t170-minute\tcop\tcop\tfunny\\/gritty\tfunny\\/gritty\tBerling\tthriller\\/dark\tthriller\\/dark\taction\\/comedy\taction\\/comedy\taction\\/effects\taction\\/effects\taction\\/thriller\tactioners\tSerrault\tactor\\/director\tactor\\/director\tactorliness\tactorly\tactorly\tactorly\tactorly\tactory\tactory\tactory\tactory\tGaï\tmemorables\tMolony\tMolony\tMolony\tMolony\tMolony\tMolony\tMolony\tMolony\tMolony\tmolony\tmolony\tmolony\tmolony\tmolony\tKosminsky\tRunteldat\tRunteldat\tRunteldat\tRunteldat\tX\tadventues\tDenlopp\tDenlopp\tcop\taffirmational\t9\\/11\tdirector\\/co\tagent\tagent\tagent\tnumber\tnumber\tcop\talientation\tmark\tDebrauwer\tfantasti\t20-car\thastier\tBjorkness\tpost-9\tszpilman\t129-minute\tstuffiest\twriter\\/director\tMarine\\/legal\t168-minute\t168-minute\tuncinematic\tShainberg\ttrocadilho\tX\tBielinsky\tBielinsky\tBielinsky\tBielinsky\tBielinsky\t85-minute\tdirectress\taborbing\taborbing\taborbing\tTashlin\tuncharismatically\tuncharismatically\tKhouri\tKhouri\t90-plus\tindomitability\tdateflick\tdateflick\tdateflick\tbeachcombing\tRyanovich\thaphazardness\tMorvern\tCallar\tnature\\/nurture\tunfakable\tunfakable\tmother\\/daughter\tindomitability\tAttal\tskate\\/surf\tskate\\/surf\twriter\\/director\tunfussily\tunfussily\tBrothers\\/Abrahams\tBrothers\\/Abrahams\tBrothers\\/Abrahams\tBrothers\\/Abrahams\tGaghan\tsouffl\tsillified\tsillified\tsillified\tNettelbeck\tNettelbeck\tmother\\/daughter\tMouglalis\tJagjit\tRechy\tDankworth\tJuergensen\tJuliet\\/West\tMagimel\tMargolo\tPetroni\tBleibtreu\tSerrault\tSerrault\tSeldhal\tSeldhal\tMullinski\tBurstein\tCrummles\tNenette\tWollter\tWollter\tlikably\tscuzbag\taction\\/effects\tdirectress\tMeeropol\tcinemantic\tPetin\tAddessi\tIosseliani\tHerek\thastier\tgorefests\tSchweig\tmordantly\tlaboriousness\tstumblings\tsurehanded\tdrippiness\tBerling\troot\tsailboaters\tand\\/or\tand\\/or\tand\\/or\tand\\/or\tand\\/or\tcop\tchristelle\tchristelle\tanimaton\tanimaton\tcop\tcop\tcop\tWisegirls\tfrightfest\tfrightfest\tdrama\\/character\tagent\tagent\tnumber\tnumber\tnumber\tnumber\tmusclefest\twar\\/adventure\tprecollegiate\tunder-10\tnumber\tDebrauwer\tAsiaphiles\tAsiaphiles\tRubbo\thowlingly\tfilmgoing\tVardalos\tunder-10\tTashlin\tReigen\tMeeropol\tBettany\\/McDowell\tBettany\\/McDowell\tfantasti\tactory\tegocentricities\tegocentricities\thorror\\/action\thorror\\/action\tCletis\tMagimel\tMagimel\tCrummles\tCrummles\tcareworn\tMullinski\tmark\tartnering\tartnering\tartsploitation\tartsploitation\tdirectress\tBleibtreu\tKaige\tCorcuera\tTanovic\tMorvern\tShadyac\tCrummles\tX\tdisappearing\\/reappearing\tHitchcockianism\tsoaper\t9\\/11\tImaxy\tMarine\\/legal\tMarine\\/legal\troot\tflck\t87-minute\tcop\tvideo\\/DVD\tvardalos\tvardalos\tMontias\tMontias\tmolony\tmolony\tmolony\tmolony\tmolony\tmolony\tTashlin\tTashlin\tTashlin\tindomitability\tmusclefest\twar\\/adventure\tcrowdpleaser\tdrama\\/action\tderisions\tAlagna\tnumber\tSchwentke\tShadyac\tMorvern\tViterelli\tAnspaugh\tnonjudgmentally\twriter\\/directors\tpantomimesque\tO2-tank\tMouglalis\tstrafings\tagent\tand\\/or\ttryingly\tAnspaugh\tRubbo\tRubbo\tdirectress\tdirectress\t95-minute\t95-minute\tnumber\tPicpus\tbeachcombing\tHopkins\\/Rock\tKhouri\tKhouri\tWisegirls\tage\\/coming\tegocentricities\troot\troot\tatacarse\tatacarse\tatacarse\tgangster\\/crime\tcondensada\tcondensada\tchristelle\tdirectress\tdirectress\tautocritique\tdateflick\tNuttgens\tcop\t91-minute\tX\tbanales\tmajidi\tmajidi\tMarcken\tOprahfication\tAssayas\tAssayas\tAssayas\tAssayas\tKosashvili\tJaglomized\tJaglomized\tbornin\t9\\/11\tmystery\\/thriller\tunder-10\tTashlin\tMorvern\tCallar\tMorvern\tCallar\tMorvern\tCallar\tMorvern\tCallar\thaphazardness\tsoaper\tsoaper\tIdemoto\tBorstal\tvideo\\/DVD\tszpilman\tbeachcombing\tbeachcombing\ttravil\ttravil\ttravil\tnenette\tactory\t103-minute\tJagjit\tOhlinger\t79-minute\t79-minute\tdullingly\tbedevilling\tbedevilling\tgorefests\tfrightfest\tTravil\tNenette\ttravil\tnenette\tKaputschnik\tKaputschnik\tAmoses\t87-minute\tunrecommendable\tmother\\/daughter\tSilberling\tteendom\tbelinsky\tflakeball\tVerdu\tCockettes\tCockettes\tCockettes\tCockettes\tsoaper\tDjeinaba\tbedevilling\tlikably\tSolondzian\tAuteil\tBesco\tSabara\tBrothers\\/Abrahams\tbibbidy\tbobbidi\tbibbidy\tbobbidi\tpretenciosas\tbanales\tpretenciosas\tbanales\tpretenciosas\tbanales\tnumber\tbudget\\/all\tbudget\\/all\twriter\\/director\tindomitability\tsurfacey\tsurfacey\tderivativeness\tcheatfully\tsuperlarge\tGuei\tMorvern\tsillified\tsillified\tbohos\tbracingly\twincingly\twincingly\twincingly\twincingly\tjeunet\tactory\troot\tsitcomishly\tsitcomishly\tbottomlessly\tbottomlessly\tbracingly\tbracingly\tbracingly\tbracingly\tbracingly\tprep\tbreeziness\tbrilhantismo\tbrilhantismo\tcoltish\tcoltish\tMorvern\tmoviehouse\tToback\tHopkins\\/Rock\tGayton\tGayton\t85-minute\tcop\tcop\tcop\tcop\twriter\\/director\tMorvern\tCallar\tSeldahl\tWollter\tSeldahl\tWollter\tmark\tAttal\tdrippiness\tPiesiewicz\tImaxy\tShainberg\tprecollegiate\troot\tAbbass\tAhola\tGheorghiu\tAlagna\tBielinsky\tHellstenius\tBlethyn\tBorstal\tKhouri\tKhouri\tJanklowicz\tJanklowicz\tHennings\tDjeinaba\tDridi\tKosashvili\tRomoli\tJagjit\tX\tBierbichler\tBleibtreu\tBierbichler\tBleibtreu\tmark\tMolony\tMolony\tMolony\tLaurice\tCirulnick\tThulani\tAddessi\tEllefsen\tSchweig\tKalvert\tWollter\tViveka\tSeldahl\tWollter\tViveka\tSeldahl\tTestud\tNebrida\tNebrida\tNebrida\tVolletta\tWolodarsky\tmortarboards\taccordion\\/harmonica\\/banjo\tAbbass\tsillified\tunder-10\tMagimel\tLiyan\thennings\tKosminsky\tovermanipulative\tmolony\tgorefests\twriter\\/director\tSoliah\tSoliah\tSoliah\tSoliah\tSoliah\tSoliah\tBerling\tNebrida\tLaurice\tBenshan\tover-25s\tSeldahl\tWollter\tuberviolence\tClericks\tBielinsky\tactorliness\tBallesta\tpatient\\/doctor\tmystery\\/thriller\tmystery\\/thriller\tcop\tunrecommendable\tunrecommendable\tentretiene\tcadness\thaphazardness\tGutterball\tcamareras\tcamareras\titalianas\tTashlin\tvideo\\/DVD\tvideo\\/DVD\tX\tX\toverplotted\troot\troot\tvidgame\twriter\\/director\t85-minute\t85-minute\tMakhmalbaf\tagent\tagent\tagent\toutgag\tqatsi\tVardalos\tVardalos\tVardalos\tVardalos\tcannier\tcannier\tcantet\tcantet\tClayburgh\tclich\tclich\tcapturou\tcapturou\tcareworn\tcareworn\tcop\tcop\tMarine\\/legal\tMarine\\/legal\twaydowntown\tGayton\tHerek\tsurehanded\tcelebrityhood\tcinemantic\tAsiaphiles\tmark\tShagster\tShagster\tShagster\tAllodi\tNolden\tMeeropol\tMeeropol\tcheatfully\tcheatfully\taccordion\\/harmonica\\/banjo\tBerling\tunemotive\tchopsocky\tchopsocky\tchouraqui\tchouraqui\tchouraqui\tchouraqui\tchristelle\tPapai\tinquestionável\tcinemantic\tcinemantic\tNuttgens\tKazmierski\tpretenciosas\tbanales\tcipherlike\tcipherlike\tmother\\/daughter\tmother\\/daughter\tcondundrum\tcondundrum\tcondundrum\tmother\\/daughter\tcletis\tcletis\tclich\t95-minute\tculminando\tdesfecho\tand\\/or\tAmoses\tthriller\\/horror\tSlowtime\tmark\tPetin\twriter\\/director\twriter\\/director\twriter\\/director\twriter\\/director\tBazadona\tcockettes\tcop\tcop\tsouffl\t76-minute\tcollinwood\tsemimusical\tcoltish\tcoltish\tconstatação\ttrocadilho\ttrocadilho\tnymphette\tnymphette\tpantomimesque\tpantomimesque\tAmoses\tAmoses\t79-minute\t79-minute\tdateflick\tcomedy\\/drama\tcomedy\\/thriller\tcomedy\\/thriller\tHermocrates\tLeontine\tMcKlusky\tMcKlusky\tderisions\tderisions\ttruncheoning\tcomic\\/thriller\tPhonce\tage\\/coming\tage\\/coming\tPiesiewicz\tPiesiewicz\tPiesiewicz\tPiesiewicz\tbrilhantismo\tpretenciosas\tbanales\tcompenetrado\tcompenetrado\ttransfixes\tentretiene\tand\\/or\tcondensada\tLiyan\tnumber\tconmovedora\tentreter\tconstatação\tconstatação\tcontinuação\tsailboaters\tsailboaters\tclich\tclich\tX\tcop\tcop\tcop\tcop\tcop\tcop\tcop\tcop\tcop\tcop\tcop\tcop\tcop\tcop\tcop\tCopmovieland\tcopyof\tcornpone\tcorruscating\tcorruscating\tnumber\tnumber\tteendom\tsurfacey\tsurfacey\tfountainheads\tmelodrama\\/character\tcrowdpleaser\tculminando\tculminando\tdesfecho\tmergulha\tculminando\tdesfecho\tdaneses\tdateflick\thennings\tcockettes\tcockettes\tcockettes\tcockettes\tsoaper\tMarcken\tPapai\tcondensada\tcondensada\tculminando\tdesfecho\tentretiene\tdeadeningly\tdeadeningly\tdebuter\tdebuter\tdebuter\tdrama\\/action\tmystery\\/thriller\t24\\/7\ttruncheoning\tuncinematic\testafeta\testafeta\tpulpiness\tsidesplitting\tTanovic\tTanovic\tpredecesora\tdemocracie\telaborateness\tderisions\thammily\thammily\tderivativeness\tpretenciosas\tbanales\tdescompromissado\twriter\\/director\tdesecrations\tdesfecho\tdesfecho\tmortarboards\tunsuspenseful\tcop\tpost-9\tpost-9\tbelinsky\tbelinsky\tbelinsky\tdemocracie\tMajidi\tdiciness\tViterelli\tViterelli\tvideo\\/DVD\tvideo\\/DVD\tCirulnick\tThulani\tCirulnick\tThulani\tKalvert\tWolodarsky\tWolodarsky\tWolodarsky\tWolodarsky\tWolodarsky\tAddessi\tAddessi\tJanklowicz\tKhouri\tKhouri\tPeploe\tPeploe\tMarivaux\tKosashvili\tBielinsky\tFleder\tagent\tagent\taction\\/effects\tStainton\tCacoyannis\tCacoyannis\tDowse\tDowse\tIosseliani\tKosminsky\tFamuyiwa\tFamuyiwa\tFamuyiwa\tHerek\tWolodarsky\t8217\twolodarsky\tdirector\\/co\tdirector\\/co\tdirector\\/co\tdirector\\/co\tdirector\\/co\tdirector\\/co\tdirectress\tGayton\tGayton\tembroils\tembroils\tdirgelike\tdirgelike\tcontinuação\tdisappearing\\/reappearing\tBarberShop\tBarberShop\tBarberShop\tcadness\tcadness\tnumber\tVulakoro\tvisualmente\tpredecesora\tpredecesora\tPapai\tinquestionável\tPapai\tinquestionável\t8217\tBarberShop\tDamon\\/Bourne\t129-minute\tX\ttrocadilho\toverplotted\toverplotted\tmark\tmark\tmark\t103-minute\tKazmierski\tKazmierski\tMakhmalbaf\tHopkins\\/Rock\tAnspaugh\tdoshas\tagent\tpistoled\tpistoled\tKrawczyk\tcorruscating\tcorruscating\tand\\/or\tPeploe\tMarivaux\t112-minute\tdeed\\/bad\tdrama\\/action\tdrama\\/action\tdrama\\/character\tdrama\\/character\tdrippiness\tIdemoto\tdrung\tdudsville\tgorefests\tdullingly\tdullingly\tdumbfoundingly\tdumbfoundingly\tGuei\tdungpile\t112-minute\tBlethyn\tPeploe\tPapai\tPapai\tinquestionável\tpincel\tconstatação\tsmashups\tsmashups\tsmashups\tsmashups\tBrothers\\/Abrahams\treel\\/real\tlikableness\tcomic\\/thriller\tmark\tegocentricities\t8217\telaborateness\tconstatação\tRyanovich\tcompenetrado\tuncinematic\tacerta\tPapai\tculminando\tdesfecho\tdesfecho\tembroils\tembroils\tderisions\tLiyan\tLiyan\tMakhmalbaf\tTruckzilla\tTruckzilla\tTruckzilla\tTruckzilla\tVolletta\tskate\\/surf\tskate\\/surf\tactorly\tactorly\tactorly\thastier\t1\\/2\tMouglalis\tsoaper\tnumber\tnumber\tJacquot\t103-minute\tBielinsky\tunconned\tovermanipulative\tentreter\tentretiene\tnumber\tnumber\thastier\tinquestionável\teroti\tcompenetrado\tmemorables\tcompenetrado\tmemorables\tcompenetrado\tmemorables\tAllodi\tNolden\tBallesta\tBallesta\twriter\\/director\tAchero\tculminando\tdesfecho\tespite\tespite\tjuiceless\tcontinuação\tCantet\tCantet\tCantet\testafeta\tconstatação\tFelinni\tFelinni\tX\tDamon\\/Bourne\tstrafings\tRyanovich\ttardier\tstuffiest\tstuffiest\tprep\tcop\tcop\tcop\tJagjit\tMouglalis\tMouglalis\tdisappearing\\/reappearing\tcletis\tBrothers\\/Abrahams\tPapai\t79-minute\t79-minute\t79-minute\troot\tX\texporing\texporing\texporing\tunfakable\tRechy\tRechy\tindomitability\tindomitability\tdisappearing\\/reappearing\tunemotive\tToback\tRINGU\tRINGU\tmark\tagent\tagent\tagent\tagent\tagent\tovermanipulative\t4\\/5ths\t4\\/5ths\t4\\/5ths\tAlagna\tAlagna\tadventues\tfantasti\tconstatação\tinquestionável\tfeardotcom\tfeardotcom\tfeardotcom.com\tBjorkness\tmark\tDamon\\/Bourne\troot\t9\\/11\tIdemoto\tcannier\tcannier\tfessenden\tfessenden\tfessenden\tfessenden\tfiftysomething\tfiftysomething\tBielinsky\tBielinsky\tfillm\tentreter\tentreter\tmergulha\tculminando\tdesfecho\t87-minute\tfilmgoing\tfilmgoing\tFlatman\tDridi\tAttal\tAttal\tMarcken\tMarcken\tcockettes\tcockettes\tcockettes\tcockettes\tcockettes\tgorefests\tcletis\tAttal\tAttal\tZishe\tHanussen\tBierbichler\tBleibtreu\tBondish\tStainton\tStainton\t2\\/3\thennings\thennings\tfizzability\tflakeball\tagent\tflatula\tflck\tOprahfication\tOprahfication\toverplotted\tflatula\tkirkegaard\tspittingly\tchopsocky\tBurstein\tBurstein\tBurstein\tCletis\tDamon\\/Bourne\tPaymer\tGaghan\tLaPaglia\tcop\thowlingly\tPicpus\t1\\/2\t1\\/2\tnature\\/nurture\tSerrault\tFleder\t1\\/2\tcletis\tfiftysomething\tactorly\tSerrault\tprecollegiate\ttardier\tX\t87-minute\tDjeinaba\tunder-7\tand\\/or\tmontied\tshapable\tforgettably\tforgettably\tnymphette\tculminando\tdesfecho\tfountainheads\tmark\tfrightfest\tAbbass\tBettany\\/McDowell\tMagimel\tgangster\\/crime\tmother\\/daughter\tunrecommendable\tdrippiness\tjeunet\tHiguchinsky\tnumber\tnymphette\tCockettes\tcockettes\tfeardotcom\tfeardotcom.com\tnumber\tChristelle\t79-minute\t79-minute\trubbo\tBenshan\tfuhgeddaboutit\tmontied\tBierbichler\tBleibtreu\tmoviehouse\tfunny\\/gritty\tfunny\\/gritty\tfunny\\/gritty\tOprahfication\tfustily\tfustily\tgabbiest\tgabbiest\tgangster\\/crime\tgangster\\/crime\tnumber\ts\\/m\tforgettably\tforgettably\troot\troot\troot\troot\troot\tprep\tnonchallenging\troot\tvidgame\tmontied\tmontied\tFearDotCom\tFearDotCom\tFearDotCom\tcletis\tMorvern\tCallar\tMorvern\tCallar\tthumpingly\tcadness\tcadness\tpistoled\tagent\tagent\tagent\tagent\tFearDotCom\tnumber\tPresson\tPresson\t1\\/2\t1\\/2\tWisegirls\tWisegirls\tthumpingly\tCletis\treel\\/real\treel\\/real\tVenice\\/Venice\treel\\/real\tVenice\\/Venice\tTestud\tdeed\\/bad\tdeed\\/bad\tdeed\\/bad\tgorefests\tcelebrityhood\tmark\t1\\/2\t1\\/2\t1\\/2\t1\\/2\tMarine\\/legal\tvidgame\tmonster\\/science\tmateralism\tgroupie\\/scholar\tgroupie\\/scholar\tgunfest\tcheatfully\tcheatfully\tcheatfully\tcheatfully\tdoshas\tmark\tmark\thammily\tsouffl\tsouffl\thaphazardness\tPicpus\tteendom\tRINGU\tRINGU\tactory\tTestud\tTestud\tPiesiewicz\tnumber\tnumber\tnumber\tscuzbag\tscuzbag\t3\\/4th\t3\\/4th\tskate\\/surf\tskate\\/surf\tskate\\/surf\tfrightfest\tfrightfest\tAllodi\tNolden\tnumber\t24\\/7\tCroze\tTravil\tNenette\tTravil\tNenette\ttravil\tnenette\tunderrehearsed\tunderrehearsed\tunderrehearsed\tunderrehearsed\tunderrehearsed\tunderrehearsed\t21\\/2\t21\\/2\thastier\thastier\t20-car\t20-car\t20-car\t20-car\tGutterball\ttruncheoning\t103-minute\tBielinsky\tPicpus\tDecasia\tluvvies\tgorefests\tRunteldat\tRunteldat\tRunteldat\tX\tX\tnumber\tagent\tagent\toutgag\tSchweig\tSchweig\t24\\/7\theadbangingly\theadbangingly\theadbangingly\tdemocracie\tuntugged\tKazmierski\tAttal\tagent\thennings\tBjorkness\tMorvern\tMorvern\tcop\tMusset\toverplotted\tSandlerian\tsandlerian\tWisegirls\tNæss\tHellstenius\tViterelli\tdirectress\tmark\tsplatterfests\t102-minute\twife\\/colleague\twife\\/colleague\twife\\/colleague\tcadness\tcadness\tcipherlike\tcipherlike\tcipherlike\tcipherlike\tshapable\tmark\tZaidan\tchopsocky\tdrippiness\tdrippiness\tdrippiness\tprep\tmark\tmark\tmark\tchopsocky\tRyanovich\tpokepie\tpokepie\tpokepie\tpokepie\tpokepie\tpokepie\tpokepie\tcop\tKahlories\tpulpiness\tpulpiness\t99-minute\tMeeropol\tpincel\tpincel\thorror\\/action\thorror\\/action\thorror\\/thriller\thotsies\tShagster\tNettelbeck\tStainton\tdemocracie\tscarifying\thowlingly\thowlingly\tsurfacey\thumbuggery\thumbuggery\tflatula\tDenlopp\tbrilhantismo\tPeploe\tPeploe\tPeploe\tPeploe\tfeardotcom\tfeardotcom.com\tidoosyncratic\tidoosyncratic\tAttal\t79-minute\t79-minute\tOhlinger\tSchwentke\tmystery\\/thriller\tshayamalan\tshayamalan\tshayamalan\tshayamalan\tshayamalan\tSoapdish\tinterspliced\tShadyac\tbedevilling\tcomedy\\/thriller\timponderably\timponderably\timponderably\timponderably\timponderably\tdisappearing\\/reappearing\tdisappearing\\/reappearing\timpotentes\tAbbass\tsailboaters\tX\tViterelli\tCopmovieland\tFearDotCom\tFearDotCom\thastier\tMorvern\tCallar\tVenice\\/Venice\tWisegirls\tsurfacey\tSolondzian\tsolondzian\thastier\tachronological\tshapable\tPiesiewicz\tToback\tToback\tToback\tfessenden\tMinac\tminac\tminac\t1\\/2\tdungpile\tfilmgoing\tKalvert\tHitchcockianism\tdemocracie\tBreillat\tvidgame\tdisappearing\\/reappearing\tcop\tZishe\tHanussen\tcop\tprechewed\trubbo\tactioners\tactioners\tactioners\tskate\\/surf\tvideo\\/DVD\tfrightfest\tMargolo\tMargolo\t9\\/11\thorror\\/action\tsuperlarge\tKalvert\tchopsocky\tpowerment\tKaputschnik\tKaputschnik\tsidesplitting\tinconsequentiality\tnumber\tunfakable\tindieflick\tindomitability\tactorliness\tscarifying\tinhospitability\tinquestionável\twriter\\/director\tprep\tCroze\tmother\\/daughter\tAttal\tImaxy\tImaxy\tinterspliced\tinterspliced\tinterspliced\tinterspliced\tinterspliced\tX\tJuliet\\/West\tmother\\/daughter\tRyanovich\tcop\tcop\tcop\tsplatterfests\tinconsequentiality\tpowerment\tnonethnic\ttardier\tszpilman\tscarifying\tX\tmordantly\tSilbersteins\tSilbersteins\tinvolvingly\tinvolvingly\tSandlerian\tpost-9\tpost-9\tpost-9\tpost-9\tpost-9\tpost-9\tpost-9\tFearDotCom\tnumber\tFearDotCom\tnumber\tCarion\tCarion\tCarion\tCletis\tCletis\tCorcuera\tCorcuera\tDebrauwer\tHolofcener\tHolofcener\tHolofcener\ttruncheoning\ttruncheoning\tKuras\tKuras\tKuras\tKuras\tcop\tcop\tcop\tagent\tunder-7\tunder-7\tand\\/or\tand\\/or\t76-minute\t76-minute\tFleder\tFleder\tfizzability\tfizzability\tPeter\\/Spider\tPeter\\/Spider\tSandlerian\tSandlerian\tstuffiest\tKhouri\tKhouri\tKhouri\tKhouri\tKhouri\tKhouri\tbeachcombing\twriter\\/director\tBrothers\\/Abrahams\tBrothers\\/Abrahams\tnumber\troot\thastier\thastier\tDjeinaba\tbedevilling\tbedevilling\tnumber\tunemotive\tcletis\tSlowtime\tSlowtime\tmark\tmark\tJanklowicz\tJanklowicz\tWolodarsky\tWolodarsky\tWolodarsky\tWolodarsky\tdudsville\tdudsville\tVolletta\tnumber\tnumber\tnumber\tjuiceless\tjuiceless\tdisappearing\\/reappearing\tmontied\tmontied\tfuhgeddaboutit\tfuhgeddaboutit\tBierbichler\tBleibtreu\tBierbichler\tBleibtreu\tmoviehouse\tmoviehouse\tDebrauwer\tDebrauwer\troot\troot\tfilmgoing\tfilmgoing\tKalvert\tX\tX\tneurasthenic\tneurasthenic\tShadyac\tlikableness\tlikableness\ttardier\ttardier\ttardier\ttardier\ttardier\ttardier\tSeldahl\tWollter\t8217\tmarveilleux\tmarveilleux\tSchweig\tChabrolian\tChabrolian\tToback\tfessenden\tcop\tcop\tKrawczyk\tKrawczyk\tclich\tinvolvingly\tinvolvingly\troot\tnonchallenging\tnonchallenging\tWatstein\tWatstein\tuberviolence\tClericks\tuberviolence\tClericks\tchopsocky\tchopsocky\tlandbound\tlandbound\tlandbound\tlandbound\tlandbound\tundogmatic\tundogmatic\trepellantly\trepellantly\tBlethyn\tsentimentalized\tsentimentalized\tshapelessly\tshapelessly\tshapelessly\tshapelessly\tMajidi\tMajidi\tmajidi\tMakhmalbaf\tMakhmalbaf\twriter\\/director\twriter\\/director\tPayami\tSilbersteins\tSilbersteins\tsoaringly\tsoaringly\tPayami\tcheatfully\tcheatfully\tunfakable\tunfakable\tBerling\tBerling\tToback\tToback\tDesplechin\tDesplechin\tDesplechin\tDesplechin\t76-minute\t76-minute\tX\tCletis\tCletis\troot\troot\troot\troot\tgabbiest\tgabbiest\tgabbiest\tgabbiest\tgabbiest\tnumber\tnumber\tbohos\tbohos\tGedeck\tGedeck\tHennings\tHennings\tunhibited\tunhibited\tunhibited\t24\\/7\t24\\/7\tTornatore\tTornatore\tAhola\tNebrida\tLaurice\tisraeli\\/palestinian\tprep\tprep\tZishe\tHanussen\tunfussily\tunfussily\tand\\/or\tJacquot\tdrama\\/character\tdrama\\/character\tdrama\\/character\tdrama\\/character\tdrama\\/character\tdrama\\/character\ts\\/m\tdeadeningly\tdefeatingly\tGutterball\tMakhmalbaf\tmark\tcop\tcop\ttruncheoning\tTanovic\tViterelli\tmark\tmark\t103-minute\tAnspaugh\t112-minute\t9\\/11\tOprahfication\tthumpingly\tPiesiewicz\tPiesiewicz\tmark\tRyanovich\twriter\\/directors\tstuffiest\twriter\\/director\tlikableness\tfessenden\tfessenden\tfessenden\tfessenden\tfessenden\tX\tCorcuera\twriter\\/directors\twriter\\/directors\tand\\/or\trevigorates\tcannier\tShainberg\tshainberg\tRyanovich\tmystery\\/thriller\ttryingly\titalianas\t103-minute\t112-minute\t170-minute\t1\\/2\tKahlories\tX\tneurasthenic\tpost-9\tfiftysomething\tDankworth\tmark\t1\\/2\tplaintiveness\tactorly\tunderventilated\ttryingly\tnarcotizing\tjacquot\tjacquot\tjacquot\tjacquot\tjacquot\tlaboriousness\tmark\tjeunet\tmonster\\/science\tmonster\\/science\tpowerment\tRINGU\tRINGU\tjuiceless\tDecasia\tdungpile\tdungpile\tcop\tmoviehouse\tjuwanna\tjuwanna\tBurstein\tPhonce\tPhonce\tstrafings\tstrafings\tmolony\tmolony\tflck\tkirkegaard\tRubbo\trubbo\tscarifying\tscarifying\tscarifying\tscarifying\tscarifying\tentretiene\testafeta\testafeta\tentretiene\tlaboriousness\tlabute\tlabute\tlabute\tlabute\tCsokas\tCsokas\tlandbound\tMorvern\tpowerment\tlaugther\tlaugther\tAuteil\tBesco\tAuteil\tBesco\tnonchallenging\tnonchallenging\tuntugged\tuntugged\tunplundered\tBierbichler\tBleibtreu\tBierbichler\tBleibtreu\tchopsocky\tSerrault\tSerrault\tSerrault\tshlockmeister\tshlockmeister\tactorly\tactorly\tNæss\tBruckheimeresque\tunderventilated\tWollter\tViveka\tSeldahl\tWollter\tViveka\tSeldahl\tMargolo\tMargolo\tMargolo\tMargolo\tlikableness\tlikably\tlikably\tlikably\tlikably\tTravil\tNenette\tTravil\tNenette\tMullinski\t1\\/2\t1\\/2\tRINGU\tRINGU\tKaputschnik\t95-minute\tKaputschnik\t91-minute\t91-minute\tthesps\tmark\t102-minute\t102-minute\t102-minute\t102-minute\tX\tX\tagent\tagent\ttardier\tsouffl\ttravil\tnenette\trepellantly\tand\\/or\tGuei\t9\\/11\tRubbo\tdesecrations\tdesecrations\tegocentricities\tcomic\\/thriller\tRubbo\trubbo\ts\\/m\ts\\/m\ts\\/m\ts\\/m\ts\\/m\tdeadeningly\tnumber\t1\\/2\tvidgame\twaydowntown\tnumber\tpokepie\tKaputschnik\tKaputschnik\thowlingly\tPicpus\tthesps\tMullinski\tMullinski\tMullinski\tMullinski\tvideologue\tmemorables\tfrightfest\tX\tand\\/or\t102-minute\tcareworn\tluvvies\tluvvies\tjeunet\tjeunet\tjeunet\tjeunet\tjeunet\tjeunet\tjeunet\thorror\\/action\tTravil\tNenette\ttravil\tnenette\tindieflick\tindieflick\tindieflick\tSeldahl\tWollter\t170-minute\tmajidi\tmajidi\tmajidi\tmajidi\tmajidi\tMuccino\t8217\tmark\tmark\tmuccino\tand\\/or\tand\\/or\tand\\/or\tand\\/or\tstrainingly\tcop\tJacquot\tKosashvili\twriter\\/director\tX\tand\\/or\tBruckheimeresque\tBruckheimeresque\tmark\tmark\tCorcuera\tCorcuera\tagent\tprep\tprep\tfilmgoing\tmark\tmark\tmark\tmark\tmark\tmark\tmark\tmark\tmark\tmark\tmark\tmark\twriter\\/directors\twriter\\/directors\tmarveilleux\tVerdu\tpassatempo\tdescompromissado\tpassatempo\tdescompromissado\tmortarboards\tmortarboards\tmortarboards\tSchweig\tmateralism\tStainton\tactory\tactory\tKosashvili\tbornin\tAttal\tAttal\ttruncheoning\tpokepie\tpokepie\tmark\tmark\tBielinsky\tBielinsky\tentretiene\tlaugther\tmelodrama\\/character\tmelodrama\\/character\tPhocion\tmemorables\tobviation\tpowerment\tmergulha\tmergulha\tculminando\tdesfecho\t103-minute\thaphazardness\thaphazardness\tPicpus\tminac\tfantasti\tqatsi\tnumber\tSolondzian\tsolondzian\tsolondzian\tsolondzian\tsolondzian\tbohos\tbohos\tmark\tMarivaux\tcornpone\tscuzbag\taction\\/comedy\taction\\/comedy\tA.E.W.\tA.E.W.\tnumber\tmolony\tconmovedora\tmonkeyfun\tmonster\\/science\tmonster\\/science\tmontied\thorror\\/thriller\tcondundrum\tcondundrum\tmordantly\tmordantly\tX\tX\tX\tKalvert\tmortarboards\tAttal\tAttal\t1\\/2\ts\\/m\tcop\tunfussily\tunfussily\tmortarboards\tanimaton\twriter\\/directors\t170-minute\tfountainheads\tsuspenser\tmother\\/daughter\tmother\\/daughter\tmother\\/daughter\tmother\\/daughter\tmortarboards\tmortarboards\tmoviehouse\tcomedy\\/drama\tserrault\tserrault\tserrault\tmuccino\tmuccino\tmuccino\tmuccino\toverplotted\tshapable\trubbo\trubbo\tVardalos\tAllodi\tNolden\tmusclefest\tHiguchinsky\tnumber\tmystery\\/thriller\tgorefests\tbracingly\tnarcotizing\tnarcotizing\tnarcotizing\tnarcotizing\tJanklowicz\tfessenden\tnature\\/nurture\tnature\\/nurture\t21\\/2\t21\\/2\t21\\/2\t1\\/2\t77-minute\t77-minute\t77-minute\tX\tX\tqatsi\tqatsi\tbrilhantismo\tnenette\tnenette\tnenette\tHitchcockianism\tneurasthenic\tneurasthenic\tfantasti\ttelanovela\tMusset\tnew\\/old\tnew\\/old\tentretiene\tentretiene\tentretiene\tvideologue\tvideologue\tvideologue\tprefeminist\tcop\tcop\telaborateness\tKrawczyk\tuntugged\tuntugged\tuntugged\tuntugged\tunplundered\tunplundered\tpretenciosas\tbanales\tprefeminist\t1\\/2\t1\\/2\t1\\/2\tBondish\tBondish\tnonchallenging\tnonchallenging\t1\\/2\t1\\/2\t1\\/2\t1\\/2\t1\\/2\t1\\/2\t1\\/2\t1\\/2\t1\\/2\t1\\/2\t112-minute\tnonethnic\tnonethnic\tnonjudgmentally\tnonjudgmentally\tnonjudgmentally\tlaboriousness\tlaboriousness\tclich\tclich\tsplatterfests\tnumber\tImaxy\t87-minute\tage\\/coming\ttravil\tnenette\ttravil\tnenette\tAddessi\tAddessi\t129-minute\tThulani\tMcKlusky\tnrelentingly\tnrelentingly\tnrelentingly\tconstatação\tnumber\tnumber\tnymphette\tnymphette\tbrilhantismo\tbrilhantismo\ttrocadilho\tbrilhantismo\tculminando\tdesfecho\tentreter\tmergulha\tculminando\tdesfecho\tpincel\tpincel\tconstatação\tMullinski\tunfussily\tunfussily\tobviation\tKaputschnik\tinvolvingly\t90-plus\tReigen\tChristelle\tBielinsky\tHanussen\tBurstein\t24\\/7\tGedeck\tHanussen\tChardonne\tX\tRechy\tprefeminist\teroti\twriter\\/director\\/producer\tMarivaux\t168-minute\tMeeropol\tMeeropol\tVardalos\tVardalos\tPhocion\tRintarô\tRunteldat\tRunteldat\tfountainheads\tShainberg\tStortelling\tautocritique\tMargolo\tcop\t8217\tVardalos\tBenshan\tZishe\tX\tX\tMacGraw\tKaputschnik\t1\\/2\t1\\/2\t20-car\tX\tJoffé\tfilmgoing\ttelanovela\tflakeball\tJapanimator\tachronological\tactorly\talientation\tMusset\tAttal\tnumber\tchristelle\t87-minute\tindomitability\tGuei\tmoviehouse\tcop\tcop\tclich\tcinemantic\tmother\\/daughter\tX\tCopmovieland\tsmashups\tBrothers\\/Abrahams\thastier\tIdemoto\tZishe\tHanussen\tBierbichler\tBleibtreu\tcelebrityhood\tmonster\\/science\tMusset\tchopsocky\tidoosyncratic\tdisappearing\\/reappearing\t170-minute\t1\\/2\tplaintiveness\tunderventilated\tprep\tprep\tscuzbag\tscuzbag\tneurasthenic\tage\\/coming\tfountainheads\tfountainheads\tnumber\tnumber\tnumber\tnumber\tprechewed\tSeldahl\tWollter\tcop\tactorliness\tshainberg\tsnazziness\tPasach\tBurstein\tthesps\tteendom\tClericks\tqatsi\tadventues\t1\\/2\thaphazardness\tSandlerian\tsandlerian\tcop\tWisegirls\twriter\\/directors\tnature\\/nurture\troot\tnature\\/nurture\tthriller\\/horror\tunsalvageability\tpistoled\t87-minute\tAttal\tnew\\/old\tage\\/coming\tsocial\\/economic\\/urban\tToback\tmateralism\tactioners\tprefeminist\tsuperlarge\tsuperlarge\t65-minute\tcollinwood\t9\\/11\tKosashvili\tszpilman\tMajidi\tmajidi\tX\tmemorables\tspittingly\tspittingly\tautocritique\tclich\tclich\tGuei\tKaputschnik\tNæss\tnumber\tnumber\tBjorkness\tpulpiness\tdiciness\tnumber\treel\\/real\tvidgame\tprep\twriter\\/director\thastier\tdemocracie\tinvolvingly\tfountainheads\twriter\\/directors\twriter\\/directors\tnonchallenging\tmark\tPeploe\tnumber\troot\toverplotted\tchopsocky\tuntugged\tuntugged\tunplundered\tcondensada\tcondensada\tovermanipulative\tnumber\tmusclefest\ttardier\tBielinsky\tpistoled\tagent\tagent\tagent\toutgag\toutgag\tsidesplitting\tsidesplitting\tunder-10\tIdemoto\tdisappearing\\/reappearing\tover-25s\tsillified\tsillified\tovermanipulative\tovermanipulative\toverplotted\toverplotted\tuberviolence\tClericks\tuberviolence\tClericks\tsoaper\tcomedy\\/drama\tX\tSilbersteins\tchopsocky\tnumber\tnumber\tnumber\tnumber\tClayburgh\tpantomimesque\tpantomimesque\timpotentes\tPapai\tcelebrityhood\tcelebrityhood\tKosashvili\tChristelle\tchristelle\tCoriat\tpassatempo\tpassatempo\tdescompromissado\tderisions\tmark\tpatient\\/doctor\tpatient\\/doctor\tegocentricities\tpeerlessly\tWildean\tuncinematic\tAmoses\tStortelling\tautocritique\tStortelling\tautocritique\tentretiene\taccordion\\/harmonica\\/banjo\tpincel\tplaintiveness\tindomitability\tAnspaugh\tAnspaugh\t95-minute\t91-minute\t91-minute\t91-minute\t91-minute\t91-minute\t91-minute\t91-minute\tsnazziness\tsnazziness\tsnazziness\tIdemoto\tnonethnic\tnonethnic\tpokepie\tpokepie\tHermocrates\tHermocrates\tHermocrates\tLeontine\tHermocrates\tLeontine\tJagjit\tconmovedora\tconmovedora\tEllefsen\tEllefsen\tcompenetrado\tcompenetrado\tcompenetrado\tcompenetrado\tmemorables\tlikably\tlikably\tand\\/or\tpost-9\tpost-9\tpost-9\tpowerment\tprechewed\tprechewed\tprechewed\tprecollegiate\tprecollegiate\tpredecesora\tIdemoto\tprefeminist\tprefeminist\tmergulha\tculminando\tdesfecho\tprep\tprep\tprep\tprep\tembroils\tcondundrum\tcondundrum\tcondundrum\tChristelle\tChristelle\tChristelle\tChristelle\tChristelle\tchristelle\tchristelle\tchristelle\tchristelle\tpretenciosas\tpretenciosas\tbanales\tMorvern\tMorvern\tlandbound\tNettelbeck\tNettelbeck\tNettelbeck\tprewarned\tAddessi\tAddessi\tKosashvili\tKosashvili\twar\\/adventure\tLePlouff\tMuccino\tfizzability\tpost-9\tprovocatuers\tprovocatuers\tTestud\tpsychodramatics\tmuccino\tmuccino\tpulpiness\tsolondzian\tsolondzian\tVenice\\/Venice\tX\tX\tqatsi\tqatsi\taceitou\tcontinuação\tentretiene\tpretenciosas\tbanales\tbanales\tpredecesora\tcop\tand\\/or\tidoosyncratic\tidoosyncratic\tRubbo\trubbo\thastier\tDesplechin\tDesplechin\tand\\/or\tKaputschnik\tSeldahl\tWollter\tHermocrates\tLeontine\t77-minute\tDebrauwer\tWisegirls\tricture\tSoliah\tvideo\\/DVD\treel\\/real\treel\\/real\tundogmatic\tunhibited\tunhibited\tprecollegiate\tX\tSoliah\tSoliah\tSoliah\tSoliah\tSoliah\tSoliah\t1\\/2\tNæss\tNæss\tHellstenius\tNæss\tHellstenius\tWildean\tKaputschnik\tKaputschnik\tKaputschnik\t179-minute\tachival\tHIV\\/AIDS\tMcKlusky\tcop\tcop\trepellantly\trepellantly\tnumber\tKosminsky\tCletis\tbanales\tprep\tprecollegiate\tdemocracie\trevigorates\trevigorates\trevigorates\tBorstal\tMagimel\tdirgelike\tdirgelike\tricture\tvideologue\tvideologue\tdiciness\tdiciness\tdiciness\tdiciness\ttelanovela\ttelanovela\tChouraqui\tChouraqui\troisterous\tromantic\\/comedy\tromantic\\/comedy\troot\troot\troot\troot\troot\troot\troot\troot\troot\troot\troot\troot\troot\troot\troot\troot\troot\troot\trosily\trosily\trosily\tfrightfest\trubbo\trubbo\trubbo\trubbo\trubbo\trubbo\tunemotive\tunemotive\tunemotive\tunemotive\tunemotive\ts\\/m\ts\\/m\tvideo\\/DVD\tsailboaters\tnumber\tsandlerian\tsarcástica\tflck\tunrecommendable\tdrippiness\tWisegirls\tjuwanna\tjuwanna\tscarifying\tfeardotcom\tactorliness\thorror\\/action\taccordion\\/harmonica\\/banjo\tsmashups\t24\\/7\tGaghan\tscuzbag\tscuzbag\tcondensada\tcelebrityhood\tagent\tRecoing\tRecoing\tRecoing\tMakhmalbaf\tHennings\tqatsi\tqatsi\tqatsi\tnymphette\tnymphette\tnymphette\tnymphette\tLaPaglia\tViterelli\tViterelli\tSoapdish\tCletis\tdefeatingly\tdefeatingly\tsemimusical\tsorprenderá\tsorprenderá\tcopyof\tcopyof\tovermanipulative\tsentimentalized\tseriocomic\tseriocomic\tserrault\tcannier\tcannier\tDebrauwer\tpincel\tshainberg\tshainberg\tshainberg\tshapable\tKosminsky\tKosminsky\tshapelessly\tshapelessly\tshapelessly\tovermanipulative\tshayamalan\tshayamalan\tCoriat\tCoriat\tshimmeringly\tshimmeringly\tshimmeringly\tshlockmeister\tshlockmeister\tMajidi\tmajidi\tcop\tcletis\tGutterball\tGutterball\tnumber\tHiguchinsky\toutgag\toutgag\tdirector\\/co\tdirector\\/co\tMusset\tMusset\tsidesplitting\tsidesplitting\tsidesplitting\tconmovedora\tFamuyiwa\tFamuyiwa\tsillified\thumbuggery\tBreillat\tJoffé\t87-minute\tsitcomishly\tsitcomishly\tSolondzian\tSolondzian\tsolondzian\tskate\\/surf\tskate\\/surf\tLePlouff\tgorefests\tage\\/coming\tfilmgoing\tpistoled\tmelodrama\\/character\tslummer\tslummer\tachronological\tsmashups\tstumblings\tsnazziness\tDamon\\/Bourne\tsidesplitting\tcannier\tPayami\toverplotted\tSilbersteins\tthumpingly\tdirgelike\tmark\tTornatore\tsoaper\tsoaringly\tsoaringly\tsocial\\/economic\\/urban\tsocial\\/economic\\/urban\tpowerment\tRyanovich\tsolondzian\tcop\t79-minute\t79-minute\t1\\/2\tplaintiveness\tplaintiveness\tWisegirls\tBreillat\t90-plus\tPayami\tSolondzian\tsolondzian\tBrothers\\/Abrahams\tPasach\tBurstein\tPasach\tBurstein\tPasach\tBurstein\tsorprenderá\tlaugther\tsouffl\tunslick\tCsokas\tCsokas\tcelebrityhood\tcelebrityhood\tflatula\tflatula\tflatula\tflatula\tDenlopp\tvidgame\tvidgame\tflatula\tDenlopp\tsplatterfests\tdrama\\/character\tSeldahl\tWollter\tstagecrafts\tand\\/or\tVardalos\twife\\/colleague\twife\\/colleague\tflck\tflck\tX\tlaboriousness\tunrecommendable\tMeeropol\tprecollegiate\tstrafings\tstrainingly\tstrainingly\tstrainingly\tmark\taction\\/effects\taction\\/effects\tlabute\tlabute\tlabute\tsurehanded\tprecollegiate\tAhola\tstuffiest\tstuffiest\tstumblings\tstuporously\tstuporously\tkirkegaard\tfillm\tfillm\tfillm\tfillm\tpredecesora\tSilbersteins\tdungpile\tstrainingly\tKaige\tcletis\tVenice\\/Venice\tunfakable\t103-minute\t103-minute\tBerling\tsuperlarge\tsuperlarge\tOhlinger\tNebrida\tLaurice\tsurehanded\tsurehanded\tpsychodramatics\tsurfacey\tWisegirls\tWisegirls\tPeter\\/Spider\tteendom\tBurstein\tBurstein\tBurstein\tBurstein\tBurstein\tMorvern\tCallar\tMorvern\tCallar\tMorvern\tCallar\tMorvern\tCallar\tculminando\tdesfecho\tsuspenser\t170-minute\tszpilman\tnumber\t85-minute\t85-minute\t85-minute\tKurys\tKurys\tKurys\tcop\tcop\tcop\tcop\tKaige\tthesps\twriter\\/director\tGaghan\tGaghan\tcompenetrado\ttardier\ttardier\ttardier\ttardier\ttardier\tsorprenderá\tdeed\\/bad\tsuspenser\tteendom\tactorliness\ttelanovela\tKalvert\tVardalos\tVardalos\t1\\/2\ts\\/m\tX\tcop\tcorruscating\tNæss\t79-minute\t79-minute\tBruckheimeresque\tunderventilated\twriter\\/director\treel\\/real\tVenice\\/Venice\tKaputschnik\tKaputschnik\thastier\tKosashvili\tmark\tVenice\\/Venice\ttruncheoning\ttruncheoning\tindomitability\tdirgelike\tHIV\\/AIDS\tX\tKrawczyk\tPollyana\tPollyana\tTornatore\twriter\\/director\tteendom\tfilmgoing\twriter\\/director\troot\tTashlin\twaydowntown\tembroils\tTruckzilla\tTruckzilla\tDamon\\/Bourne\tstuffiest\tX\tBjorkness\tvidgame\tvidgame\tAttal\tBlethyn\tPayami\tX\tMakhmalbaf\tmark\tcannier\tmark\tuntugged\tuntugged\tunplundered\tand\\/or\tPeploe\t95-minute\tembroils\tDesplechin\tDesplechin\troot\tdrippiness\tmark\tKaige\tnumber\tKazmierski\tfeardotcom\tfeardotcom.com\tmark\tbornin\t76-minute\tskate\\/surf\tskate\\/surf\tnumber\tMorvern\tCallar\tMorvern\tCallar\troot\t129-minute\tBruckheimeresque\tBruckheimeresque\tCleanFlicks\tCleanFlicks\tMacGraw\tCleanFlicks\tMacGraw\tClericks\tCockettes\tCockettes\tCockettes\tCockettes\tHopkins\\/Rock\tHopkins\\/Rock\tIsraeli\\/Palestinian\tSoliah\tSoliah\tSoliah\tO2-tank\tShagster\tShagster\tX\tX\tO2-tank\tqatsi\tqatsi\tqatsi\tqatsi\tPhonce\tPhonce\tPhonce\tKosminsky\tadventues\tadventues\tdisappearing\\/reappearing\tCletis\tChouraqui\tcop\tfantasti\tTestud\tX\tClayburgh\tClayburgh\tClayburgh\tClayburgh\tsnazziness\tHerek\tHerek\tHerek\tKosminsky\tAuteil\tBesco\tBerling\tembroils\tcockettes\tcockettes\tcockettes\tcockettes\tVardalos\tVardalos\troot\tand\\/or\tage\\/coming\tcornpone\tcornpone\tcornpone\t1\\/2\tBerling\tWollter\tViveka\tSeldahl\tWollter\tViveka\tSeldahl\tpulpiness\tpulpiness\tspittingly\tspittingly\tmark\tdiciness\tdiciness\tKazmierski\tKazmierski\t8217\t8217\t8217\tPresson\tcollinwood\tcollinwood\tcollinwood\tcollinwood\telaborateness\telaborateness\telaborateness\telaborateness\telaborateness\tmoviehouse\tMouglalis\tMouglalis\tNebrida\tNebrida\tNebrida\tLaurice\tsuperlarge\tsuperlarge\tsuperlarge\tZishe\tZishe\tZishe\tHanussen\tcletis\tcletis\tfeardotcom\tfeardotcom.com\tcop\tHanussen\tAmoses\tsoaringly\tDebrauwer\tVerdu\tprewarned\tprewarned\tprewarned\t1\\/2\tfeardotcom\tfeardotcom.com\tmark\tjuiceless\tHermocrates\tLeontine\tinconsequentiality\tAddessi\tqatsi\t2\\/3\t2\\/3\t2\\/3\tNebrida\tNebrida\tdoshas\tdoshas\tOprahfication\tOprahfication\tgabbiest\tgangster\\/crime\tgangster\\/crime\t87-minute\tLaurice\thaphazardness\thaphazardness\tPhocion\troot\tteendom\troot\tX\tX\ttruncheoning\tNettelbeck\tNettelbeck\twriter\\/director\twriter\\/director\twriter\\/director\tSandlerian\tsandlerian\tisraeli\\/palestinian\tToback\tprechewed\trubbo\ttelanovela\tszpilman\tBenshan\tBenshan\tBenshan\tcop\tWisegirls\tmark\tmark\tmark\tAuteil\tAuteil\tAuteil\tAuteil\tBesco\tVerdu\tVerdu\tVerdu\tShainberg\tShainberg\tshainberg\tshainberg\twriter\\/directors\tbedevilling\tbedevilling\ttransfixes\tnumber\tminac\tminac\tFelinni\tFelinni\tcornpone\tmoviehouse\tthriller\\/horror\tnarcotizing\tnarcotizing\tnature\\/nurture\tnature\\/nurture\tPresson\tAhola\tSabara\tSabara\tnumber\tnumber\tnumber\tnumber\tnumber\tnumber\tBrothers\\/Abrahams\tmark\tsidesplitting\tsidesplitting\tover-25s\tnumber\tmonster\\/science\tbohos\tegocentricities\tegocentricities\tGedeck\tSeldahl\tWollter\tChristelle\tchristelle\tHennings\thennings\tactioners\tDamon\\/Bourne\tNebrida\tLaurice\tnature\\/nurture\tHennings\tHennings\treel\\/real\tunhibited\troot\troot\troot\tnumber\tnumber\tvidgame\tscarifying\tcop\tskate\\/surf\tidoosyncratic\tfilmgoing\tstrafings\tstrafings\tstuffiest\tDjeinaba\tspittingly\tspittingly\tX\tGuei\tunderventilated\tMusset\tMusset\tCrummles\tnature\\/nurture\tthriller\\/horror\tvideo\\/DVD\tvideo\\/DVD\tvideo\\/DVD\tvideo\\/DVD\tdisappearing\\/reappearing\tfrightfest\tRintarô\tRintarô\tnumber\tmark\tuberviolence\tuberviolence\tClericks\tKaputschnik\tKaputschnik\tunder-10\tunder-7\tBielinsky\tShainberg\tShainberg\tunsalvageability\tSoapdish\tSoapdish\tMargolo\tMargolo\tSilbersteins\troot\troot\tand\\/or\tdullingly\tfeardotcom\tfeardotcom\tfeardotcom\tfeardotcom.com\tfeardotcom.com\tfeardotcom.com\t9\\/11\tmeaningness\tStortelling\tautocritique\tpistoled\tpistoled\tdemocracie\twolodarsky\twolodarsky\twolodarsky\twolodarsky\twolodarsky\twolodarsky\tRechy\tRechy\tRechy\tRechy\talientation\t87-minute\tX\tcollinwood\tcollinwood\tcletis\tuntugged\tmontied\tAttal\tX\tprep\tflakeball\tmuccino\tmuccino\tRubbo\trubbo\tAddessi\tAddessi\troot\tnumber\tKrawczyk\tbornin\tIdemoto\tthesps\tprecollegiate\tprecollegiate\t76-minute\tqatsi\tZaidan\tBielinsky\tBielinsky\tagent\tqatsi\t65-minute\tPG-13-rated\tPG-13-rated\tmark\tBerling\tChabrolian\tluvvies\tembroils\tunder-7\tunder-7\tunder-7\tunder-7\troot\troot\troot\troot\tobviation\tobviation\tstuffiest\tstuffiest\tnumber\tnumber\tnew\\/old\tricture\tromantic\\/comedy\tromantic\\/comedy\tromantic\\/comedy\thorror\\/action\tlikably\tage\\/coming\tsocial\\/economic\\/urban\tcop\tcop\t79-minute\t79-minute\tsuperlarge\tsuperlarge\tsidesplitting\tuncharismatically\tuncharismatically\tunderdramatized\tKalvert\tKalvert\tKalvert\trubbo\trubbo\tChouraqui\tand\\/or\tthriller\\/horror\tvideologue\tidoosyncratic\tidoosyncratic\tthumpingly\tthumpingly\t85-minute\tpistoled\tAnspaugh\tlikableness\tBreillat\tKuras\tKuras\tLiyan\tflakeball\tSlowtime\tToback\tChouraqui\t85-minute\t85-minute\tRunteldat\tRunteldat\tX\thowlingly\tReigen\tCletis\tAssayas\tJaglomized\tJaglomized\t9\\/11\t9\\/11\tmystery\\/thriller\tunder-10\tMullinski\tszpilman\tAmoses\tteendom\tMorvern\tcollinwood\tcadness\tcadness\tcadness\tcadness\tnumber\tand\\/or\t79-minute\t79-minute\tRINGU\tRINGU\tnonchallenging\tmontied\tdoshas\tchopsocky\tscarifying\tmoviehouse\twaydowntown\tKaputschnik\tKaputschnik\tMuccino\tmark\tmuccino\tJacquot\tmortarboards\t103-minute\tHIV\\/AIDS\tMcKlusky\troot\troot\tRecoing\tRecoing\tMakhmalbaf\tLePlouff\t170-minute\tKalvert\tPhonce\tKosminsky\tVardalos\tVardalos\tand\\/or\tmark\tVerdu\tmoviehouse\tthriller\\/horror\tnarcotizing\tfilmgoing\trubbo\ttruncheoning\tkirkegaard\thowlingly\ttoback\ttoback\tcop\tcop\tshapable\thastier\tvideo\\/DVD\tcheatfully\tMullinski\tMullinski\tbanales\tKalvert\tinconsequentiality\tinconsequentiality\ttransfixes\ttransfixes\ttransfixes\tmother\\/daughter\tszpilman\tcop\ttravil\tprep\tprep\tprep\tJuliet\\/West\tJuliet\\/West\tconstatação\ttrocadilho\tcop\tbornin\tbornin\tbornin\ttruncheoning\tKoshashvili\tKoshashvili\tchopsocky\ttryingly\ttryingly\tthumpingly\tthumpingly\tthumpingly\tDjeinaba\t21\\/2\t21\\/2\tRyanovich\tAssayas\tAssayas\thotsies\thotsies\tPeploe\tMarivaux\tMajidi\tToback\tuberviolence\tculminando\tdesfecho\tdesfecho\tinquestionável\tpassatempo\tdescompromissado\tmergulha\tculminando\tdesfecho\tmergulha\tculminando\tdesfecho\tcompenetrado\tmateralism\t87-minute\tuncharismatically\tuncinematic\tuncinematic\tuncinematic\tunclassifiably\tunclassifiably\tunconned\tunconned\tovermanipulative\tunconned\tovermanipulative\tdrung\tdrung\tdrung\tdrung\tdrung\tPhocion\tunder-10\tunder-10\tunder-7\tunder-7\tunderdramatized\tunderdramatized\tunderdramatized\tunderdramatized\tAhola\tnature\\/nurture\tnature\\/nurture\tnature\\/nurture\tunderrehearsed\tunderventilated\tunderventilated\tundogmatic\tundogmatic\tunemotive\tunencouraging\tunencouraging\tfizzability\tunfakable\tunfakable\tPhonce\tunrecommendable\tunsuspenseful\tunsuspenseful\tunfussily\tunfussily\tunhibited\tShainberg\tunlaughable\tprewarned\tprewarned\tanimaton\tanimaton\tunder-10\tRecoing\tRecoing\tunrecommendable\tunplundered\tunplundered\tunrecommendable\tunsalvageability\tunslick\tunsuspenseful\tunsuspenseful\tuntidily\tuntidily\tuntidily\tuntugged\tSoapdish\tMcKlusky\tszpilman\troot\tMakhmalbaf\tactioners\tMeeropol\tMorvern\tMorvern\tMorvern\tMorvern\tfeardotcom\tfeardotcom.com\tnumber\tReigen\tReigen\tvardalos\tvardalos\tvardalos\tSilbersteins\tventually\tcompenetrado\tmemorables\tSandlerian\tSandlerian\tthriller\\/horror\tmark\troot\tshapable\tshapable\tshapable\tshapable\tsemimusical\tsemimusical\tHiguchinsky\tvideo\\/DVD\tvideo\\/DVD\tvideologue\tvidgame\tvidgame\tprefeminist\tand\\/or\tvisualmente\tvisualmente\tSychowski\tforgettably\tRunteldat\tRunteldat\tcop\tjeunet\tjeunet\twaydowntown\tmystery\\/thriller\twar\\/adventure\twar\\/adventure\tZaidan\tKaige\tKaige\tKaige\tKaige\tBielinsky\tBielinsky\tcopyof\tcopyof\tAddessi\tSoapdish\tMorvern\tCallar\tMorvern\tCallar\tPhocion\tX\t76-minute\tsuperlarge\tsuperlarge\t65-minute\tmark\tShainberg\tactorliness\twaydowntown\twaydowntown\twaydowntown\twaydowntown\twaydowntown\twaydowntown\twaydowntown\twaydowntown\tOhlinger\tLePlouff\tDamon\\/Bourne\tFearDotCom\tFearDotCom\tX\t77-minute\troot\troot\troot\troot\tWisegirls\ttryingly\ttryingly\tfeardotcom.com\ttryingly\ttryingly\tbreeziness\tcollinwood\tdemocracie\tmark\tmeaningness\tchopsocky\t9\\/11\tKosashvili\tPicpus\tDebrauwer\tsandlerian\tsandlerian\tsandlerian\tbedevilling\ttruncheoning\ttruncheoning\tmark\tmark\tRyanovich\tHermocrates\tLeontine\tqatsi\tDogwalker\tDogwalker\tDogwalker\tDogwalker\tDogwalker\tcletis\tcletis\tcletis\tCacoyannis\tDjeinaba\tKalvert\tNebrida\tLaurice\tAddessi\tX\tX\tdemocracie\trubbo\trubbo\trubbo\trubbo\trubbo\tdisappearing\\/reappearing\tagent\tmother\\/daughter\tcletis\tnonchallenging\tAddessi\tAddessi\tprecollegiate\tpistoled\tmark\tX\tT&A\tflakeball\tflakeball\tdeed\\/bad\troot\twifty\tdirector\\/co\tMusset\twife\\/colleague\twifty\twifty\twifty\tinterspliced\tinterspliced\tIdemoto\tBorstal\tBorstal\t79-minute\t79-minute\t79-minute\t79-minute\tskate\\/surf\tskate\\/surf\tluvvies\t24\\/7\twincingly\twincingly\tthesps\tthesps\tJacquot\tANTWONE\tMacGraw\tAddessi\tAddessi\tCsokas\tX\tMusset\tPiesiewicz\tTruckzilla\tTruckzilla\tbracingly\toverplotted\tskate\\/surf\tskate\\/surf\tmark\tprecollegiate\tOprahfication\tcheatfully\tcoltish\tcop\tshapable\tflatula\tDenlopp\tDankworth\tDankworth\tEllefsen\tSilbersteins\tVenice\\/Venice\tO2-tank\tAuteil\tBesco\tPresson\tnumber\tricture\trubbo\tkirkegaard\tszpilman\tszpilman\tszpilman\tmonster\\/science\tmonster\\/science\twolodarsky\thowlingly\tMorvern\tCallar\tJagjit\tJagjit\tnumber\tNebrida\tLaurice\tstrainingly\tstrainingly\twaydowntown\tmother\\/daughter\tAttal\tAttal\tVerete\tVerete\tVerete\tKalesniko\tKalesniko\twriter\\/director\twriter\\/director\twriter\\/director\twriter\\/director\tAchero\twriter\\/director\tAchero\twriter\\/director\tAchero\twriter\\/director\twriter\\/director\twriter\\/director\twriter\\/director\twriter\\/director\tKosashvili\twriter\\/director\tKosashvili\twriter\\/director\twriter\\/director\twriter\\/director\twriter\\/director\twriter\\/director\twriter\\/director\twriter\\/director\\/producer\twriter\\/director\\/producer\twriter\\/directors\tCoriat\tnumber\tAddessi\tricture\tpredecesora\tbanales\tuncinematic\tcareworn\tMuccino\tVardalos\tMorvern\tCallar\tMorvern\tCallar\tmark\tPicpus\tadventues\tBielinsky\tSoapdish\t129-minute\tX\tvidgame\tjuwanna\tjuwanna\tBielinsky\tBielinsky\tBielinsky\tBielinsky\tand\\/or\tand\\/or\troot\tBielinsky\tinterspliced\tJacquot\tBallesta\tBallesta\tBallesta\tGaghan\tGaghan\tagent\tagent\tagent\tgorefests\tMajidi\tMajidi\tMajidi\tmajidi\tmajidi\tmajidi\tmajidi\tmajidi\tsailboaters\tpassatempo\tdescompromissado\t"
          ],
          "name": "stdout"
        }
      ]
    },
    {
      "cell_type": "markdown",
      "metadata": {
        "id": "6yjFkRCnYm-r"
      },
      "source": [
        "we've identified which words are out of vocabulary of our spacy en lg model"
      ]
    },
    {
      "cell_type": "code",
      "metadata": {
        "colab": {
          "base_uri": "https://localhost:8080/"
        },
        "id": "hpUVkb9eb4Gu",
        "outputId": "fb69db54-bc0d-4059-8597-86b79ead2577"
      },
      "source": [
        "print(f\"Count of Out of Vocabulary words: {len(list_of_oov_words)}\")"
      ],
      "execution_count": 94,
      "outputs": [
        {
          "output_type": "stream",
          "text": [
            "Count of Out of Vocabulary words: 8192\n"
          ],
          "name": "stdout"
        }
      ]
    },
    {
      "cell_type": "markdown",
      "metadata": {
        "id": "nOTT55Tkd011"
      },
      "source": [
        "### 2.2 Generating the POS Tags\n",
        "*Indicates the part-of-speech tag of the word*"
      ]
    },
    {
      "cell_type": "code",
      "metadata": {
        "id": "kH6vWCumd5BC"
      },
      "source": [
        "def get_pos_tags(doc: spacy.tokens.doc.Doc):\n",
        "  \"\"\"\n",
        "  returns a list of token's POS Tags\n",
        "  \"\"\"\n",
        "  # generator of pos tags for the sequence or word\n",
        "  tags = []\n",
        "  for token in doc:\n",
        "    tags.append(token.pos_)\n",
        "  return tags\n",
        "\n",
        "\n",
        "dict_of_pos_tags = {}\n",
        "def get_pos_tag2id(pos_tag: str):\n",
        "  \"\"\"\n",
        "  returns the id for the POS Tag from the universal dict of POS Tags\n",
        "  \"\"\"\n",
        "  id = dict_of_pos_tags.get(pos_tag, None)\n",
        "  if id is None:\n",
        "    # i.e, POS Tag is not in the dict\n",
        "    # Add the new POS Tag to the dict\n",
        "    new_id = len(dict_of_pos_tags) + 1\n",
        "    dict_of_pos_tags[pos_tag] = new_id\n",
        "    return new_id\n",
        "  else:\n",
        "    return id\n",
        "\n",
        "\n",
        "def get_pos_tag_ids(doc: spacy.tokens.doc.Doc):\n",
        "  \"\"\"\n",
        "  returns a list of token's POS Tags ID's\n",
        "  \"\"\"\n",
        "  tag_ids = []\n",
        "  for token in doc:\n",
        "    tag_ids.append(get_pos_tag2id(token.pos_))\n",
        "  return tag_ids"
      ],
      "execution_count": 63,
      "outputs": []
    },
    {
      "cell_type": "code",
      "metadata": {
        "id": "6jPoe6hmgkbx"
      },
      "source": [
        "list_of_phrases_pos_tags = [get_pos_tags(phrase) for phrase in list_of_phrases_spacy_tokens]\n",
        "list_of_phrases_pos_tag_ids = [get_pos_tag_ids(phrase) for phrase in list_of_phrases_spacy_tokens]"
      ],
      "execution_count": 64,
      "outputs": []
    },
    {
      "cell_type": "code",
      "metadata": {
        "id": "Rfcze-fTRyrF"
      },
      "source": [
        "sequenced_pos_tag_ids = pad_sequences(list_of_phrases_pos_tag_ids, padding='post', maxlen=phrase_max_length)"
      ],
      "execution_count": 67,
      "outputs": []
    },
    {
      "cell_type": "code",
      "metadata": {
        "colab": {
          "base_uri": "https://localhost:8080/"
        },
        "id": "jglrfwZ2rS8_",
        "outputId": "023597cd-c346-482d-b378-7da833a8a421"
      },
      "source": [
        "sequenced_pos_tag_ids.shape"
      ],
      "execution_count": 68,
      "outputs": [
        {
          "output_type": "execute_result",
          "data": {
            "text/plain": [
              "(239231, 267)"
            ]
          },
          "metadata": {
            "tags": []
          },
          "execution_count": 68
        }
      ]
    },
    {
      "cell_type": "markdown",
      "metadata": {
        "id": "85Jlv6cAjIYU"
      },
      "source": [
        "### 2.3 Generate the word shape\n",
        "*Indicates whether a word start with a captial letter?*"
      ]
    },
    {
      "cell_type": "code",
      "metadata": {
        "id": "o5WAdjskjVp7"
      },
      "source": [
        "def get_init_word_case_match(doc: spacy.tokens.doc.Doc):\n",
        "  \"\"\"\n",
        "  returns a list of token's initial case match indicator\n",
        "  indicators: 1 if the token begins with an UPPERCASE letter\n",
        "  indicators: 2 if the token begins with an lowercase letter\n",
        "  \"\"\"\n",
        "  init_word_case_match = []\n",
        "  for token in doc:\n",
        "    init_word_case_match.append(1 if token.text.istitle() else 2)\n",
        "  return init_word_case_match"
      ],
      "execution_count": 90,
      "outputs": []
    },
    {
      "cell_type": "code",
      "metadata": {
        "id": "_cnn9a2djvRv"
      },
      "source": [
        "list_of_phrases_init_word_case_match = [get_init_word_case_match(phrase) for phrase in list_of_phrases_spacy_tokens]"
      ],
      "execution_count": 91,
      "outputs": []
    },
    {
      "cell_type": "code",
      "metadata": {
        "id": "QZ-c9PxFZYR1"
      },
      "source": [
        "sequenced_word_case_match = pad_sequences(list_of_phrases_init_word_case_match, padding='post', maxlen=phrase_max_length)"
      ],
      "execution_count": 92,
      "outputs": []
    },
    {
      "cell_type": "markdown",
      "metadata": {
        "id": "fIdn0S901pQn"
      },
      "source": [
        "### 2.4 Generate the word end match sequence\n",
        "*Indicates whether a word end with an “ing” or with “ly” or neither?*"
      ]
    },
    {
      "cell_type": "code",
      "metadata": {
        "id": "WhuC-xGh18Cm"
      },
      "source": [
        "def indicate_word_ending(doc: spacy.tokens.doc.Doc):\n",
        "  \"\"\"\n",
        "  returns a list of token's word ending match inidicator\n",
        "  indicators: 1 if word ends with 'ing'\n",
        "  indicators: 2 if word ends with 'ly'\n",
        "  indicators: 3 if word ends with neither of previous two endings\n",
        "  \"\"\"\n",
        "  word_end_match = []\n",
        "  for token in doc:\n",
        "    if token.text.endswith('ly'):\n",
        "      word_end_match.append(1)\n",
        "    elif token.text.endswith('ing'):\n",
        "      word_end_match.append(2)\n",
        "    else:\n",
        "      word_end_match.append(3)\n",
        "  return word_end_match"
      ],
      "execution_count": 85,
      "outputs": []
    },
    {
      "cell_type": "code",
      "metadata": {
        "id": "a12j3btvdFwV"
      },
      "source": [
        "list_of_phrases_word_end_match = [indicate_word_ending(phrase_spacy_tokens) for phrase_spacy_tokens in list_of_phrases_spacy_tokens]"
      ],
      "execution_count": 87,
      "outputs": []
    },
    {
      "cell_type": "code",
      "metadata": {
        "id": "27QnLE4RZfle"
      },
      "source": [
        "sequenced_list_of_phrases_word_end_match = pad_sequences(list_of_phrases_word_end_match, padding='post', maxlen=phrase_max_length)"
      ],
      "execution_count": 88,
      "outputs": []
    },
    {
      "cell_type": "markdown",
      "metadata": {
        "id": "KmcnznIDsZ4q"
      },
      "source": [
        "## 3. Sentiment Analysis "
      ]
    },
    {
      "cell_type": "markdown",
      "metadata": {
        "id": "AEf3IYhceBxV"
      },
      "source": [
        "*splitting the dataset for training and testing*"
      ]
    },
    {
      "cell_type": "code",
      "metadata": {
        "id": "-Vl_5K88GkBl"
      },
      "source": [
        "X_train, X_test, X_POS_train, X_POS_test, X_word_case_train, X_word_case_test, X_lemma_train, X_lemma_test, y_train, y_test = train_test_split(\n",
        "    sequenced_dataset,\n",
        "    sequenced_pos_tag_ids,\n",
        "    sequenced_word_case_match,\n",
        "    sequenced_lemma_match,\n",
        "    dataset_sentiment_df['sentiment_class'],\n",
        "    test_size = 0.40,\n",
        "    random_state = 42\n",
        "    )\n",
        "\n",
        "y_train = to_categorical(y_train)\n",
        "y_test = to_categorical(y_test)"
      ],
      "execution_count": null,
      "outputs": []
    },
    {
      "cell_type": "markdown",
      "metadata": {
        "id": "f7swO-7ieKLK"
      },
      "source": [
        "*defining all the hyperparameters here*"
      ]
    },
    {
      "cell_type": "code",
      "metadata": {
        "id": "dUZBxCbwEtuM"
      },
      "source": [
        "# define hyperparams here\n",
        "vocab_size = num_words + 1\n",
        "embed_dim = 128\n",
        "lstm_neurons = 196\n",
        "output_classes_count = 5"
      ],
      "execution_count": null,
      "outputs": []
    },
    {
      "cell_type": "markdown",
      "metadata": {
        "id": "Y4LVqVRbePjx"
      },
      "source": [
        "*defining the model layers here*"
      ]
    },
    {
      "cell_type": "code",
      "metadata": {
        "colab": {
          "base_uri": "https://localhost:8080/"
        },
        "id": "lUyZqTDkDP1X",
        "outputId": "8c570a60-08ad-4796-fb2d-5622f2cb0b75"
      },
      "source": [
        "# input layer for encoded phrases\n",
        "input_1 = Input(shape=(phrase_max_length,))\n",
        "embedding_layer = Embedding(vocab_size, embed_dim)(input_1)\n",
        "lstm_layer_1 = LSTM(lstm_neurons)(embedding_layer)\n",
        "\n",
        "# input layer for pos tag id's of phrases\n",
        "input_2 = Input(shape=(phrase_max_length,))\n",
        "dense_layer_1 = Dense(10, activation='relu')(input_2)\n",
        "dense_layer_2 = Dense(10, activation='relu')(dense_layer_1)\n",
        "\n",
        "# input layer for phrase init word case match\n",
        "input_3 = Input(shape=(phrase_max_length,))\n",
        "dense_layer_3 = Dense(10, activation='relu')(input_3)\n",
        "dense_layer_4 = Dense(10, activation='relu')(dense_layer_3)\n",
        "\n",
        "# input layer for phrase lemma match\n",
        "input_4 = Input(shape=(phrase_max_length,))\n",
        "dense_layer_5 = Dense(10, activation='relu')(input_4)\n",
        "dense_layer_6 = Dense(10, activation='relu')(dense_layer_5)\n",
        "\n",
        "concat_layer = Concatenate()([lstm_layer_1, dense_layer_2, dense_layer_4, dense_layer_6])\n",
        "dense_layer_7 = Dense(10, activation='relu')(concat_layer) \n",
        "# [1, 2, 3, 4, 5, 6, 7, 8, 9, 0] -> set_representation([0, 1])\n",
        "output = Dense(output_classes_count, activation='softmax')(dense_layer_7)\n",
        "model = Model(inputs=[input_1, input_2, input_3, input_4], outputs=output)\n",
        "\n",
        "model.compile(loss='categorical_crossentropy', optimizer='adam', metrics=['accuracy'])\n",
        "print(model.summary())"
      ],
      "execution_count": null,
      "outputs": [
        {
          "output_type": "stream",
          "text": [
            "Model: \"functional_21\"\n",
            "__________________________________________________________________________________________________\n",
            "Layer (type)                    Output Shape         Param #     Connected to                     \n",
            "==================================================================================================\n",
            "input_16 (InputLayer)           [(None, 267)]        0                                            \n",
            "__________________________________________________________________________________________________\n",
            "input_17 (InputLayer)           [(None, 267)]        0                                            \n",
            "__________________________________________________________________________________________________\n",
            "input_18 (InputLayer)           [(None, 267)]        0                                            \n",
            "__________________________________________________________________________________________________\n",
            "input_19 (InputLayer)           [(None, 267)]        0                                            \n",
            "__________________________________________________________________________________________________\n",
            "embedding_13 (Embedding)        (None, 267, 128)     384128      input_16[0][0]                   \n",
            "__________________________________________________________________________________________________\n",
            "dense_16 (Dense)                (None, 10)           2680        input_17[0][0]                   \n",
            "__________________________________________________________________________________________________\n",
            "dense_18 (Dense)                (None, 10)           2680        input_18[0][0]                   \n",
            "__________________________________________________________________________________________________\n",
            "dense_20 (Dense)                (None, 10)           2680        input_19[0][0]                   \n",
            "__________________________________________________________________________________________________\n",
            "lstm_12 (LSTM)                  (None, 196)          254800      embedding_13[0][0]               \n",
            "__________________________________________________________________________________________________\n",
            "dense_17 (Dense)                (None, 10)           110         dense_16[0][0]                   \n",
            "__________________________________________________________________________________________________\n",
            "dense_19 (Dense)                (None, 10)           110         dense_18[0][0]                   \n",
            "__________________________________________________________________________________________________\n",
            "dense_21 (Dense)                (None, 10)           110         dense_20[0][0]                   \n",
            "__________________________________________________________________________________________________\n",
            "concatenate_1 (Concatenate)     (None, 226)          0           lstm_12[0][0]                    \n",
            "                                                                 dense_17[0][0]                   \n",
            "                                                                 dense_19[0][0]                   \n",
            "                                                                 dense_21[0][0]                   \n",
            "__________________________________________________________________________________________________\n",
            "dense_22 (Dense)                (None, 10)           2270        concatenate_1[0][0]              \n",
            "__________________________________________________________________________________________________\n",
            "dense_23 (Dense)                (None, 5)            55          dense_22[0][0]                   \n",
            "==================================================================================================\n",
            "Total params: 649,623\n",
            "Trainable params: 649,623\n",
            "Non-trainable params: 0\n",
            "__________________________________________________________________________________________________\n",
            "None\n"
          ],
          "name": "stdout"
        }
      ]
    },
    {
      "cell_type": "code",
      "metadata": {
        "colab": {
          "base_uri": "https://localhost:8080/",
          "height": 472
        },
        "id": "csw40THTYK7F",
        "outputId": "9d4660de-2dfb-4c12-f14b-b882e6a8c0f3"
      },
      "source": [
        "from keras.utils import plot_model\n",
        "plot_model(model, to_file='model_plot1.png', show_shapes=True, show_layer_names=True)"
      ],
      "execution_count": null,
      "outputs": [
        {
          "output_type": "execute_result",
          "data": {
            "image/png": "[encoded data removed]",
            "text/plain": [
              "<IPython.core.display.Image object>"
            ]
          },
          "metadata": {
            "tags": []
          },
          "execution_count": 136
        }
      ]
    },
    {
      "cell_type": "code",
      "metadata": {
        "colab": {
          "base_uri": "https://localhost:8080/"
        },
        "id": "kPwexYZyNZQ5",
        "outputId": "2868393d-59e4-4fa6-e8b3-2c8621144ee5"
      },
      "source": [
        "history = model.fit([X_train, X_POS_train, X_word_case_train, X_lemma_train], y_train, batch_size=128, epochs=10, verbose=1, validation_split=0.3)"
      ],
      "execution_count": null,
      "outputs": [
        {
          "output_type": "stream",
          "text": [
            "Epoch 1/10\n",
            "785/785 [==============================] - 38s 48ms/step - loss: 1.2519 - accuracy: 0.4994 - val_loss: 1.2354 - val_accuracy: 0.5043\n",
            "Epoch 2/10\n",
            "785/785 [==============================] - 37s 47ms/step - loss: 1.2341 - accuracy: 0.5009 - val_loss: 1.2285 - val_accuracy: 0.5047\n",
            "Epoch 3/10\n",
            "785/785 [==============================] - 37s 47ms/step - loss: 1.2297 - accuracy: 0.5015 - val_loss: 1.2282 - val_accuracy: 0.5049\n",
            "Epoch 4/10\n",
            "785/785 [==============================] - 37s 47ms/step - loss: 1.2268 - accuracy: 0.5016 - val_loss: 1.2247 - val_accuracy: 0.5061\n",
            "Epoch 5/10\n",
            "785/785 [==============================] - 37s 47ms/step - loss: 1.2253 - accuracy: 0.5006 - val_loss: 1.2224 - val_accuracy: 0.5067\n",
            "Epoch 6/10\n",
            "785/785 [==============================] - 37s 47ms/step - loss: 1.2231 - accuracy: 0.5022 - val_loss: 1.2233 - val_accuracy: 0.5073\n",
            "Epoch 7/10\n",
            "785/785 [==============================] - 37s 47ms/step - loss: 1.2216 - accuracy: 0.5021 - val_loss: 1.2207 - val_accuracy: 0.5056\n",
            "Epoch 8/10\n",
            "785/785 [==============================] - 37s 47ms/step - loss: 1.2203 - accuracy: 0.5027 - val_loss: 1.2190 - val_accuracy: 0.5057\n",
            "Epoch 9/10\n",
            "785/785 [==============================] - 37s 47ms/step - loss: 1.2190 - accuracy: 0.5031 - val_loss: 1.2200 - val_accuracy: 0.5054\n",
            "Epoch 10/10\n",
            "785/785 [==============================] - 37s 47ms/step - loss: 1.2186 - accuracy: 0.5034 - val_loss: 1.2174 - val_accuracy: 0.5051\n"
          ],
          "name": "stdout"
        }
      ]
    },
    {
      "cell_type": "markdown",
      "metadata": {
        "id": "RxpIvoVbe8L2"
      },
      "source": [
        "*with multiple features, accuracy amps up to* **50.34%** "
      ]
    },
    {
      "cell_type": "code",
      "metadata": {
        "colab": {
          "base_uri": "https://localhost:8080/"
        },
        "id": "e7lDGosEdTYg",
        "outputId": "3c5ae667-3ff1-4c1f-8e3b-b1e13ed6b03a"
      },
      "source": [
        "model.evaluate([X_test, X_POS_test, X_word_case_test, X_lemma_test], y_test)"
      ],
      "execution_count": null,
      "outputs": [
        {
          "output_type": "stream",
          "text": [
            "2991/2991 [==============================] - 24s 8ms/step - loss: 1.2155 - accuracy: 0.5053\n"
          ],
          "name": "stdout"
        },
        {
          "output_type": "execute_result",
          "data": {
            "text/plain": [
              "[1.2154918909072876, 0.5053138732910156]"
            ]
          },
          "metadata": {
            "tags": []
          },
          "execution_count": 142
        }
      ]
    },
    {
      "cell_type": "code",
      "metadata": {
        "colab": {
          "base_uri": "https://localhost:8080/",
          "height": 573
        },
        "id": "dV9_CRaJdfzy",
        "outputId": "ca59bc6b-00e5-468b-bae4-c223a7bba53b"
      },
      "source": [
        "plt.plot(history.history['accuracy'])\n",
        "plt.plot(history.history['val_accuracy'])\n",
        "\n",
        "plt.title('model accuracy')\n",
        "plt.ylabel('accuracy')\n",
        "plt.xlabel('epoch')\n",
        "plt.legend(['train','test'], loc='upper left')\n",
        "plt.show()\n",
        "\n",
        "plt.plot(history.history['loss'])\n",
        "plt.plot(history.history['val_loss'])\n",
        "\n",
        "plt.title('model loss')\n",
        "plt.ylabel('loss')\n",
        "plt.xlabel('epoch')\n",
        "plt.legend(['train','test'], loc='upper left')\n",
        "plt.show()"
      ],
      "execution_count": null,
      "outputs": [
        {
          "output_type": "display_data",
          "data": {
            "image/png": "[encoded data removed]",
            "text/plain": [
              "<Figure size 432x288 with 1 Axes>"
            ]
          },
          "metadata": {
            "tags": [],
            "needs_background": "light"
          }
        },
        {
          "output_type": "display_data",
          "data": {
            "image/png": "[encoded data removed]",
            "text/plain": [
              "<Figure size 432x288 with 1 Axes>"
            ]
          },
          "metadata": {
            "tags": [],
            "needs_background": "light"
          }
        }
      ]
    },
    {
      "cell_type": "markdown",
      "metadata": {
        "id": "86OYx0peeU2i"
      },
      "source": [
        "we observe that \n",
        "\n",
        "1.   the training accuracy reduces after epoch=6 at batch_size=128, however the loss keeps on decreasing\n",
        "2.   the accuracy can be improved with more hyperparameter tuning (ongoing experimentation with keras tuner can be found at this [link](https://github.com/cs145442/nlp-projects-with-tf2/blob/master/training_with_keras_tuner.ipynb))\n"
      ]
    },
    {
      "cell_type": "code",
      "metadata": {
        "id": "6V7CrcfLefdU"
      },
      "source": [
        ""
      ],
      "execution_count": null,
      "outputs": []
    }
  ]
}