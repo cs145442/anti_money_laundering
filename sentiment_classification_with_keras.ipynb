{
  "nbformat": 4,
  "nbformat_minor": 0,
  "metadata": {
    "colab": {
      "name": "sentiment-classification-with-keras.ipynb",
      "provenance": [],
      "authorship_tag": "ABX9TyMc3xcqFqvdd/+xX9W7myVt",
      "include_colab_link": true
    },
    "kernelspec": {
      "display_name": "Python 3",
      "name": "python3"
    },
    "accelerator": "GPU"
  },
  "cells": [
    {
      "cell_type": "markdown",
      "metadata": {
        "id": "view-in-github",
        "colab_type": "text"
      },
      "source": [
        "<a href=\"https://colab.research.google.com/github/cs145442/nlp-projects-with-tf2/blob/master/sentiment_classification_with_keras.ipynb\" target=\"_parent\"><img src=\"https://colab.research.google.com/assets/colab-badge.svg\" alt=\"Open In Colab\"/></a>"
      ]
    },
    {
      "cell_type": "markdown",
      "metadata": {
        "id": "owi6ILm8eKki"
      },
      "source": [
        "## 0. Handling the dependencies"
      ]
    },
    {
      "cell_type": "code",
      "metadata": {
        "colab": {
          "base_uri": "https://localhost:8080/"
        },
        "id": "2-S8KuQIIjrB",
        "outputId": "3ccb6068-a03c-4676-ac76-1a5256816447"
      },
      "source": [
        "# install all the dependencies here\n",
        "! pip install bert-for-tf2"
      ],
      "execution_count": 1,
      "outputs": [
        {
          "output_type": "stream",
          "text": [
            "Collecting bert-for-tf2\n",
            "\u001b[?25l  Downloading https://files.pythonhosted.org/packages/18/d3/820ccaf55f1e24b5dd43583ac0da6d86c2d27bbdfffadbba69bafe73ca93/bert-for-tf2-0.14.7.tar.gz (41kB)\n",
            "\r\u001b[K     |████████                        | 10kB 1.7MB/s eta 0:00:01\r\u001b[K     |████████████████                | 20kB 2.3MB/s eta 0:00:01\r\u001b[K     |███████████████████████▉        | 30kB 3.0MB/s eta 0:00:01\r\u001b[K     |███████████████████████████████▉| 40kB 3.7MB/s eta 0:00:01\r\u001b[K     |████████████████████████████████| 51kB 3.1MB/s \n",
            "\u001b[?25hCollecting py-params>=0.9.6\n",
            "  Downloading https://files.pythonhosted.org/packages/a4/bf/c1c70d5315a8677310ea10a41cfc41c5970d9b37c31f9c90d4ab98021fd1/py-params-0.9.7.tar.gz\n",
            "Collecting params-flow>=0.8.0\n",
            "  Downloading https://files.pythonhosted.org/packages/a9/95/ff49f5ebd501f142a6f0aaf42bcfd1c192dc54909d1d9eb84ab031d46056/params-flow-0.8.2.tar.gz\n",
            "Requirement already satisfied: numpy in /usr/local/lib/python3.6/dist-packages (from params-flow>=0.8.0->bert-for-tf2) (1.18.5)\n",
            "Requirement already satisfied: tqdm in /usr/local/lib/python3.6/dist-packages (from params-flow>=0.8.0->bert-for-tf2) (4.41.1)\n",
            "Building wheels for collected packages: bert-for-tf2, py-params, params-flow\n",
            "  Building wheel for bert-for-tf2 (setup.py) ... \u001b[?25l\u001b[?25hdone\n",
            "  Created wheel for bert-for-tf2: filename=bert_for_tf2-0.14.7-cp36-none-any.whl size=30539 sha256=b3b023176595ae509f33d22e00b8e7a7741c2faa6866dcd7f1657d7df764bab8\n",
            "  Stored in directory: /root/.cache/pip/wheels/e1/f8/e2/b98f79a6b8cc898d8e4102b83acb8a098df7d27500a2bac912\n",
            "  Building wheel for py-params (setup.py) ... \u001b[?25l\u001b[?25hdone\n",
            "  Created wheel for py-params: filename=py_params-0.9.7-cp36-none-any.whl size=7304 sha256=1eb96bd2296fbd0208830176df85026283bb40f94ae7f98bf672f608583b2e96\n",
            "  Stored in directory: /root/.cache/pip/wheels/67/f5/19/b461849a50aefdf4bab47c4756596e82ee2118b8278e5a1980\n",
            "  Building wheel for params-flow (setup.py) ... \u001b[?25l\u001b[?25hdone\n",
            "  Created wheel for params-flow: filename=params_flow-0.8.2-cp36-none-any.whl size=19475 sha256=fe69f50b0c8a1a214176168264c1808ff4babab095ff0309e5e71ed6ae85f4d3\n",
            "  Stored in directory: /root/.cache/pip/wheels/08/c8/7f/81c86b9ff2b86e2c477e3914175be03e679e596067dc630c06\n",
            "Successfully built bert-for-tf2 py-params params-flow\n",
            "Installing collected packages: py-params, params-flow, bert-for-tf2\n",
            "Successfully installed bert-for-tf2-0.14.7 params-flow-0.8.2 py-params-0.9.7\n"
          ],
          "name": "stdout"
        }
      ]
    },
    {
      "cell_type": "code",
      "metadata": {
        "id": "vM9xOwpSp7NF"
      },
      "source": [
        "# import all the dependencies here\n",
        "try:\n",
        "    %tensorflow_version 2.x\n",
        "except Exception:\n",
        "    pass\n",
        "import tensorflow as tf\n",
        "\n",
        "from tensorflow.keras import layers\n",
        "\n",
        "import tensorflow_hub as hub\n",
        "import pandas as pd\n",
        "import bert\n",
        "\n",
        "import math\n",
        "import random\n",
        "import spacy"
      ],
      "execution_count": 2,
      "outputs": []
    },
    {
      "cell_type": "code",
      "metadata": {
        "id": "wcu-osRXxO3K"
      },
      "source": [
        "from keras.preprocessing.text import Tokenizer\n",
        "from keras.preprocessing.sequence import pad_sequences\n",
        "\n",
        "from sklearn.model_selection import train_test_split\n",
        "from sklearn.preprocessing import LabelEncoder\n",
        "\n",
        "import os\n",
        "import numpy as np\n",
        "import keras\n",
        "from keras.models import Sequential\n",
        "from keras.layers import Dense\n",
        "from keras.layers import Flatten\n",
        "from keras.layers import LSTM\n",
        "from keras.layers.embeddings import Embedding\n",
        "from keras.layers import Bidirectional\n",
        "from keras.preprocessing import sequence\n",
        "from keras.layers import Dropout"
      ],
      "execution_count": 56,
      "outputs": []
    },
    {
      "cell_type": "code",
      "metadata": {
        "id": "-LyUaF7yF4vL"
      },
      "source": [
        "# second version of imports defined here\n",
        "from keras.layers import Input\n",
        "from keras.models import Model"
      ],
      "execution_count": 51,
      "outputs": []
    },
    {
      "cell_type": "markdown",
      "metadata": {
        "id": "QahPG6gO-cKK"
      },
      "source": [
        "## 1. Gathering the data"
      ]
    },
    {
      "cell_type": "markdown",
      "metadata": {
        "id": "WpRFTW9kd7vf"
      },
      "source": [
        "### 1.1 Getting the dataset"
      ]
    },
    {
      "cell_type": "code",
      "metadata": {
        "colab": {
          "base_uri": "https://localhost:8080/"
        },
        "id": "Na3cvAoVpdDZ",
        "outputId": "f5f15e17-f568-42c3-e4c6-b810d892b7e7"
      },
      "source": [
        "# add and unzip the dataset here\n",
        "! ls\n",
        "! wget http://nlp.stanford.edu/~socherr/stanfordSentimentTreebank.zip\n",
        "! unzip stanfordSentimentTreebank.zip"
      ],
      "execution_count": 4,
      "outputs": [
        {
          "output_type": "stream",
          "text": [
            "sample_data\n",
            "--2020-11-25 05:24:44--  http://nlp.stanford.edu/~socherr/stanfordSentimentTreebank.zip\n",
            "Resolving nlp.stanford.edu (nlp.stanford.edu)... 171.64.67.140\n",
            "Connecting to nlp.stanford.edu (nlp.stanford.edu)|171.64.67.140|:80... connected.\n",
            "HTTP request sent, awaiting response... 302 Found\n",
            "Location: https://nlp.stanford.edu/~socherr/stanfordSentimentTreebank.zip [following]\n",
            "--2020-11-25 05:24:44--  https://nlp.stanford.edu/~socherr/stanfordSentimentTreebank.zip\n",
            "Connecting to nlp.stanford.edu (nlp.stanford.edu)|171.64.67.140|:443... connected.\n",
            "HTTP request sent, awaiting response... 200 OK\n",
            "Length: 6372817 (6.1M) [application/zip]\n",
            "Saving to: ‘stanfordSentimentTreebank.zip’\n",
            "\n",
            "stanfordSentimentTr 100%[===================>]   6.08M  10.3MB/s    in 0.6s    \n",
            "\n",
            "2020-11-25 05:24:44 (10.3 MB/s) - ‘stanfordSentimentTreebank.zip’ saved [6372817/6372817]\n",
            "\n",
            "Archive:  stanfordSentimentTreebank.zip\n",
            "   creating: stanfordSentimentTreebank/\n",
            "  inflating: stanfordSentimentTreebank/datasetSentences.txt  \n",
            "   creating: __MACOSX/\n",
            "   creating: __MACOSX/stanfordSentimentTreebank/\n",
            "  inflating: __MACOSX/stanfordSentimentTreebank/._datasetSentences.txt  \n",
            "  inflating: stanfordSentimentTreebank/datasetSplit.txt  \n",
            "  inflating: __MACOSX/stanfordSentimentTreebank/._datasetSplit.txt  \n",
            "  inflating: stanfordSentimentTreebank/dictionary.txt  \n",
            "  inflating: __MACOSX/stanfordSentimentTreebank/._dictionary.txt  \n",
            "  inflating: stanfordSentimentTreebank/original_rt_snippets.txt  \n",
            "  inflating: __MACOSX/stanfordSentimentTreebank/._original_rt_snippets.txt  \n",
            "  inflating: stanfordSentimentTreebank/README.txt  \n",
            "  inflating: __MACOSX/stanfordSentimentTreebank/._README.txt  \n",
            "  inflating: stanfordSentimentTreebank/sentiment_labels.txt  \n",
            "  inflating: __MACOSX/stanfordSentimentTreebank/._sentiment_labels.txt  \n",
            "  inflating: stanfordSentimentTreebank/SOStr.txt  \n",
            "  inflating: stanfordSentimentTreebank/STree.txt  \n"
          ],
          "name": "stdout"
        }
      ]
    },
    {
      "cell_type": "code",
      "metadata": {
        "colab": {
          "base_uri": "https://localhost:8080/"
        },
        "id": "6BHmfyEqqGm2",
        "outputId": "76a91659-274a-4622-c37c-c9f7d6e31cb6"
      },
      "source": [
        "! cat stanfordSentimentTreebank/README.txt"
      ],
      "execution_count": 5,
      "outputs": [
        {
          "output_type": "stream",
          "text": [
            "Stanford Sentiment Treebank V1.0\n",
            "\n",
            "This is the dataset of the paper:\n",
            "\n",
            "Recursive Deep Models for Semantic Compositionality Over a Sentiment Treebank\n",
            "Richard Socher, Alex Perelygin, Jean Wu, Jason Chuang, Christopher Manning, Andrew Ng and Christopher Potts\n",
            "Conference on Empirical Methods in Natural Language Processing (EMNLP 2013)\n",
            "\n",
            "If you use this dataset in your research, please cite the above paper.\n",
            "\n",
            "@incollection{SocherEtAl2013:RNTN,\n",
            "title = {{Parsing With Compositional Vector Grammars}},\n",
            "author = {Richard Socher and Alex Perelygin and Jean Wu and Jason Chuang and Christopher Manning and Andrew Ng and Christopher Potts},\n",
            "booktitle = {{EMNLP}},\n",
            "year = {2013}\n",
            "}\n",
            "\n",
            "This file includes:\n",
            "1. original_rt_snippets.txt contains 10,605 processed snippets from the original pool of Rotten Tomatoes HTML files. Please note that some snippet may contain multiple sentences.\n",
            "\n",
            "2. dictionary.txt contains all phrases and their IDs, separated by a vertical line |\n",
            "\n",
            "3. sentiment_labels.txt contains all phrase ids and the corresponding sentiment labels, separated by a vertical line.\n",
            "Note that you can recover the 5 classes by mapping the positivity probability using the following cut-offs:\n",
            "[0, 0.2], (0.2, 0.4], (0.4, 0.6], (0.6, 0.8], (0.8, 1.0]\n",
            "for very negative, negative, neutral, positive, very positive, respectively.\n",
            "Please note that phrase ids and sentence ids are not the same.\n",
            "\n",
            "4. SOStr.txt and STree.txt encode the structure of the parse trees. \n",
            "STree encodes the trees in a parent pointer format. Each line corresponds to each sentence in the datasetSentences.txt file. The Matlab code of this paper will show you how to read this format if you are not familiar with it.\n",
            "\n",
            "5. datasetSentences.txt contains the sentence index, followed by the sentence string separated by a tab. These are the sentences of the train/dev/test sets.\n",
            "\n",
            "6. datasetSplit.txt contains the sentence index (corresponding to the index in datasetSentences.txt file) followed by the set label separated by a comma:\n",
            "\t1 = train\n",
            "\t2 = test\n",
            "\t3 = dev\n",
            "\n",
            "Please note that the datasetSentences.txt file has more sentences/lines than the original_rt_snippet.txt. \n",
            "Each row in the latter represents a snippet as shown on RT, whereas the former is each sub sentence as determined by the Stanford parser.\n",
            "\n",
            "For comparing research and training models, please use the provided train/dev/test splits.\n",
            "\n"
          ],
          "name": "stdout"
        }
      ]
    },
    {
      "cell_type": "markdown",
      "metadata": {
        "id": "6LsMeNbfeVcX"
      },
      "source": [
        "### 1.2 Exploring the dataset"
      ]
    },
    {
      "cell_type": "code",
      "metadata": {
        "colab": {
          "base_uri": "https://localhost:8080/"
        },
        "id": "PSYcsx_dqLRE",
        "outputId": "80da4c63-7fd0-4510-eafa-57fc6808ee47"
      },
      "source": [
        "# take a peek at the dataset format\n",
        "! echo \"----- contents of the treebank -------------------\"\n",
        "! ls stanfordSentimentTreebank\n",
        "! echo \"----- first 5 lines of dictionary.txt ------------\"\n",
        "! tail -n 5 stanfordSentimentTreebank/dictionary.txt\n",
        "! echo \"----- first 5 lines of sentiment_labels.txt ------\"\n",
        "! tail -n 5 stanfordSentimentTreebank/sentiment_labels.txt"
      ],
      "execution_count": 6,
      "outputs": [
        {
          "output_type": "stream",
          "text": [
            "----- contents of the treebank -------------------\n",
            "datasetSentences.txt  dictionary.txt\t\tREADME.txt\t      SOStr.txt\n",
            "datasetSplit.txt      original_rt_snippets.txt\tsentiment_labels.txt  STree.txt\n",
            "----- first 5 lines of dictionary.txt ------------\n",
            "zoning ordinances to protect your community from the dullest science fiction|220441\n",
            "zzzzzzzzz|179256\n",
            "élan|220442\n",
            "É|220443\n",
            "É um passatempo descompromissado|220444\n",
            "----- first 5 lines of sentiment_labels.txt ------\n",
            "239227|0.36111\n",
            "239228|0.38889\n",
            "239229|0.33333\n",
            "239230|0.88889\n",
            "239231|0.5\n"
          ],
          "name": "stdout"
        }
      ]
    },
    {
      "cell_type": "code",
      "metadata": {
        "colab": {
          "base_uri": "https://localhost:8080/",
          "height": 204
        },
        "id": "z-Nle8lFwEJL",
        "outputId": "2ed26c91-2dcf-4f85-f174-318c9510c5f0"
      },
      "source": [
        "# reading the dataset\n",
        "dataset_df = pd.read_csv('stanfordSentimentTreebank/dictionary.txt', sep='\\n')\n",
        "dataset_df.head()"
      ],
      "execution_count": 7,
      "outputs": [
        {
          "output_type": "execute_result",
          "data": {
            "text/html": [
              "<div>\n",
              "<style scoped>\n",
              "    .dataframe tbody tr th:only-of-type {\n",
              "        vertical-align: middle;\n",
              "    }\n",
              "\n",
              "    .dataframe tbody tr th {\n",
              "        vertical-align: top;\n",
              "    }\n",
              "\n",
              "    .dataframe thead th {\n",
              "        text-align: right;\n",
              "    }\n",
              "</style>\n",
              "<table border=\"1\" class=\"dataframe\">\n",
              "  <thead>\n",
              "    <tr style=\"text-align: right;\">\n",
              "      <th></th>\n",
              "      <th>!|0</th>\n",
              "    </tr>\n",
              "  </thead>\n",
              "  <tbody>\n",
              "    <tr>\n",
              "      <th>0</th>\n",
              "      <td>! '|22935</td>\n",
              "    </tr>\n",
              "    <tr>\n",
              "      <th>1</th>\n",
              "      <td>! ''|18235</td>\n",
              "    </tr>\n",
              "    <tr>\n",
              "      <th>2</th>\n",
              "      <td>! Alas|179257</td>\n",
              "    </tr>\n",
              "    <tr>\n",
              "      <th>3</th>\n",
              "      <td>! Brilliant|22936</td>\n",
              "    </tr>\n",
              "    <tr>\n",
              "      <th>4</th>\n",
              "      <td>! Brilliant !|40532</td>\n",
              "    </tr>\n",
              "  </tbody>\n",
              "</table>\n",
              "</div>"
            ],
            "text/plain": [
              "                   !|0\n",
              "0            ! '|22935\n",
              "1           ! ''|18235\n",
              "2        ! Alas|179257\n",
              "3    ! Brilliant|22936\n",
              "4  ! Brilliant !|40532"
            ]
          },
          "metadata": {
            "tags": []
          },
          "execution_count": 7
        }
      ]
    },
    {
      "cell_type": "code",
      "metadata": {
        "id": "DnLK9Th-xevI"
      },
      "source": [
        "# formatting the dataframe for processing\n",
        "dataset_df['phrase_text'] = dataset_df['!|0'].apply(lambda x: x.split('|')[0])\n",
        "dataset_df['phrase_ids'] = dataset_df['!|0'].apply(lambda x: x.split('|')[1])\n",
        "dataset_df = dataset_df.drop('!|0', axis=1)"
      ],
      "execution_count": 8,
      "outputs": []
    },
    {
      "cell_type": "code",
      "metadata": {
        "colab": {
          "base_uri": "https://localhost:8080/",
          "height": 204
        },
        "id": "qcmS89OHxpMT",
        "outputId": "013f63bb-8036-4b78-e7a3-271c89ef734c"
      },
      "source": [
        "# take a peek at the dataframe\n",
        "dataset_df.tail()"
      ],
      "execution_count": 9,
      "outputs": [
        {
          "output_type": "execute_result",
          "data": {
            "text/html": [
              "<div>\n",
              "<style scoped>\n",
              "    .dataframe tbody tr th:only-of-type {\n",
              "        vertical-align: middle;\n",
              "    }\n",
              "\n",
              "    .dataframe tbody tr th {\n",
              "        vertical-align: top;\n",
              "    }\n",
              "\n",
              "    .dataframe thead th {\n",
              "        text-align: right;\n",
              "    }\n",
              "</style>\n",
              "<table border=\"1\" class=\"dataframe\">\n",
              "  <thead>\n",
              "    <tr style=\"text-align: right;\">\n",
              "      <th></th>\n",
              "      <th>phrase_text</th>\n",
              "      <th>phrase_ids</th>\n",
              "    </tr>\n",
              "  </thead>\n",
              "  <tbody>\n",
              "    <tr>\n",
              "      <th>239226</th>\n",
              "      <td>zoning ordinances to protect your community fr...</td>\n",
              "      <td>220441</td>\n",
              "    </tr>\n",
              "    <tr>\n",
              "      <th>239227</th>\n",
              "      <td>zzzzzzzzz</td>\n",
              "      <td>179256</td>\n",
              "    </tr>\n",
              "    <tr>\n",
              "      <th>239228</th>\n",
              "      <td>élan</td>\n",
              "      <td>220442</td>\n",
              "    </tr>\n",
              "    <tr>\n",
              "      <th>239229</th>\n",
              "      <td>É</td>\n",
              "      <td>220443</td>\n",
              "    </tr>\n",
              "    <tr>\n",
              "      <th>239230</th>\n",
              "      <td>É um passatempo descompromissado</td>\n",
              "      <td>220444</td>\n",
              "    </tr>\n",
              "  </tbody>\n",
              "</table>\n",
              "</div>"
            ],
            "text/plain": [
              "                                              phrase_text phrase_ids\n",
              "239226  zoning ordinances to protect your community fr...     220441\n",
              "239227                                          zzzzzzzzz     179256\n",
              "239228                                               élan     220442\n",
              "239229                                                  É     220443\n",
              "239230                   É um passatempo descompromissado     220444"
            ]
          },
          "metadata": {
            "tags": []
          },
          "execution_count": 9
        }
      ]
    },
    {
      "cell_type": "code",
      "metadata": {
        "colab": {
          "base_uri": "https://localhost:8080/",
          "height": 204
        },
        "id": "QgfEREDoycbU",
        "outputId": "a0d6099b-62b5-4dd6-f4cd-f013db530cbc"
      },
      "source": [
        "# reading the sentiment data\n",
        "sentiment_df = pd.read_csv('stanfordSentimentTreebank/sentiment_labels.txt', sep='\\n')\n",
        "sentiment_df.head()"
      ],
      "execution_count": 10,
      "outputs": [
        {
          "output_type": "execute_result",
          "data": {
            "text/html": [
              "<div>\n",
              "<style scoped>\n",
              "    .dataframe tbody tr th:only-of-type {\n",
              "        vertical-align: middle;\n",
              "    }\n",
              "\n",
              "    .dataframe tbody tr th {\n",
              "        vertical-align: top;\n",
              "    }\n",
              "\n",
              "    .dataframe thead th {\n",
              "        text-align: right;\n",
              "    }\n",
              "</style>\n",
              "<table border=\"1\" class=\"dataframe\">\n",
              "  <thead>\n",
              "    <tr style=\"text-align: right;\">\n",
              "      <th></th>\n",
              "      <th>phrase ids|sentiment values</th>\n",
              "    </tr>\n",
              "  </thead>\n",
              "  <tbody>\n",
              "    <tr>\n",
              "      <th>0</th>\n",
              "      <td>0|0.5</td>\n",
              "    </tr>\n",
              "    <tr>\n",
              "      <th>1</th>\n",
              "      <td>1|0.5</td>\n",
              "    </tr>\n",
              "    <tr>\n",
              "      <th>2</th>\n",
              "      <td>2|0.44444</td>\n",
              "    </tr>\n",
              "    <tr>\n",
              "      <th>3</th>\n",
              "      <td>3|0.5</td>\n",
              "    </tr>\n",
              "    <tr>\n",
              "      <th>4</th>\n",
              "      <td>4|0.42708</td>\n",
              "    </tr>\n",
              "  </tbody>\n",
              "</table>\n",
              "</div>"
            ],
            "text/plain": [
              "  phrase ids|sentiment values\n",
              "0                       0|0.5\n",
              "1                       1|0.5\n",
              "2                   2|0.44444\n",
              "3                       3|0.5\n",
              "4                   4|0.42708"
            ]
          },
          "metadata": {
            "tags": []
          },
          "execution_count": 10
        }
      ]
    },
    {
      "cell_type": "markdown",
      "metadata": {
        "id": "zamwPn3SefZ4"
      },
      "source": [
        "### 1.3 Formatting the dataset"
      ]
    },
    {
      "cell_type": "code",
      "metadata": {
        "id": "mnxTPYOC4_FJ"
      },
      "source": [
        "# formatting the sentiment dataframe for processing\n",
        "sentiment_df['phrase_ids'] = sentiment_df['phrase ids|sentiment values'].apply(lambda x: x.split('|')[0])\n",
        "sentiment_df['sentiment_values'] = sentiment_df['phrase ids|sentiment values'].apply(lambda x: x.split('|')[1])\n",
        "sentiment_df = sentiment_df.drop('phrase ids|sentiment values', axis=1)"
      ],
      "execution_count": 11,
      "outputs": []
    },
    {
      "cell_type": "code",
      "metadata": {
        "colab": {
          "base_uri": "https://localhost:8080/",
          "height": 204
        },
        "id": "9Ag4UWqo5P-T",
        "outputId": "8b8fbc06-70dc-4137-caf9-0ad624826617"
      },
      "source": [
        "sentiment_df.head()"
      ],
      "execution_count": 12,
      "outputs": [
        {
          "output_type": "execute_result",
          "data": {
            "text/html": [
              "<div>\n",
              "<style scoped>\n",
              "    .dataframe tbody tr th:only-of-type {\n",
              "        vertical-align: middle;\n",
              "    }\n",
              "\n",
              "    .dataframe tbody tr th {\n",
              "        vertical-align: top;\n",
              "    }\n",
              "\n",
              "    .dataframe thead th {\n",
              "        text-align: right;\n",
              "    }\n",
              "</style>\n",
              "<table border=\"1\" class=\"dataframe\">\n",
              "  <thead>\n",
              "    <tr style=\"text-align: right;\">\n",
              "      <th></th>\n",
              "      <th>phrase_ids</th>\n",
              "      <th>sentiment_values</th>\n",
              "    </tr>\n",
              "  </thead>\n",
              "  <tbody>\n",
              "    <tr>\n",
              "      <th>0</th>\n",
              "      <td>0</td>\n",
              "      <td>0.5</td>\n",
              "    </tr>\n",
              "    <tr>\n",
              "      <th>1</th>\n",
              "      <td>1</td>\n",
              "      <td>0.5</td>\n",
              "    </tr>\n",
              "    <tr>\n",
              "      <th>2</th>\n",
              "      <td>2</td>\n",
              "      <td>0.44444</td>\n",
              "    </tr>\n",
              "    <tr>\n",
              "      <th>3</th>\n",
              "      <td>3</td>\n",
              "      <td>0.5</td>\n",
              "    </tr>\n",
              "    <tr>\n",
              "      <th>4</th>\n",
              "      <td>4</td>\n",
              "      <td>0.42708</td>\n",
              "    </tr>\n",
              "  </tbody>\n",
              "</table>\n",
              "</div>"
            ],
            "text/plain": [
              "  phrase_ids sentiment_values\n",
              "0          0              0.5\n",
              "1          1              0.5\n",
              "2          2          0.44444\n",
              "3          3              0.5\n",
              "4          4          0.42708"
            ]
          },
          "metadata": {
            "tags": []
          },
          "execution_count": 12
        }
      ]
    },
    {
      "cell_type": "code",
      "metadata": {
        "colab": {
          "base_uri": "https://localhost:8080/"
        },
        "id": "jr4PqXS45lqL",
        "outputId": "84247c1c-820c-4194-cd9b-e15e5255a88b"
      },
      "source": [
        "# let's merge the phrases and sentiments\n",
        "dataset_sentiment_df = pd.merge(left=dataset_df, right=sentiment_df, how='inner', on='phrase_ids')\n",
        "# let's also validate the number of datapoints\n",
        "print(f\"dataset df shape: {dataset_df.shape}\")\n",
        "print(f\"sentiment df shape: {sentiment_df.shape}\")\n",
        "print(f\"dataset_sentiment df shape: {dataset_sentiment_df.shape}\")"
      ],
      "execution_count": 13,
      "outputs": [
        {
          "output_type": "stream",
          "text": [
            "dataset df shape: (239231, 2)\n",
            "sentiment df shape: (239232, 2)\n",
            "dataset_sentiment df shape: (239231, 3)\n"
          ],
          "name": "stdout"
        }
      ]
    },
    {
      "cell_type": "markdown",
      "metadata": {
        "id": "1BBvdrf58jIS"
      },
      "source": [
        "*seems good. we missed one datapoint while merging, that's okay for now.*"
      ]
    },
    {
      "cell_type": "code",
      "metadata": {
        "id": "KryruhdYUr5y"
      },
      "source": [
        "def recover_sentiment_class(sentiment_value: float):\n",
        "  \"\"\"\n",
        "  recovering classes from sentiment_values\n",
        "  [very negative, negative, neutral, positive, very positive]\n",
        "  [0, 0.2], (0.2, 0.4], (0.4, 0.6], (0.6, 0.8], (0.8, 1.0]\n",
        "  [1, 2, 3, 4, 5]\n",
        "  respectively\n",
        "  :params:\n",
        "    sentiment_value: floating value of sentiment\n",
        "  \"\"\"\n",
        "  if sentiment_value <= 0.2:\n",
        "    return 0\n",
        "  elif sentiment_value <= 0.4:\n",
        "    return 1\n",
        "  elif sentiment_value <= 0.6:\n",
        "    return 2\n",
        "  elif sentiment_value <= 0.8:\n",
        "    return 3\n",
        "  else:\n",
        "    return 4"
      ],
      "execution_count": 97,
      "outputs": []
    },
    {
      "cell_type": "code",
      "metadata": {
        "id": "P_SD0R93U51s"
      },
      "source": [
        "dataset_sentiment_df['sentiment_class'] = dataset_sentiment_df['sentiment_values'].apply(\n",
        "    lambda x: recover_sentiment_class(float(x)))"
      ],
      "execution_count": 98,
      "outputs": []
    },
    {
      "cell_type": "code",
      "metadata": {
        "colab": {
          "base_uri": "https://localhost:8080/",
          "height": 204
        },
        "id": "CmU5J0sefMJz",
        "outputId": "3c1e97f4-44a8-41dc-d843-4e775526ddaf"
      },
      "source": [
        "dataset_sentiment_df.tail()"
      ],
      "execution_count": 99,
      "outputs": [
        {
          "output_type": "execute_result",
          "data": {
            "text/html": [
              "<div>\n",
              "<style scoped>\n",
              "    .dataframe tbody tr th:only-of-type {\n",
              "        vertical-align: middle;\n",
              "    }\n",
              "\n",
              "    .dataframe tbody tr th {\n",
              "        vertical-align: top;\n",
              "    }\n",
              "\n",
              "    .dataframe thead th {\n",
              "        text-align: right;\n",
              "    }\n",
              "</style>\n",
              "<table border=\"1\" class=\"dataframe\">\n",
              "  <thead>\n",
              "    <tr style=\"text-align: right;\">\n",
              "      <th></th>\n",
              "      <th>phrase_text</th>\n",
              "      <th>phrase_ids</th>\n",
              "      <th>sentiment_values</th>\n",
              "      <th>sentiment_class</th>\n",
              "    </tr>\n",
              "  </thead>\n",
              "  <tbody>\n",
              "    <tr>\n",
              "      <th>239226</th>\n",
              "      <td>zoning ordinances to protect your community fr...</td>\n",
              "      <td>220441</td>\n",
              "      <td>0.13889</td>\n",
              "      <td>0</td>\n",
              "    </tr>\n",
              "    <tr>\n",
              "      <th>239227</th>\n",
              "      <td>zzzzzzzzz</td>\n",
              "      <td>179256</td>\n",
              "      <td>0.19444</td>\n",
              "      <td>0</td>\n",
              "    </tr>\n",
              "    <tr>\n",
              "      <th>239228</th>\n",
              "      <td>élan</td>\n",
              "      <td>220442</td>\n",
              "      <td>0.51389</td>\n",
              "      <td>2</td>\n",
              "    </tr>\n",
              "    <tr>\n",
              "      <th>239229</th>\n",
              "      <td>É</td>\n",
              "      <td>220443</td>\n",
              "      <td>0.5</td>\n",
              "      <td>2</td>\n",
              "    </tr>\n",
              "    <tr>\n",
              "      <th>239230</th>\n",
              "      <td>É um passatempo descompromissado</td>\n",
              "      <td>220444</td>\n",
              "      <td>0.5</td>\n",
              "      <td>2</td>\n",
              "    </tr>\n",
              "  </tbody>\n",
              "</table>\n",
              "</div>"
            ],
            "text/plain": [
              "                                              phrase_text  ... sentiment_class\n",
              "239226  zoning ordinances to protect your community fr...  ...               0\n",
              "239227                                          zzzzzzzzz  ...               0\n",
              "239228                                               élan  ...               2\n",
              "239229                                                  É  ...               2\n",
              "239230                   É um passatempo descompromissado  ...               2\n",
              "\n",
              "[5 rows x 4 columns]"
            ]
          },
          "metadata": {
            "tags": []
          },
          "execution_count": 99
        }
      ]
    },
    {
      "cell_type": "markdown",
      "metadata": {
        "id": "QoMMQF2c-mK2"
      },
      "source": [
        "## 2. Generate Input Features"
      ]
    },
    {
      "cell_type": "markdown",
      "metadata": {
        "id": "7-ebOUBRdkFo"
      },
      "source": [
        "### 2.1 Generating the word vectors With Keras Tokenizer"
      ]
    },
    {
      "cell_type": "code",
      "metadata": {
        "colab": {
          "base_uri": "https://localhost:8080/"
        },
        "id": "D6z2VqjKAH6Q",
        "outputId": "2f86d82f-2eb2-48ab-95c6-110fdf1138d4"
      },
      "source": [
        "phrase_max_length = len(max(list(dataset_df['phrase_text']), key=len))\n",
        "print(f\"phrase_max_length: {phrase_max_length}\")"
      ],
      "execution_count": 38,
      "outputs": [
        {
          "output_type": "stream",
          "text": [
            "phrase_max_length: 267\n"
          ],
          "name": "stdout"
        }
      ]
    },
    {
      "cell_type": "markdown",
      "metadata": {
        "id": "hyqH3kFBBcWO"
      },
      "source": [
        "*we've a phrase with max length of 267 characters*"
      ]
    },
    {
      "cell_type": "code",
      "metadata": {
        "id": "pJSHxvGExJ9f"
      },
      "source": [
        "num_words = 3000\n",
        "keras_tokenizer = Tokenizer(num_words=num_words, split=' ')\n",
        "keras_tokenizer.fit_on_texts(dataset_sentiment_df['phrase_text'].values)\n",
        "sequenced_dataset = keras_tokenizer.texts_to_sequences(dataset_sentiment_df['phrase_text'])\n",
        "sequenced_dataset = pad_sequences(sequenced_dataset, padding='post', maxlen=phrase_max_length)"
      ],
      "execution_count": 44,
      "outputs": []
    },
    {
      "cell_type": "markdown",
      "metadata": {
        "id": "nOTT55Tkd011"
      },
      "source": [
        "### 2.2 Generating the POS Tags\n",
        "*Indicates the part-of-speech tag of the word*"
      ]
    },
    {
      "cell_type": "code",
      "metadata": {
        "id": "RmJ2lxqNqu81"
      },
      "source": [
        "# load the spacy model\n",
        "spacy_nlp_model = spacy.load(\"en_core_web_sm\")"
      ],
      "execution_count": 18,
      "outputs": []
    },
    {
      "cell_type": "code",
      "metadata": {
        "id": "QxleU0jG38T0"
      },
      "source": [
        "list_of_phrases = list(dataset_sentiment_df['phrase_text'])"
      ],
      "execution_count": 22,
      "outputs": []
    },
    {
      "cell_type": "code",
      "metadata": {
        "id": "CvkECt_LnREz"
      },
      "source": [
        "# let's create the spacy token objects of all the sequences\n",
        "list_of_phrases_spacy_docs = [spacy_nlp_model(phrase) for phrase in list_of_phrases]"
      ],
      "execution_count": 24,
      "outputs": []
    },
    {
      "cell_type": "code",
      "metadata": {
        "id": "kH6vWCumd5BC"
      },
      "source": [
        "def get_pos_tags(doc: spacy.tokens.doc.Doc):\n",
        "  \"\"\"\n",
        "  returns a list of token's POS Tags\n",
        "  \"\"\"\n",
        "  # generator of pos tags for the sequence or word\n",
        "  tags = []\n",
        "  for token in doc:\n",
        "    tags.append(token.pos_)\n",
        "  return tags\n",
        "\n",
        "\n",
        "dict_of_pos_tags = {}\n",
        "def get_pos_tag2id(pos_tag: str):\n",
        "  \"\"\"\n",
        "  returns the id for the POS Tag from the universal dict of POS Tags\n",
        "  \"\"\"\n",
        "  id = dict_of_pos_tags.get(pos_tag, None)\n",
        "  if id is None:\n",
        "    # i.e, POS Tag is not in the dict\n",
        "    # Add the new POS Tag to the dict\n",
        "    new_id = len(dict_of_pos_tags) + 1\n",
        "    dict_of_pos_tags[pos_tag] = new_id\n",
        "    return new_id\n",
        "  else:\n",
        "    return id\n",
        "\n",
        "\n",
        "def get_pos_tag_ids(doc: spacy.tokens.doc.Doc):\n",
        "  \"\"\"\n",
        "  returns a list of token's POS Tags ID's\n",
        "  \"\"\"\n",
        "  tag_ids = []\n",
        "  for token in doc:\n",
        "    tag_ids.append(get_pos_tag2id(token.pos_))\n",
        "  return tag_ids"
      ],
      "execution_count": 25,
      "outputs": []
    },
    {
      "cell_type": "code",
      "metadata": {
        "id": "6jPoe6hmgkbx"
      },
      "source": [
        "list_of_phrases_pos_tags = [get_pos_tags(phrase) for phrase in list_of_phrases_spacy_docs]\n",
        "list_of_phrases_pos_tag_ids = [get_pos_tag_ids(phrase) for phrase in list_of_phrases_spacy_docs]"
      ],
      "execution_count": 26,
      "outputs": []
    },
    {
      "cell_type": "markdown",
      "metadata": {
        "id": "85Jlv6cAjIYU"
      },
      "source": [
        "### 2.3 Generate the word shape\n",
        "*Indicates whether a word start with a captial letter?*"
      ]
    },
    {
      "cell_type": "code",
      "metadata": {
        "id": "o5WAdjskjVp7"
      },
      "source": [
        "def get_word_shape(doc: spacy.tokens.doc.Doc):\n",
        "  \"\"\"\n",
        "  returns a list of token's shape\n",
        "  \"\"\"\n",
        "  shapes = []\n",
        "  for token in doc:\n",
        "    shapes.append(token.shape_)\n",
        "  return shapes\n",
        "\n",
        "def get_init_word_case_match(doc: spacy.tokens.doc.Doc):\n",
        "  \"\"\"\n",
        "  returns a list of token's initial case match indicator\n",
        "  indicators: 1 if the token begins with an UPPERCASE letter\n",
        "  indicators: 2 if the token begins with an lowercase letter\n",
        "  \"\"\"\n",
        "  init_word_case_match = []\n",
        "  for token in doc:\n",
        "    init_word_case_match.append(1 if token.text.istitle() else 2)\n",
        "  return init_word_case_match"
      ],
      "execution_count": 27,
      "outputs": []
    },
    {
      "cell_type": "code",
      "metadata": {
        "id": "_cnn9a2djvRv"
      },
      "source": [
        "# list_of_phrases_word_shape\n",
        "list_of_phrases_word_shape = [get_word_shape(phrase) for phrase in list_of_phrases_spacy_docs]\n",
        "list_of_phrases_init_word_case_match = [get_init_word_case_match(phrase) for phrase in list_of_phrases_spacy_docs]"
      ],
      "execution_count": 28,
      "outputs": []
    },
    {
      "cell_type": "markdown",
      "metadata": {
        "id": "fIdn0S901pQn"
      },
      "source": [
        "### 2.4 Generate the lemmatized word sequence\n",
        "*Indicates whether a word end with an “ing” or with “ly” or neither?*"
      ]
    },
    {
      "cell_type": "code",
      "metadata": {
        "id": "WhuC-xGh18Cm"
      },
      "source": [
        "def get_word_lemma(doc: spacy.tokens.doc.Doc):\n",
        "  \"\"\"\n",
        "  returns a list of token's lemma\n",
        "  \"\"\"\n",
        "  lemmas = []\n",
        "  for token in doc:\n",
        "    lemmas.append(token.lemma_)\n",
        "  return lemmas\n",
        "\n",
        "def get_word_lemma_match(doc: spacy.tokens.doc.Doc):\n",
        "  \"\"\"\n",
        "  returns a list of token's lemma match indicator\n",
        "  indicators: 1 if there's a match of token with it's lemma\n",
        "  indicators: 2 if there's not a match of token with it's lemma\n",
        "  \"\"\"\n",
        "  lemma_match = []\n",
        "  for token in doc:\n",
        "    if token.text == token.lemma_:\n",
        "      lemma_match.append(1)\n",
        "    else:\n",
        "      lemma_match.append(2)\n",
        "  return lemma_match"
      ],
      "execution_count": 29,
      "outputs": []
    },
    {
      "cell_type": "code",
      "metadata": {
        "id": "qPZXOBas232c"
      },
      "source": [
        "list_of_phrases_lemma = [get_word_lemma(phrase) for phrase in list_of_phrases_spacy_docs]\n",
        "list_of_phrases_lemma_match = [get_word_lemma_match(phrase) for phrase in list_of_phrases_spacy_docs]"
      ],
      "execution_count": 30,
      "outputs": []
    },
    {
      "cell_type": "markdown",
      "metadata": {
        "id": "KmcnznIDsZ4q"
      },
      "source": [
        "## 3. Sentiment Analysis \n",
        "#### without multiple input features"
      ]
    },
    {
      "cell_type": "markdown",
      "metadata": {
        "id": "3Nn4kTjTyCD3"
      },
      "source": [
        "### 3.1 Sentiment Analysis with Keras Tokenizer using LSTM"
      ]
    },
    {
      "cell_type": "code",
      "metadata": {
        "id": "-Vl_5K88GkBl"
      },
      "source": [
        "X_train, X_test, y_train, y_test = train_test_split(\n",
        "    sequenced_dataset,\n",
        "    dataset_sentiment_df['sentiment_class'],\n",
        "    test_size = 0.40,\n",
        "    random_state = 42\n",
        "    )\n",
        "\n",
        "from keras.utils import to_categorical\n",
        "y_train = to_categorical(y_train)\n",
        "y_test = to_categorical(y_test)"
      ],
      "execution_count": 100,
      "outputs": []
    },
    {
      "cell_type": "code",
      "metadata": {
        "id": "dUZBxCbwEtuM"
      },
      "source": [
        "# define hyperparams here\n",
        "vocab_size = num_words + 1\n",
        "embed_dim = 128\n",
        "lstm_neurons = 196\n",
        "output_classes_count = 5"
      ],
      "execution_count": 106,
      "outputs": []
    },
    {
      "cell_type": "code",
      "metadata": {
        "id": "lUyZqTDkDP1X"
      },
      "source": [
        "input_1 = Input(shape=(phrase_max_length,))\n",
        "embedding_layer = Embedding(vocab_size, embed_dim)(input_1)\n",
        "lstm_layer_1 = LSTM(lstm_neurons)(embedding_layer)\n",
        "dense_layer_1 = Dense(output_classes_count, activation='softmax')(lstm_layer_1)\n",
        "model = Model(inputs=input_1, outputs=dense_layer_1)\n",
        "\n",
        "model.compile(loss='categorical_crossentropy', optimizer='adam', metrics=['accuracy'])"
      ],
      "execution_count": 107,
      "outputs": []
    },
    {
      "cell_type": "code",
      "metadata": {
        "colab": {
          "base_uri": "https://localhost:8080/"
        },
        "id": "J2hD4KLLGGgG",
        "outputId": "cf553bee-2f84-4fe8-ba58-18798f68016c"
      },
      "source": [
        "print(model.summary())"
      ],
      "execution_count": 108,
      "outputs": [
        {
          "output_type": "stream",
          "text": [
            "Model: \"functional_17\"\n",
            "_________________________________________________________________\n",
            "Layer (type)                 Output Shape              Param #   \n",
            "=================================================================\n",
            "input_11 (InputLayer)        [(None, 267)]             0         \n",
            "_________________________________________________________________\n",
            "embedding_10 (Embedding)     (None, 267, 128)          384128    \n",
            "_________________________________________________________________\n",
            "lstm_9 (LSTM)                (None, 196)               254800    \n",
            "_________________________________________________________________\n",
            "dense_9 (Dense)              (None, 5)                 985       \n",
            "=================================================================\n",
            "Total params: 639,913\n",
            "Trainable params: 639,913\n",
            "Non-trainable params: 0\n",
            "_________________________________________________________________\n",
            "None\n"
          ],
          "name": "stdout"
        }
      ]
    },
    {
      "cell_type": "code",
      "metadata": {
        "colab": {
          "base_uri": "https://localhost:8080/"
        },
        "id": "kPwexYZyNZQ5",
        "outputId": "bb597e54-be69-4dbf-ec61-9042d0741a03"
      },
      "source": [
        "history = model.fit(X_train, y_train, batch_size=128, epochs=10, verbose=1, validation_split=0.3)"
      ],
      "execution_count": 110,
      "outputs": [
        {
          "output_type": "stream",
          "text": [
            "Epoch 1/10\n",
            "785/785 [==============================] - 38s 49ms/step - loss: 1.3052 - accuracy: 0.4979 - val_loss: 1.2963 - val_accuracy: 0.5043\n",
            "Epoch 2/10\n",
            "785/785 [==============================] - 38s 49ms/step - loss: 1.3053 - accuracy: 0.4979 - val_loss: 1.2971 - val_accuracy: 0.5043\n",
            "Epoch 3/10\n",
            "785/785 [==============================] - 38s 49ms/step - loss: 1.3055 - accuracy: 0.4979 - val_loss: 1.2976 - val_accuracy: 0.5043\n",
            "Epoch 4/10\n",
            "785/785 [==============================] - 38s 49ms/step - loss: 1.3055 - accuracy: 0.4979 - val_loss: 1.2965 - val_accuracy: 0.5043\n",
            "Epoch 5/10\n",
            "785/785 [==============================] - 38s 49ms/step - loss: 1.3054 - accuracy: 0.4979 - val_loss: 1.2965 - val_accuracy: 0.5043\n",
            "Epoch 6/10\n",
            "785/785 [==============================] - 38s 49ms/step - loss: 1.3054 - accuracy: 0.4979 - val_loss: 1.2963 - val_accuracy: 0.5043\n",
            "Epoch 7/10\n",
            "785/785 [==============================] - 38s 49ms/step - loss: 1.3054 - accuracy: 0.4979 - val_loss: 1.2965 - val_accuracy: 0.5043\n",
            "Epoch 8/10\n",
            "785/785 [==============================] - 38s 49ms/step - loss: 1.3054 - accuracy: 0.4979 - val_loss: 1.2968 - val_accuracy: 0.5043\n",
            "Epoch 9/10\n",
            "785/785 [==============================] - 38s 49ms/step - loss: 1.3053 - accuracy: 0.4979 - val_loss: 1.2973 - val_accuracy: 0.5043\n",
            "Epoch 10/10\n",
            "785/785 [==============================] - 38s 49ms/step - loss: 1.3054 - accuracy: 0.4979 - val_loss: 1.2963 - val_accuracy: 0.5043\n"
          ],
          "name": "stdout"
        }
      ]
    },
    {
      "cell_type": "code",
      "metadata": {
        "colab": {
          "base_uri": "https://localhost:8080/"
        },
        "id": "6THsNx6XNijc",
        "outputId": "13cff4c9-7f46-4938-e7f5-4f037ae80fab"
      },
      "source": [
        "model.evaluate(X_test, y_test)"
      ],
      "execution_count": 111,
      "outputs": [
        {
          "output_type": "stream",
          "text": [
            "2991/2991 [==============================] - 22s 7ms/step - loss: 1.3021 - accuracy: 0.4999\n"
          ],
          "name": "stdout"
        },
        {
          "output_type": "execute_result",
          "data": {
            "text/plain": [
              "[1.3020628690719604, 0.49994251132011414]"
            ]
          },
          "metadata": {
            "tags": []
          },
          "execution_count": 111
        }
      ]
    },
    {
      "cell_type": "code",
      "metadata": {
        "colab": {
          "base_uri": "https://localhost:8080/",
          "height": 573
        },
        "id": "sK4bDOzhN935",
        "outputId": "5b27c1b9-95d2-4412-ce78-96a54f1cb5c4"
      },
      "source": [
        "import matplotlib.pyplot as plt\n",
        "\n",
        "plt.plot(history.history['accuracy'])\n",
        "plt.plot(history.history['val_accuracy'])\n",
        "\n",
        "plt.title('model accuracy')\n",
        "plt.ylabel('accuracy')\n",
        "plt.xlabel('epoch')\n",
        "plt.legend(['train','test'], loc='upper left')\n",
        "plt.show()\n",
        "\n",
        "plt.plot(history.history['loss'])\n",
        "plt.plot(history.history['val_loss'])\n",
        "\n",
        "plt.title('model loss')\n",
        "plt.ylabel('loss')\n",
        "plt.xlabel('epoch')\n",
        "plt.legend(['train','test'], loc='upper left')\n",
        "plt.show()"
      ],
      "execution_count": 114,
      "outputs": [
        {
          "output_type": "display_data",
          "data": {
            "image/png": "[encoded data removed]",
            "text/plain": [
              "<Figure size 432x288 with 1 Axes>"
            ]
          },
          "metadata": {
            "tags": [],
            "needs_background": "light"
          }
        },
        {
          "output_type": "display_data",
          "data": {
            "image/png": "[encoded data removed]",
            "text/plain": [
              "<Figure size 432x288 with 1 Axes>"
            ]
          },
          "metadata": {
            "tags": [],
            "needs_background": "light"
          }
        }
      ]
    },
    {
      "cell_type": "markdown",
      "metadata": {
        "id": "wduGETOYOjQw"
      },
      "source": [
        "#### integrating multiple input features"
      ]
    },
    {
      "cell_type": "code",
      "metadata": {
        "id": "mvuUzVvKOikh"
      },
      "source": [
        ""
      ],
      "execution_count": null,
      "outputs": []
    },
    {
      "cell_type": "code",
      "metadata": {
        "id": "fU6Eh0IpON3n"
      },
      "source": [
        ""
      ],
      "execution_count": null,
      "outputs": []
    }
  ]
}