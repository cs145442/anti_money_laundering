{
  "nbformat": 4,
  "nbformat_minor": 0,
  "metadata": {
    "colab": {
      "name": "generating _questions_with_cloze_translation.ipynb",
      "provenance": [],
      "authorship_tag": "ABX9TyM5rABgVxtVloWrRNs70RAb",
      "include_colab_link": true
    },
    "kernelspec": {
      "name": "python3",
      "display_name": "Python 3"
    }
  },
  "cells": [
    {
      "cell_type": "markdown",
      "metadata": {
        "id": "view-in-github",
        "colab_type": "text"
      },
      "source": [
        "<a href=\"https://colab.research.google.com/github/cs145442/nlp-projects-with-tf2/blob/master/generating__questions_with_cloze_translation.ipynb\" target=\"_parent\"><img src=\"https://colab.research.google.com/assets/colab-badge.svg\" alt=\"Open In Colab\"/></a>"
      ]
    },
    {
      "cell_type": "code",
      "metadata": {
        "id": "cLURm-4Di0bH",
        "colab_type": "code",
        "colab": {
          "base_uri": "https://localhost:8080/",
          "height": 1000
        },
        "outputId": "e643e249-700c-4ab2-de32-1711c77d0f3d"
      },
      "source": [
        "! git clone https://github.com/facebookresearch/DrQA.git\n",
        "! cd DrQA; pip install -r requirements.txt; python setup.py develop"
      ],
      "execution_count": 2,
      "outputs": [
        {
          "output_type": "stream",
          "text": [
            "Cloning into 'DrQA'...\n",
            "remote: Enumerating objects: 4, done.\u001b[K\n",
            "remote: Counting objects: 100% (4/4), done.\u001b[K\n",
            "remote: Compressing objects: 100% (4/4), done.\u001b[K\n",
            "remote: Total 260 (delta 0), reused 1 (delta 0), pack-reused 256\u001b[K\n",
            "Receiving objects: 100% (260/260), 561.74 KiB | 739.00 KiB/s, done.\n",
            "Resolving deltas: 100% (121/121), done.\n",
            "Requirement already satisfied: numpy in /usr/local/lib/python3.6/dist-packages (from -r requirements.txt (line 1)) (1.18.5)\n",
            "Requirement already satisfied: scikit-learn in /usr/local/lib/python3.6/dist-packages (from -r requirements.txt (line 2)) (0.22.2.post1)\n",
            "Requirement already satisfied: termcolor in /usr/local/lib/python3.6/dist-packages (from -r requirements.txt (line 3)) (1.1.0)\n",
            "Requirement already satisfied: regex in /usr/local/lib/python3.6/dist-packages (from -r requirements.txt (line 4)) (2019.12.20)\n",
            "Requirement already satisfied: tqdm in /usr/local/lib/python3.6/dist-packages (from -r requirements.txt (line 5)) (4.41.1)\n",
            "Requirement already satisfied: prettytable in /usr/local/lib/python3.6/dist-packages (from -r requirements.txt (line 6)) (0.7.2)\n",
            "Requirement already satisfied: scipy in /usr/local/lib/python3.6/dist-packages (from -r requirements.txt (line 7)) (1.4.1)\n",
            "Requirement already satisfied: nltk in /usr/local/lib/python3.6/dist-packages (from -r requirements.txt (line 8)) (3.2.5)\n",
            "Collecting elasticsearch\n",
            "\u001b[?25l  Downloading https://files.pythonhosted.org/packages/4a/33/d0ed32e077f7dc860153fa866fc52ac312886c9890962ff29379aa753dd1/elasticsearch-7.7.1-py2.py3-none-any.whl (99kB)\n",
            "\u001b[K     |████████████████████████████████| 102kB 2.4MB/s \n",
            "\u001b[?25hCollecting pexpect==4.2.1\n",
            "\u001b[?25l  Downloading https://files.pythonhosted.org/packages/5b/16/4859a0376be8b87bf3920b1f6e63b8a3c0ee42488babee07c87ca9316e03/pexpect-4.2.1-py2.py3-none-any.whl (55kB)\n",
            "\u001b[K     |████████████████████████████████| 61kB 5.2MB/s \n",
            "\u001b[?25hRequirement already satisfied: joblib>=0.11 in /usr/local/lib/python3.6/dist-packages (from scikit-learn->-r requirements.txt (line 2)) (0.15.1)\n",
            "Requirement already satisfied: six in /usr/local/lib/python3.6/dist-packages (from nltk->-r requirements.txt (line 8)) (1.12.0)\n",
            "Requirement already satisfied: urllib3>=1.21.1 in /usr/local/lib/python3.6/dist-packages (from elasticsearch->-r requirements.txt (line 9)) (1.24.3)\n",
            "Requirement already satisfied: certifi in /usr/local/lib/python3.6/dist-packages (from elasticsearch->-r requirements.txt (line 9)) (2020.4.5.1)\n",
            "Requirement already satisfied: ptyprocess>=0.5 in /usr/local/lib/python3.6/dist-packages (from pexpect==4.2.1->-r requirements.txt (line 10)) (0.6.0)\n",
            "Installing collected packages: elasticsearch, pexpect\n",
            "  Found existing installation: pexpect 4.8.0\n",
            "    Uninstalling pexpect-4.8.0:\n",
            "      Successfully uninstalled pexpect-4.8.0\n",
            "Successfully installed elasticsearch-7.7.1 pexpect-4.2.1\n",
            "running develop\n",
            "running egg_info\n",
            "creating drqa.egg-info\n",
            "writing drqa.egg-info/PKG-INFO\n",
            "writing dependency_links to drqa.egg-info/dependency_links.txt\n",
            "writing requirements to drqa.egg-info/requires.txt\n",
            "writing top-level names to drqa.egg-info/top_level.txt\n",
            "writing manifest file 'drqa.egg-info/SOURCES.txt'\n",
            "writing manifest file 'drqa.egg-info/SOURCES.txt'\n",
            "running build_ext\n",
            "Creating /usr/local/lib/python3.6/dist-packages/drqa.egg-link (link to .)\n",
            "Adding drqa 0.1.0 to easy-install.pth file\n",
            "\n",
            "Installed /content/DrQA\n",
            "Processing dependencies for drqa==0.1.0\n",
            "Searching for pexpect==4.2.1\n",
            "Best match: pexpect 4.2.1\n",
            "Adding pexpect 4.2.1 to easy-install.pth file\n",
            "\n",
            "Using /usr/local/lib/python3.6/dist-packages\n",
            "Searching for elasticsearch==7.7.1\n",
            "Best match: elasticsearch 7.7.1\n",
            "Adding elasticsearch 7.7.1 to easy-install.pth file\n",
            "\n",
            "Using /usr/local/lib/python3.6/dist-packages\n",
            "Searching for nltk==3.2.5\n",
            "Best match: nltk 3.2.5\n",
            "Adding nltk 3.2.5 to easy-install.pth file\n",
            "\n",
            "Using /usr/local/lib/python3.6/dist-packages\n",
            "Searching for scipy==1.4.1\n",
            "Best match: scipy 1.4.1\n",
            "Adding scipy 1.4.1 to easy-install.pth file\n",
            "\n",
            "Using /usr/local/lib/python3.6/dist-packages\n",
            "Searching for prettytable==0.7.2\n",
            "Best match: prettytable 0.7.2\n",
            "Adding prettytable 0.7.2 to easy-install.pth file\n",
            "\n",
            "Using /usr/local/lib/python3.6/dist-packages\n",
            "Searching for tqdm==4.41.1\n",
            "Best match: tqdm 4.41.1\n",
            "Adding tqdm 4.41.1 to easy-install.pth file\n",
            "Installing tqdm script to /usr/local/bin\n",
            "\n",
            "Using /usr/local/lib/python3.6/dist-packages\n",
            "Searching for regex==2019.12.20\n",
            "Best match: regex 2019.12.20\n",
            "Adding regex 2019.12.20 to easy-install.pth file\n",
            "\n",
            "Using /usr/local/lib/python3.6/dist-packages\n",
            "Searching for termcolor==1.1.0\n",
            "Best match: termcolor 1.1.0\n",
            "Adding termcolor 1.1.0 to easy-install.pth file\n",
            "\n",
            "Using /usr/local/lib/python3.6/dist-packages\n",
            "Searching for scikit-learn==0.22.2.post1\n",
            "Best match: scikit-learn 0.22.2.post1\n",
            "Adding scikit-learn 0.22.2.post1 to easy-install.pth file\n",
            "\n",
            "Using /usr/local/lib/python3.6/dist-packages\n",
            "Searching for numpy==1.18.5\n",
            "Best match: numpy 1.18.5\n",
            "Adding numpy 1.18.5 to easy-install.pth file\n",
            "Installing f2py script to /usr/local/bin\n",
            "Installing f2py3 script to /usr/local/bin\n",
            "Installing f2py3.6 script to /usr/local/bin\n",
            "\n",
            "Using /usr/local/lib/python3.6/dist-packages\n",
            "Searching for ptyprocess==0.6.0\n",
            "Best match: ptyprocess 0.6.0\n",
            "Adding ptyprocess 0.6.0 to easy-install.pth file\n",
            "\n",
            "Using /usr/local/lib/python3.6/dist-packages\n",
            "Searching for urllib3==1.24.3\n",
            "Best match: urllib3 1.24.3\n",
            "Adding urllib3 1.24.3 to easy-install.pth file\n",
            "\n",
            "Using /usr/local/lib/python3.6/dist-packages\n",
            "Searching for certifi==2020.4.5.1\n",
            "Best match: certifi 2020.4.5.1\n",
            "Adding certifi 2020.4.5.1 to easy-install.pth file\n",
            "\n",
            "Using /usr/local/lib/python3.6/dist-packages\n",
            "Searching for six==1.12.0\n",
            "Best match: six 1.12.0\n",
            "Adding six 1.12.0 to easy-install.pth file\n",
            "\n",
            "Using /usr/local/lib/python3.6/dist-packages\n",
            "Searching for joblib==0.15.1\n",
            "Best match: joblib 0.15.1\n",
            "Adding joblib 0.15.1 to easy-install.pth file\n",
            "\n",
            "Using /usr/local/lib/python3.6/dist-packages\n",
            "Finished processing dependencies for drqa==0.1.0\n"
          ],
          "name": "stdout"
        }
      ]
    },
    {
      "cell_type": "code",
      "metadata": {
        "id": "Qcn2OSEHi1dC",
        "colab_type": "code",
        "colab": {}
      },
      "source": [
        "# % cd DrQA\n",
        "import drqa.tokenizers\n",
        "drqa.tokenizers.set_default('corenlp_classpath', '/your/corenlp/classpath/*')"
      ],
      "execution_count": 0,
      "outputs": []
    },
    {
      "cell_type": "code",
      "metadata": {
        "id": "FQmP7DomjG11",
        "colab_type": "code",
        "colab": {
          "base_uri": "https://localhost:8080/",
          "height": 34
        },
        "outputId": "3245dd32-ff04-4691-81d3-48cc38b31ae4"
      },
      "source": [
        "! echo $CLASSPATH"
      ],
      "execution_count": 10,
      "outputs": [
        {
          "output_type": "stream",
          "text": [
            "\n"
          ],
          "name": "stdout"
        }
      ]
    },
    {
      "cell_type": "code",
      "metadata": {
        "id": "KmEOnJE1jWG7",
        "colab_type": "code",
        "colab": {
          "base_uri": "https://localhost:8080/",
          "height": 1000
        },
        "outputId": "e01efeb7-f2a7-4aec-c37d-835f928e8d44"
      },
      "source": [
        "! ./download.sh"
      ],
      "execution_count": 11,
      "outputs": [
        {
          "output_type": "stream",
          "text": [
            "DRQA_DATA not set; downloading to default path ('data').\n",
            "--2020-06-10 23:28:45--  https://dl.fbaipublicfiles.com/drqa/data.tar.gz\n",
            "Resolving dl.fbaipublicfiles.com (dl.fbaipublicfiles.com)... 104.22.74.142, 172.67.9.4, 104.22.75.142, ...\n",
            "Connecting to dl.fbaipublicfiles.com (dl.fbaipublicfiles.com)|104.22.74.142|:443... connected.\n",
            "HTTP request sent, awaiting response... 200 OK\n",
            "Length: 8104538193 (7.5G) [application/x-tar]\n",
            "Saving to: ‘./data.tar.gz’\n",
            "\n",
            "./data.tar.gz       100%[===================>]   7.55G  13.2MB/s    in 9m 53s  \n",
            "\n",
            "2020-06-10 23:38:39 (13.0 MB/s) - ‘./data.tar.gz’ saved [8104538193/8104538193]\n",
            "\n",
            "data/\n",
            "data/datasets/\n",
            "data/datasets/CuratedTrec-test.txt\n",
            "data/datasets/CuratedTrec-train.txt\n",
            "data/datasets/WikiMovies-entities.txt\n",
            "data/datasets/WikiMovies-test.txt\n",
            "data/datasets/WikiMovies-train.txt\n",
            "data/reader/\n",
            "data/reader/multitask.mdl\n",
            "data/reader/single.mdl\n",
            "data/wikipedia/\n",
            "data/wikipedia/docs-tfidf-ngram=2-hash=16777216-tokenizer=simple.npz\n",
            "data/wikipedia/docs.db\n",
            "--2020-06-10 23:45:49--  https://rajpurkar.github.io/SQuAD-explorer/dataset/train-v1.1.json\n",
            "Resolving rajpurkar.github.io (rajpurkar.github.io)... 185.199.110.153, 185.199.109.153, 185.199.108.153, ...\n",
            "Connecting to rajpurkar.github.io (rajpurkar.github.io)|185.199.110.153|:443... connected.\n",
            "HTTP request sent, awaiting response... 200 OK\n",
            "Length: 30288272 (29M) [application/json]\n",
            "Saving to: ‘./data/datasets/SQuAD-v1.1-train.json’\n",
            "\n",
            "./data/datasets/SQu 100%[===================>]  28.88M  38.7MB/s    in 0.7s    \n",
            "\n",
            "2020-06-10 23:45:50 (38.7 MB/s) - ‘./data/datasets/SQuAD-v1.1-train.json’ saved [30288272/30288272]\n",
            "\n",
            "--2020-06-10 23:45:51--  https://rajpurkar.github.io/SQuAD-explorer/dataset/dev-v1.1.json\n",
            "Resolving rajpurkar.github.io (rajpurkar.github.io)... 185.199.110.153, 185.199.109.153, 185.199.108.153, ...\n",
            "Connecting to rajpurkar.github.io (rajpurkar.github.io)|185.199.110.153|:443... connected.\n",
            "HTTP request sent, awaiting response... 200 OK\n",
            "Length: 4854279 (4.6M) [application/json]\n",
            "Saving to: ‘./data/datasets/SQuAD-v1.1-dev.json’\n",
            "\n",
            "./data/datasets/SQu 100%[===================>]   4.63M  12.1MB/s    in 0.4s    \n",
            "\n",
            "2020-06-10 23:45:52 (12.1 MB/s) - ‘./data/datasets/SQuAD-v1.1-dev.json’ saved [4854279/4854279]\n",
            "\n",
            "  % Total    % Received % Xferd  Average Speed   Time    Time     Time  Current\n",
            "                                 Dload  Upload   Total   Spent    Left  Speed\n",
            "100  3419    0  3419    0     0   2970      0 --:--:--  0:00:01 --:--:--  2970\n",
            "--2020-06-10 23:45:54--  http://nlp.stanford.edu/static/software/sempre/release-emnlp2013/lib/data/webquestions/dataset_11/webquestions.examples.train.json.bz2\n",
            "Resolving nlp.stanford.edu (nlp.stanford.edu)... 171.64.67.140\n",
            "Connecting to nlp.stanford.edu (nlp.stanford.edu)|171.64.67.140|:80... connected.\n",
            "HTTP request sent, awaiting response... 302 Found\n",
            "Location: https://nlp.stanford.edu/static/software/sempre/release-emnlp2013/lib/data/webquestions/dataset_11/webquestions.examples.train.json.bz2 [following]\n",
            "--2020-06-10 23:45:54--  https://nlp.stanford.edu/static/software/sempre/release-emnlp2013/lib/data/webquestions/dataset_11/webquestions.examples.train.json.bz2\n",
            "Connecting to nlp.stanford.edu (nlp.stanford.edu)|171.64.67.140|:443... connected.\n",
            "HTTP request sent, awaiting response... 200 OK\n",
            "Length: 100725 (98K) [application/x-bzip2]\n",
            "Saving to: ‘./data/datasets/WebQuestions-train.json.bz2’\n",
            "\n",
            "./data/datasets/Web 100%[===================>]  98.36K   181KB/s    in 0.5s    \n",
            "\n",
            "2020-06-10 23:45:55 (181 KB/s) - ‘./data/datasets/WebQuestions-train.json.bz2’ saved [100725/100725]\n",
            "\n",
            "--2020-06-10 23:45:55--  http://nlp.stanford.edu/static/software/sempre/release-emnlp2013/lib/data/webquestions/dataset_11/webquestions.examples.test.json.bz2\n",
            "Resolving nlp.stanford.edu (nlp.stanford.edu)... 171.64.67.140\n",
            "Connecting to nlp.stanford.edu (nlp.stanford.edu)|171.64.67.140|:80... connected.\n",
            "HTTP request sent, awaiting response... 302 Found\n",
            "Location: https://nlp.stanford.edu/static/software/sempre/release-emnlp2013/lib/data/webquestions/dataset_11/webquestions.examples.test.json.bz2 [following]\n",
            "--2020-06-10 23:45:56--  https://nlp.stanford.edu/static/software/sempre/release-emnlp2013/lib/data/webquestions/dataset_11/webquestions.examples.test.json.bz2\n",
            "Connecting to nlp.stanford.edu (nlp.stanford.edu)|171.64.67.140|:443... connected.\n",
            "HTTP request sent, awaiting response... 200 OK\n",
            "Length: 60689 (59K) [application/x-bzip2]\n",
            "Saving to: ‘./data/datasets/WebQuestions-test.json.bz2’\n",
            "\n",
            "./data/datasets/Web 100%[===================>]  59.27K   145KB/s    in 0.4s    \n",
            "\n",
            "2020-06-10 23:45:57 (145 KB/s) - ‘./data/datasets/WebQuestions-test.json.bz2’ saved [60689/60689]\n",
            "\n",
            "--2020-06-10 23:45:57--  https://dl.fbaipublicfiles.com/drqa/freebase-entities.txt.gz\n",
            "Resolving dl.fbaipublicfiles.com (dl.fbaipublicfiles.com)... 104.22.74.142, 104.22.75.142, 172.67.9.4, ...\n",
            "Connecting to dl.fbaipublicfiles.com (dl.fbaipublicfiles.com)|104.22.74.142|:443... connected.\n",
            "HTTP request sent, awaiting response... 200 OK\n",
            "Length: 16063580 (15M) [text/plain]\n",
            "Saving to: ‘./data/datasets/freebase-entities.txt.gz’\n",
            "\n",
            "./data/datasets/fre 100%[===================>]  15.32M  6.44MB/s    in 2.4s    \n",
            "\n",
            "2020-06-10 23:46:00 (6.44 MB/s) - ‘./data/datasets/freebase-entities.txt.gz’ saved [16063580/16063580]\n",
            "\n",
            "DrQA download done!\n"
          ],
          "name": "stdout"
        }
      ]
    },
    {
      "cell_type": "code",
      "metadata": {
        "id": "AQvN3qBQkIAD",
        "colab_type": "code",
        "colab": {}
      },
      "source": [
        ""
      ],
      "execution_count": 0,
      "outputs": []
    }
  ]
}